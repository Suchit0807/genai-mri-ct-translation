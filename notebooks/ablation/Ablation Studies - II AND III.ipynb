{
  "cells": [
    {
      "cell_type": "code",
      "execution_count": null,
      "metadata": {
        "colab": {
          "base_uri": "https://localhost:8080/"
        },
        "id": "vPjr1ionmB1G",
        "outputId": "70d239a0-22ba-4a6a-ad87-aaba94677774"
      },
      "outputs": [
        {
          "output_type": "stream",
          "name": "stdout",
          "text": [
            "Collecting pydicom\n",
            "  Downloading pydicom-2.4.4-py3-none-any.whl.metadata (7.8 kB)\n",
            "Requirement already satisfied: torchvision in /usr/local/lib/python3.10/dist-packages (0.18.1+cu121)\n",
            "Requirement already satisfied: tqdm in /usr/local/lib/python3.10/dist-packages (4.66.4)\n",
            "Requirement already satisfied: scikit-image in /usr/local/lib/python3.10/dist-packages (0.23.2)\n",
            "Requirement already satisfied: numpy in /usr/local/lib/python3.10/dist-packages (from torchvision) (1.26.4)\n",
            "Requirement already satisfied: torch==2.3.1 in /usr/local/lib/python3.10/dist-packages (from torchvision) (2.3.1+cu121)\n",
            "Requirement already satisfied: pillow!=8.3.*,>=5.3.0 in /usr/local/lib/python3.10/dist-packages (from torchvision) (9.4.0)\n",
            "Requirement already satisfied: filelock in /usr/local/lib/python3.10/dist-packages (from torch==2.3.1->torchvision) (3.15.4)\n",
            "Requirement already satisfied: typing-extensions>=4.8.0 in /usr/local/lib/python3.10/dist-packages (from torch==2.3.1->torchvision) (4.12.2)\n",
            "Requirement already satisfied: sympy in /usr/local/lib/python3.10/dist-packages (from torch==2.3.1->torchvision) (1.13.1)\n",
            "Requirement already satisfied: networkx in /usr/local/lib/python3.10/dist-packages (from torch==2.3.1->torchvision) (3.3)\n",
            "Requirement already satisfied: jinja2 in /usr/local/lib/python3.10/dist-packages (from torch==2.3.1->torchvision) (3.1.4)\n",
            "Requirement already satisfied: fsspec in /usr/local/lib/python3.10/dist-packages (from torch==2.3.1->torchvision) (2024.6.1)\n",
            "Collecting nvidia-cuda-nvrtc-cu12==12.1.105 (from torch==2.3.1->torchvision)\n",
            "  Using cached nvidia_cuda_nvrtc_cu12-12.1.105-py3-none-manylinux1_x86_64.whl.metadata (1.5 kB)\n",
            "Collecting nvidia-cuda-runtime-cu12==12.1.105 (from torch==2.3.1->torchvision)\n",
            "  Using cached nvidia_cuda_runtime_cu12-12.1.105-py3-none-manylinux1_x86_64.whl.metadata (1.5 kB)\n",
            "Collecting nvidia-cuda-cupti-cu12==12.1.105 (from torch==2.3.1->torchvision)\n",
            "  Using cached nvidia_cuda_cupti_cu12-12.1.105-py3-none-manylinux1_x86_64.whl.metadata (1.6 kB)\n",
            "Collecting nvidia-cudnn-cu12==8.9.2.26 (from torch==2.3.1->torchvision)\n",
            "  Using cached nvidia_cudnn_cu12-8.9.2.26-py3-none-manylinux1_x86_64.whl.metadata (1.6 kB)\n",
            "Collecting nvidia-cublas-cu12==12.1.3.1 (from torch==2.3.1->torchvision)\n",
            "  Using cached nvidia_cublas_cu12-12.1.3.1-py3-none-manylinux1_x86_64.whl.metadata (1.5 kB)\n",
            "Collecting nvidia-cufft-cu12==11.0.2.54 (from torch==2.3.1->torchvision)\n",
            "  Using cached nvidia_cufft_cu12-11.0.2.54-py3-none-manylinux1_x86_64.whl.metadata (1.5 kB)\n",
            "Collecting nvidia-curand-cu12==10.3.2.106 (from torch==2.3.1->torchvision)\n",
            "  Using cached nvidia_curand_cu12-10.3.2.106-py3-none-manylinux1_x86_64.whl.metadata (1.5 kB)\n",
            "Collecting nvidia-cusolver-cu12==11.4.5.107 (from torch==2.3.1->torchvision)\n",
            "  Using cached nvidia_cusolver_cu12-11.4.5.107-py3-none-manylinux1_x86_64.whl.metadata (1.6 kB)\n",
            "Collecting nvidia-cusparse-cu12==12.1.0.106 (from torch==2.3.1->torchvision)\n",
            "  Using cached nvidia_cusparse_cu12-12.1.0.106-py3-none-manylinux1_x86_64.whl.metadata (1.6 kB)\n",
            "Collecting nvidia-nccl-cu12==2.20.5 (from torch==2.3.1->torchvision)\n",
            "  Using cached nvidia_nccl_cu12-2.20.5-py3-none-manylinux2014_x86_64.whl.metadata (1.8 kB)\n",
            "Collecting nvidia-nvtx-cu12==12.1.105 (from torch==2.3.1->torchvision)\n",
            "  Using cached nvidia_nvtx_cu12-12.1.105-py3-none-manylinux1_x86_64.whl.metadata (1.7 kB)\n",
            "Requirement already satisfied: triton==2.3.1 in /usr/local/lib/python3.10/dist-packages (from torch==2.3.1->torchvision) (2.3.1)\n",
            "Collecting nvidia-nvjitlink-cu12 (from nvidia-cusolver-cu12==11.4.5.107->torch==2.3.1->torchvision)\n",
            "  Downloading nvidia_nvjitlink_cu12-12.5.82-py3-none-manylinux2014_x86_64.whl.metadata (1.5 kB)\n",
            "Requirement already satisfied: scipy>=1.9 in /usr/local/lib/python3.10/dist-packages (from scikit-image) (1.13.1)\n",
            "Requirement already satisfied: imageio>=2.33 in /usr/local/lib/python3.10/dist-packages (from scikit-image) (2.34.2)\n",
            "Requirement already satisfied: tifffile>=2022.8.12 in /usr/local/lib/python3.10/dist-packages (from scikit-image) (2024.7.24)\n",
            "Requirement already satisfied: packaging>=21 in /usr/local/lib/python3.10/dist-packages (from scikit-image) (24.1)\n",
            "Requirement already satisfied: lazy-loader>=0.4 in /usr/local/lib/python3.10/dist-packages (from scikit-image) (0.4)\n",
            "Requirement already satisfied: MarkupSafe>=2.0 in /usr/local/lib/python3.10/dist-packages (from jinja2->torch==2.3.1->torchvision) (2.1.5)\n",
            "Requirement already satisfied: mpmath<1.4,>=1.1.0 in /usr/local/lib/python3.10/dist-packages (from sympy->torch==2.3.1->torchvision) (1.3.0)\n",
            "Downloading pydicom-2.4.4-py3-none-any.whl (1.8 MB)\n",
            "\u001b[2K   \u001b[90m━━━━━━━━━━━━━━━━━━━━━━━━━━━━━━━━━━━━━━━━\u001b[0m \u001b[32m1.8/1.8 MB\u001b[0m \u001b[31m71.3 MB/s\u001b[0m eta \u001b[36m0:00:00\u001b[0m\n",
            "\u001b[?25hUsing cached nvidia_cublas_cu12-12.1.3.1-py3-none-manylinux1_x86_64.whl (410.6 MB)\n",
            "Using cached nvidia_cuda_cupti_cu12-12.1.105-py3-none-manylinux1_x86_64.whl (14.1 MB)\n",
            "Using cached nvidia_cuda_nvrtc_cu12-12.1.105-py3-none-manylinux1_x86_64.whl (23.7 MB)\n",
            "Using cached nvidia_cuda_runtime_cu12-12.1.105-py3-none-manylinux1_x86_64.whl (823 kB)\n",
            "Using cached nvidia_cudnn_cu12-8.9.2.26-py3-none-manylinux1_x86_64.whl (731.7 MB)\n",
            "Using cached nvidia_cufft_cu12-11.0.2.54-py3-none-manylinux1_x86_64.whl (121.6 MB)\n",
            "Using cached nvidia_curand_cu12-10.3.2.106-py3-none-manylinux1_x86_64.whl (56.5 MB)\n",
            "Using cached nvidia_cusolver_cu12-11.4.5.107-py3-none-manylinux1_x86_64.whl (124.2 MB)\n",
            "Using cached nvidia_cusparse_cu12-12.1.0.106-py3-none-manylinux1_x86_64.whl (196.0 MB)\n",
            "Using cached nvidia_nccl_cu12-2.20.5-py3-none-manylinux2014_x86_64.whl (176.2 MB)\n",
            "Using cached nvidia_nvtx_cu12-12.1.105-py3-none-manylinux1_x86_64.whl (99 kB)\n",
            "Downloading nvidia_nvjitlink_cu12-12.5.82-py3-none-manylinux2014_x86_64.whl (21.3 MB)\n",
            "\u001b[2K   \u001b[90m━━━━━━━━━━━━━━━━━━━━━━━━━━━━━━━━━━━━━━━━\u001b[0m \u001b[32m21.3/21.3 MB\u001b[0m \u001b[31m22.6 MB/s\u001b[0m eta \u001b[36m0:00:00\u001b[0m\n",
            "\u001b[?25hInstalling collected packages: pydicom, nvidia-nvtx-cu12, nvidia-nvjitlink-cu12, nvidia-nccl-cu12, nvidia-curand-cu12, nvidia-cufft-cu12, nvidia-cuda-runtime-cu12, nvidia-cuda-nvrtc-cu12, nvidia-cuda-cupti-cu12, nvidia-cublas-cu12, nvidia-cusparse-cu12, nvidia-cudnn-cu12, nvidia-cusolver-cu12\n",
            "Successfully installed nvidia-cublas-cu12-12.1.3.1 nvidia-cuda-cupti-cu12-12.1.105 nvidia-cuda-nvrtc-cu12-12.1.105 nvidia-cuda-runtime-cu12-12.1.105 nvidia-cudnn-cu12-8.9.2.26 nvidia-cufft-cu12-11.0.2.54 nvidia-curand-cu12-10.3.2.106 nvidia-cusolver-cu12-11.4.5.107 nvidia-cusparse-cu12-12.1.0.106 nvidia-nccl-cu12-2.20.5 nvidia-nvjitlink-cu12-12.5.82 nvidia-nvtx-cu12-12.1.105 pydicom-2.4.4\n"
          ]
        }
      ],
      "source": [
        "!pip install pydicom torchvision tqdm scikit-image"
      ]
    },
    {
      "cell_type": "code",
      "execution_count": null,
      "metadata": {
        "colab": {
          "base_uri": "https://localhost:8080/"
        },
        "id": "bswB2TIwmsgH",
        "outputId": "23db4d30-6a1f-4c61-b3a7-bd89a1904715"
      },
      "outputs": [
        {
          "output_type": "stream",
          "name": "stdout",
          "text": [
            "Mounted at /content/drive\n"
          ]
        }
      ],
      "source": [
        "import os\n",
        "from google.colab import drive\n",
        "drive.mount('/content/drive')"
      ]
    },
    {
      "cell_type": "code",
      "execution_count": null,
      "metadata": {
        "id": "i9rM9XozmDY2"
      },
      "outputs": [],
      "source": [
        "import pydicom\n",
        "import cv2\n",
        "import numpy as np\n",
        "import torch\n",
        "from glob import glob\n",
        "from torch.utils.data import Dataset, DataLoader\n",
        "from sklearn.model_selection import train_test_split\n",
        "import torchvision.transforms as transforms\n"
      ]
    },
    {
      "cell_type": "code",
      "execution_count": null,
      "metadata": {
        "id": "XiH6lCCzmExF"
      },
      "outputs": [],
      "source": [
        "def load_dicom_image(filepath):\n",
        "    dicom = pydicom.dcmread(filepath)\n",
        "    img = dicom.pixel_array\n",
        "    img = img[:, :, 0] if len(img.shape) == 3 else img\n",
        "    img_resized = cv2.resize(img, (256, 256))\n",
        "    img_normalized = img_resized / img_resized.max()\n",
        "    return img_normalized.astype(np.float32)\n",
        "\n",
        "def load_dicom_mask(filepath):\n",
        "    dicom = pydicom.dcmread(filepath)\n",
        "    mask = dicom.pixel_array\n",
        "    mask = mask[:, :, 0] if len(mask.shape) == 3 else mask\n",
        "    mask_resized = cv2.resize(mask, (256, 256))\n",
        "    mask_binary = (mask_resized > 50).astype(np.float32)\n",
        "    return mask_binary\n"
      ]
    },
    {
      "cell_type": "code",
      "execution_count": null,
      "metadata": {
        "id": "UWrU84b8mGOr"
      },
      "outputs": [],
      "source": [
        "class MRCTDataset(Dataset):\n",
        "    def __init__(self, image_paths, mask_paths, transform=None):\n",
        "        self.image_paths = image_paths\n",
        "        self.mask_paths = mask_paths\n",
        "        self.transform = transform\n",
        "\n",
        "    def __len__(self):\n",
        "        return len(self.image_paths)\n",
        "\n",
        "    def __getitem__(self, idx):\n",
        "        image = load_dicom_image(self.image_paths[idx])\n",
        "        mask = load_dicom_mask(self.mask_paths[idx])\n",
        "        if self.transform:\n",
        "            image = self.transform(image)\n",
        "            mask = torch.tensor(mask, dtype=torch.float32).unsqueeze(0)  # Add channel dimension\n",
        "        return image, mask\n"
      ]
    },
    {
      "cell_type": "code",
      "execution_count": null,
      "metadata": {
        "id": "DNP_RjRImIFu"
      },
      "outputs": [],
      "source": [
        "# Paths to datasets\n",
        "root_dir = '/content/drive/MyDrive/z4wc364g79-1/JUH_MR-CT_dataset'\n",
        "mr_image_paths = sorted(glob(os.path.join(root_dir, 'MR/image_MR/*.dcm')))\n",
        "mr_mask_paths = sorted(glob(os.path.join(root_dir, 'MR/mask_MR/*.dcm')))\n",
        "ct_image_paths = sorted(glob(os.path.join(root_dir, 'CT/image_CT/*.dcm')))\n",
        "ct_mask_paths = sorted(glob(os.path.join(root_dir, 'CT/mask_CT/*.dcm')))\n",
        "\n",
        "# Split dataset into training and validation sets\n",
        "train_mr_image_paths, val_mr_image_paths, train_mr_mask_paths, val_mr_mask_paths = train_test_split(\n",
        "    mr_image_paths, mr_mask_paths, test_size=0.2, random_state=42\n",
        ")\n",
        "train_ct_image_paths, val_ct_image_paths, train_ct_mask_paths, val_ct_mask_paths = train_test_split(\n",
        "    ct_image_paths, ct_mask_paths, test_size=0.2, random_state=42\n",
        ")\n"
      ]
    },
    {
      "cell_type": "code",
      "execution_count": null,
      "metadata": {
        "colab": {
          "base_uri": "https://localhost:8080/"
        },
        "id": "Jjlzvk2LmKsM",
        "outputId": "bbeebedd-fd9b-4d3b-9aae-5b5690eb686b"
      },
      "outputs": [
        {
          "output_type": "stream",
          "name": "stdout",
          "text": [
            "Number of augmented MRI images: 2880\n",
            "Number of augmented CT images: 2800\n"
          ]
        }
      ],
      "source": [
        "# Define augmentation transformations\n",
        "augmentation_transforms = transforms.Compose([\n",
        "    transforms.ToTensor(),\n",
        "    transforms.RandomRotation(30),\n",
        "    transforms.RandomHorizontalFlip(),\n",
        "    transforms.RandomVerticalFlip(),\n",
        "    transforms.Normalize(mean=[0.5], std=[0.5])\n",
        "])\n",
        "\n",
        "# Parameters\n",
        "num_augmentations_mri = 40  # For around 2500 images\n",
        "num_augmentations_ct = 40  # For around 2500 images\n",
        "\n",
        "# Custom dataset class to apply augmentations multiple times\n",
        "class AugmentedDataset(Dataset):\n",
        "    def __init__(self, image_paths, mask_paths, transform, num_augmentations):\n",
        "        self.image_paths = image_paths\n",
        "        self.mask_paths = mask_paths\n",
        "        self.transform = transform\n",
        "        self.num_augmentations = num_augmentations\n",
        "\n",
        "    def __len__(self):\n",
        "        return len(self.image_paths) * self.num_augmentations\n",
        "\n",
        "    def __getitem__(self, idx):\n",
        "        original_idx = idx % len(self.image_paths)\n",
        "        image = load_dicom_image(self.image_paths[original_idx])\n",
        "        mask = load_dicom_mask(self.mask_paths[original_idx])\n",
        "\n",
        "        if self.transform:\n",
        "            augmented = self.transform(image)\n",
        "            mask = torch.tensor(mask, dtype=torch.float32).unsqueeze(0)  # Add channel dimension\n",
        "        return augmented, mask\n",
        "\n",
        "# Create augmented datasets\n",
        "augmented_mri_dataset = AugmentedDataset(train_mr_image_paths, train_mr_mask_paths, augmentation_transforms, num_augmentations_mri)\n",
        "augmented_ct_dataset = AugmentedDataset(train_ct_image_paths, train_ct_mask_paths, augmentation_transforms, num_augmentations_ct)\n",
        "\n",
        "# Create DataLoaders\n",
        "batch_size = 8\n",
        "augmented_mri_dataloader = DataLoader(augmented_mri_dataset, batch_size=batch_size, shuffle=True, num_workers=4)\n",
        "augmented_ct_dataloader = DataLoader(augmented_ct_dataset, batch_size=batch_size, shuffle=True, num_workers=4)\n",
        "\n",
        "# Check dataset sizes\n",
        "print(f\"Number of augmented MRI images: {len(augmented_mri_dataset)}\")\n",
        "print(f\"Number of augmented CT images: {len(augmented_ct_dataset)}\")\n"
      ]
    },
    {
      "cell_type": "code",
      "execution_count": null,
      "metadata": {
        "id": "ONsSu2uVmMpa"
      },
      "outputs": [],
      "source": [
        "# Create validation datasets without augmentation\n",
        "simple_transform = transforms.Compose([\n",
        "    transforms.ToTensor(),\n",
        "    transforms.Normalize(mean=[0.5], std=[0.5])\n",
        "])\n",
        "\n",
        "val_mr_dataset = MRCTDataset(val_mr_image_paths, val_mr_mask_paths, transform=simple_transform)\n",
        "val_ct_dataset = MRCTDataset(val_ct_image_paths, val_ct_mask_paths, transform=simple_transform)\n",
        "\n",
        "val_mr_dataloader = DataLoader(val_mr_dataset, batch_size=batch_size, shuffle=False, num_workers=2)\n",
        "val_ct_dataloader = DataLoader(val_ct_dataset, batch_size=batch_size, shuffle=False, num_workers=2)\n"
      ]
    },
    {
      "cell_type": "code",
      "execution_count": null,
      "metadata": {
        "colab": {
          "base_uri": "https://localhost:8080/",
          "height": 1000
        },
        "id": "UHcQ3CbPmPOh",
        "outputId": "3b86172a-000f-4eb3-dc3b-5de0cb0d828d"
      },
      "outputs": [
        {
          "output_type": "display_data",
          "data": {
            "text/plain": [
              "<Figure size 1000x1000 with 16 Axes>"
            ],
            "image/png": "[encoded data removed]"
          },
          "metadata": {}
        },
        {
          "output_type": "display_data",
          "data": {
            "text/plain": [
              "<Figure size 1000x1000 with 16 Axes>"
            ],
            "image/png": "[encoded data removed]"
          },
          "metadata": {}
        }
      ],
      "source": [
        "import matplotlib.pyplot as plt\n",
        "\n",
        "# Visualization function\n",
        "def visualize_images(images, masks, titles):\n",
        "    fig, axes = plt.subplots(len(images), 2, figsize=(10, 10))\n",
        "    for i, (image, mask, title) in enumerate(zip(images, masks, titles)):\n",
        "        axes[i, 0].imshow(image.squeeze(), cmap='gray')\n",
        "        axes[i, 0].set_title(f'{title} Image')\n",
        "        axes[i, 1].imshow(mask.squeeze(), cmap='gray')\n",
        "        axes[i, 1].set_title(f'{title} Mask')\n",
        "        axes[i, 0].axis('off')\n",
        "        axes[i, 1].axis('off')\n",
        "    plt.tight_layout()\n",
        "    plt.show()\n",
        "\n",
        "# Function to visualize a batch of images and masks from a dataloader\n",
        "def visualize_batch(dataloader, title):\n",
        "    images, masks = next(iter(dataloader))\n",
        "    images = images.cpu().numpy()\n",
        "    masks = masks.cpu().numpy()\n",
        "    visualize_images(images, masks, [title] * len(images))\n",
        "\n",
        "# Visualize MRI images and masks\n",
        "visualize_batch(augmented_mri_dataloader, 'MRI')\n",
        "\n",
        "# Visualize CT images and masks\n",
        "visualize_batch(augmented_ct_dataloader, 'CT')\n"
      ]
    },
    {
      "cell_type": "code",
      "execution_count": null,
      "metadata": {
        "colab": {
          "base_uri": "https://localhost:8080/"
        },
        "id": "eAaJxU-emQ_m",
        "outputId": "cbf8e129-bf55-4497-dc8e-a1391640036a"
      },
      "outputs": [
        {
          "output_type": "stream",
          "name": "stdout",
          "text": [
            "Number of MRI images: 90\n",
            "Number of MRI masks: 90\n",
            "Number of CT images: 88\n",
            "Number of CT masks: 88\n",
            "Number of Training MRI images: 72\n",
            "Number of Training MRI masks: 72\n",
            "Number of Training CT images: 70\n",
            "Number of Training CT masks: 70\n",
            "Number of Validation MRI images: 18\n",
            "Number of Validation MRI masks: 18\n",
            "Number of Validation CT images: 18\n",
            "Number of Validation CT masks: 18\n"
          ]
        }
      ],
      "source": [
        "def check_consistency(image_paths, mask_paths, dataset_name):\n",
        "    print(f\"Number of {dataset_name} images: {len(image_paths)}\")\n",
        "    print(f\"Number of {dataset_name} masks: {len(mask_paths)}\")\n",
        "    assert len(image_paths) == len(mask_paths), f\"Mismatch in number of images and masks for {dataset_name}\"\n",
        "\n",
        "# Check consistency of original datasets\n",
        "check_consistency(mr_image_paths, mr_mask_paths, \"MRI\")\n",
        "check_consistency(ct_image_paths, ct_mask_paths, \"CT\")\n",
        "\n",
        "# Check consistency of training datasets\n",
        "check_consistency(train_mr_image_paths, train_mr_mask_paths, \"Training MRI\")\n",
        "check_consistency(train_ct_image_paths, train_ct_mask_paths, \"Training CT\")\n",
        "\n",
        "# Check consistency of validation datasets\n",
        "check_consistency(val_mr_image_paths, val_mr_mask_paths, \"Validation MRI\")\n",
        "check_consistency(val_ct_image_paths, val_ct_mask_paths, \"Validation CT\")\n"
      ]
    },
    {
      "cell_type": "code",
      "execution_count": null,
      "metadata": {
        "colab": {
          "base_uri": "https://localhost:8080/"
        },
        "id": "J5h4_Kg8mTf-",
        "outputId": "076353b6-7398-46a6-a0d6-58c00fe7b3a3"
      },
      "outputs": [
        {
          "output_type": "stream",
          "name": "stdout",
          "text": [
            "Shape of Augmented MRI images: torch.Size([8, 1, 256, 256])\n",
            "Shape of Augmented MRI masks: torch.Size([8, 1, 256, 256])\n",
            "Shape of Augmented CT images: torch.Size([8, 1, 256, 256])\n",
            "Shape of Augmented CT masks: torch.Size([8, 1, 256, 256])\n",
            "Shape of Validation MRI images: torch.Size([8, 1, 256, 256])\n",
            "Shape of Validation MRI masks: torch.Size([8, 1, 256, 256])\n",
            "Shape of Validation CT images: torch.Size([8, 1, 256, 256])\n",
            "Shape of Validation CT masks: torch.Size([8, 1, 256, 256])\n"
          ]
        }
      ],
      "source": [
        "def check_image_sizes(dataloader, dataset_name):\n",
        "    images, masks = next(iter(dataloader))\n",
        "    print(f\"Shape of {dataset_name} images: {images.shape}\")\n",
        "    print(f\"Shape of {dataset_name} masks: {masks.shape}\")\n",
        "\n",
        "# Check image sizes for augmented datasets\n",
        "check_image_sizes(augmented_mri_dataloader, \"Augmented MRI\")\n",
        "check_image_sizes(augmented_ct_dataloader, \"Augmented CT\")\n",
        "\n",
        "# Check image sizes for validation datasets\n",
        "check_image_sizes(val_mr_dataloader, \"Validation MRI\")\n",
        "check_image_sizes(val_ct_dataloader, \"Validation CT\")\n"
      ]
    },
    {
      "cell_type": "markdown",
      "source": [
        "Step 1: Defining the CycleGAN architetcure for Image Synthesis.    \n",
        "\n",
        "Implementation of ResNet-based Generator and PatchGAN Discriminator.\n",
        "\n",
        "Ablation Study - II"
      ],
      "metadata": {
        "id": "_YOenAT66Ou4"
      }
    },
    {
      "cell_type": "code",
      "source": [
        "import torch\n",
        "import torch.nn as nn\n",
        "import torchvision.models as models\n",
        "\n",
        "# ResNet-based generator\n",
        "class ResNetGenerator(nn.Module):\n",
        "    def __init__(self, input_nc, output_nc):\n",
        "        super(ResNetGenerator, self).__init__()\n",
        "        model = models.resnet18(pretrained=True)\n",
        "        self.input_nc = input_nc\n",
        "        self.output_nc = output_nc\n",
        "\n",
        "        # Modify the first convolution layer to accept 1-channel input\n",
        "        if input_nc != 3:\n",
        "            self.model = model\n",
        "            self.model.conv1 = nn.Conv2d(input_nc, 64, kernel_size=7, stride=2, padding=3, bias=False)\n",
        "        else:\n",
        "            self.model = model\n",
        "\n",
        "        # Extract layers except the last fully connected layer\n",
        "        self.resnet_layers = nn.Sequential(*list(self.model.children())[:-2])\n",
        "\n",
        "        # Additional layers to upsample to the original image size\n",
        "        self.upsample_layers = nn.Sequential(\n",
        "            nn.ConvTranspose2d(512, 256, kernel_size=4, stride=2, padding=1),\n",
        "            nn.BatchNorm2d(256),\n",
        "            nn.ReLU(True),\n",
        "            nn.ConvTranspose2d(256, 128, kernel_size=4, stride=2, padding=1),\n",
        "            nn.BatchNorm2d(128),\n",
        "            nn.ReLU(True),\n",
        "            nn.ConvTranspose2d(128, 64, kernel_size=4, stride=2, padding=1),\n",
        "            nn.BatchNorm2d(64),\n",
        "            nn.ReLU(True),\n",
        "            nn.ConvTranspose2d(64, 32, kernel_size=4, stride=2, padding=1),\n",
        "            nn.BatchNorm2d(32),\n",
        "            nn.ReLU(True),\n",
        "            nn.ConvTranspose2d(32, output_nc, kernel_size=4, stride=2, padding=1),\n",
        "            nn.Tanh()\n",
        "        )\n",
        "\n",
        "    def forward(self, x):\n",
        "        x = self.resnet_layers(x)\n",
        "        x = self.upsample_layers(x)\n",
        "        return x\n",
        "\n",
        "# PatchGAN discriminator\n",
        "class PatchGANDiscriminator(nn.Module):\n",
        "    def __init__(self, input_nc):\n",
        "        super(PatchGANDiscriminator, self).__init__()\n",
        "        self.model = nn.Sequential(\n",
        "            nn.Conv2d(input_nc, 64, kernel_size=4, stride=2, padding=1),\n",
        "            nn.LeakyReLU(0.2, inplace=True),\n",
        "            nn.Conv2d(64, 128, kernel_size=4, stride=2, padding=1),\n",
        "            nn.InstanceNorm2d(128),\n",
        "            nn.LeakyReLU(0.2, inplace=True),\n",
        "            nn.Conv2d(128, 256, kernel_size=4, stride=2, padding=1),\n",
        "            nn.InstanceNorm2d(256),\n",
        "            nn.LeakyReLU(0.2, inplace=True),\n",
        "            nn.Conv2d(256, 512, kernel_size=4, stride=2, padding=1),\n",
        "            nn.InstanceNorm2d(512),\n",
        "            nn.LeakyReLU(0.2, inplace=True),\n",
        "            nn.Conv2d(512, 1, kernel_size=4, stride=1, padding=1)\n",
        "        )\n",
        "\n",
        "    def forward(self, x):\n",
        "        return self.model(x)\n"
      ],
      "metadata": {
        "id": "J6JVh68jaGZn"
      },
      "execution_count": null,
      "outputs": []
    },
    {
      "cell_type": "code",
      "source": [
        "import torch\n",
        "import torch.nn as nn\n",
        "import torchvision.models as models\n",
        "device = torch.device(\"cuda\" if torch.cuda.is_available() else \"cpu\")\n",
        "# VGG-based feature extractor\n",
        "class VGGFeatureExtractor(nn.Module):\n",
        "    def __init__(self, layers):\n",
        "        super(VGGFeatureExtractor, self).__init__()\n",
        "        vgg = models.vgg19(pretrained=True).features\n",
        "        self.layers = layers\n",
        "        self.vgg = nn.ModuleList([vgg[i] for i in layers])\n",
        "\n",
        "    def forward(self, x):\n",
        "        features = []\n",
        "        for i, layer in enumerate(self.vgg):\n",
        "            x = layer(x)\n",
        "            if i in self.layers:\n",
        "                features.append(x)\n",
        "        return features\n",
        "\n",
        "# Instantiate the feature extractor\n",
        "feature_extractor = VGGFeatureExtractor([3, 8, 17]).to(device)\n",
        "\n"
      ],
      "metadata": {
        "colab": {
          "base_uri": "https://localhost:8080/"
        },
        "id": "fhCK3QKj_8nF",
        "outputId": "134e1d72-3211-433c-fcea-1c0a27eaa4f1"
      },
      "execution_count": null,
      "outputs": [
        {
          "output_type": "stream",
          "name": "stderr",
          "text": [
            "/usr/local/lib/python3.10/dist-packages/torchvision/models/_utils.py:208: UserWarning: The parameter 'pretrained' is deprecated since 0.13 and may be removed in the future, please use 'weights' instead.\n",
            "  warnings.warn(\n",
            "/usr/local/lib/python3.10/dist-packages/torchvision/models/_utils.py:223: UserWarning: Arguments other than a weight enum or `None` for 'weights' are deprecated since 0.13 and may be removed in the future. The current behavior is equivalent to passing `weights=VGG19_Weights.IMAGENET1K_V1`. You can also use `weights=VGG19_Weights.DEFAULT` to get the most up-to-date weights.\n",
            "  warnings.warn(msg)\n"
          ]
        }
      ]
    },
    {
      "cell_type": "code",
      "source": [
        "!pip install torchmetrics"
      ],
      "metadata": {
        "colab": {
          "base_uri": "https://localhost:8080/"
        },
        "id": "azUNnl5JhsUS",
        "outputId": "ce7eeacc-755c-4ef7-92f9-53457259c3e7"
      },
      "execution_count": null,
      "outputs": [
        {
          "output_type": "stream",
          "name": "stdout",
          "text": [
            "Requirement already satisfied: torchmetrics in /usr/local/lib/python3.10/dist-packages (1.4.0.post0)\n",
            "Requirement already satisfied: numpy>1.20.0 in /usr/local/lib/python3.10/dist-packages (from torchmetrics) (1.26.4)\n",
            "Requirement already satisfied: packaging>17.1 in /usr/local/lib/python3.10/dist-packages (from torchmetrics) (24.1)\n",
            "Requirement already satisfied: torch>=1.10.0 in /usr/local/lib/python3.10/dist-packages (from torchmetrics) (2.3.1+cu121)\n",
            "Requirement already satisfied: lightning-utilities>=0.8.0 in /usr/local/lib/python3.10/dist-packages (from torchmetrics) (0.11.6)\n",
            "Requirement already satisfied: setuptools in /usr/local/lib/python3.10/dist-packages (from lightning-utilities>=0.8.0->torchmetrics) (71.0.4)\n",
            "Requirement already satisfied: typing-extensions in /usr/local/lib/python3.10/dist-packages (from lightning-utilities>=0.8.0->torchmetrics) (4.12.2)\n",
            "Requirement already satisfied: filelock in /usr/local/lib/python3.10/dist-packages (from torch>=1.10.0->torchmetrics) (3.15.4)\n",
            "Requirement already satisfied: sympy in /usr/local/lib/python3.10/dist-packages (from torch>=1.10.0->torchmetrics) (1.13.1)\n",
            "Requirement already satisfied: networkx in /usr/local/lib/python3.10/dist-packages (from torch>=1.10.0->torchmetrics) (3.3)\n",
            "Requirement already satisfied: jinja2 in /usr/local/lib/python3.10/dist-packages (from torch>=1.10.0->torchmetrics) (3.1.4)\n",
            "Requirement already satisfied: fsspec in /usr/local/lib/python3.10/dist-packages (from torch>=1.10.0->torchmetrics) (2024.6.1)\n",
            "Requirement already satisfied: nvidia-cuda-nvrtc-cu12==12.1.105 in /usr/local/lib/python3.10/dist-packages (from torch>=1.10.0->torchmetrics) (12.1.105)\n",
            "Requirement already satisfied: nvidia-cuda-runtime-cu12==12.1.105 in /usr/local/lib/python3.10/dist-packages (from torch>=1.10.0->torchmetrics) (12.1.105)\n",
            "Requirement already satisfied: nvidia-cuda-cupti-cu12==12.1.105 in /usr/local/lib/python3.10/dist-packages (from torch>=1.10.0->torchmetrics) (12.1.105)\n",
            "Requirement already satisfied: nvidia-cudnn-cu12==8.9.2.26 in /usr/local/lib/python3.10/dist-packages (from torch>=1.10.0->torchmetrics) (8.9.2.26)\n",
            "Requirement already satisfied: nvidia-cublas-cu12==12.1.3.1 in /usr/local/lib/python3.10/dist-packages (from torch>=1.10.0->torchmetrics) (12.1.3.1)\n",
            "Requirement already satisfied: nvidia-cufft-cu12==11.0.2.54 in /usr/local/lib/python3.10/dist-packages (from torch>=1.10.0->torchmetrics) (11.0.2.54)\n",
            "Requirement already satisfied: nvidia-curand-cu12==10.3.2.106 in /usr/local/lib/python3.10/dist-packages (from torch>=1.10.0->torchmetrics) (10.3.2.106)\n",
            "Requirement already satisfied: nvidia-cusolver-cu12==11.4.5.107 in /usr/local/lib/python3.10/dist-packages (from torch>=1.10.0->torchmetrics) (11.4.5.107)\n",
            "Requirement already satisfied: nvidia-cusparse-cu12==12.1.0.106 in /usr/local/lib/python3.10/dist-packages (from torch>=1.10.0->torchmetrics) (12.1.0.106)\n",
            "Requirement already satisfied: nvidia-nccl-cu12==2.20.5 in /usr/local/lib/python3.10/dist-packages (from torch>=1.10.0->torchmetrics) (2.20.5)\n",
            "Requirement already satisfied: nvidia-nvtx-cu12==12.1.105 in /usr/local/lib/python3.10/dist-packages (from torch>=1.10.0->torchmetrics) (12.1.105)\n",
            "Requirement already satisfied: triton==2.3.1 in /usr/local/lib/python3.10/dist-packages (from torch>=1.10.0->torchmetrics) (2.3.1)\n",
            "Requirement already satisfied: nvidia-nvjitlink-cu12 in /usr/local/lib/python3.10/dist-packages (from nvidia-cusolver-cu12==11.4.5.107->torch>=1.10.0->torchmetrics) (12.5.82)\n",
            "Requirement already satisfied: MarkupSafe>=2.0 in /usr/local/lib/python3.10/dist-packages (from jinja2->torch>=1.10.0->torchmetrics) (2.1.5)\n",
            "Requirement already satisfied: mpmath<1.4,>=1.1.0 in /usr/local/lib/python3.10/dist-packages (from sympy->torch>=1.10.0->torchmetrics) (1.3.0)\n"
          ]
        }
      ]
    },
    {
      "cell_type": "markdown",
      "source": [
        "Ablation Study - III (Incorporating SSIM Loss in the Training Loop)"
      ],
      "metadata": {
        "id": "HqqluhxBgYV6"
      }
    },
    {
      "cell_type": "code",
      "source": [
        "import itertools\n",
        "import torch\n",
        "import torch.nn as nn\n",
        "import torch.optim as optim\n",
        "from torchvision import transforms\n",
        "from torchmetrics.functional import structural_similarity_index_measure\n",
        "from tqdm import tqdm\n",
        "\n",
        "# Function to compute feature adaptation loss\n",
        "def compute_feature_adaptation_loss(real_img, fake_img, feature_extractor):\n",
        "    real_features = feature_extractor(real_img)\n",
        "    fake_features = feature_extractor(fake_img)\n",
        "    loss = 0\n",
        "    for real_feature, fake_feature in zip(real_features, fake_features):\n",
        "        loss += nn.functional.l1_loss(fake_feature, real_feature)\n",
        "    return loss\n",
        "\n",
        "# SSIM loss function\n",
        "def ssim_loss(img1, img2):\n",
        "    return 1 - structural_similarity_index_measure(img1, img2, data_range=1.0)\n",
        "\n",
        "# Initialize models\n",
        "G_MRI_to_CT = ResNetGenerator(input_nc=1, output_nc=1).to(device)\n",
        "G_CT_to_MRI = ResNetGenerator(input_nc=1, output_nc=1).to(device)\n",
        "D_MRI = PatchGANDiscriminator(input_nc=1).to(device)\n",
        "D_CT = PatchGANDiscriminator(input_nc=1).to(device)\n",
        "\n",
        "# Define loss functions\n",
        "adversarial_loss = nn.MSELoss().to(device)\n",
        "cycle_loss = nn.L1Loss().to(device)\n",
        "identity_loss = nn.L1Loss().to(device)\n",
        "\n",
        "# Define optimizers\n",
        "optimizer_G = torch.optim.Adam(itertools.chain(G_MRI_to_CT.parameters(), G_CT_to_MRI.parameters()), lr=0.0002, betas=(0.5, 0.999), weight_decay=1e-5)\n",
        "optimizer_D_MRI = torch.optim.Adam(D_MRI.parameters(), lr=0.0002, betas=(0.5, 0.999), weight_decay=1e-5)\n",
        "optimizer_D_CT = torch.optim.Adam(D_CT.parameters(), lr=0.0002, betas=(0.5, 0.999), weight_decay=1e-5)\n",
        "\n",
        "# Learning rate schedulers\n",
        "lr_scheduler_G = torch.optim.lr_scheduler.LambdaLR(optimizer_G, lr_lambda=lambda epoch: 1.0 - max(0, epoch - 100) / 100)\n",
        "lr_scheduler_D_MRI = torch.optim.lr_scheduler.LambdaLR(optimizer_D_MRI, lr_lambda=lambda epoch: 1.0 - max(0, epoch - 100) / 100)\n",
        "lr_scheduler_D_CT = torch.optim.lr_scheduler.LambdaLR(optimizer_D_CT, lr_lambda=lambda epoch: 1.0 - max(0, epoch - 100) / 100)\n",
        "\n",
        "# Training loop\n",
        "num_epochs = 150\n",
        "lambda_feature = 10  # Weight for feature adaptation loss\n",
        "lambda_ssim = 0.5 # Weight for SSIM loss\n",
        "\n",
        "for epoch in range(num_epochs):\n",
        "    for i, ((real_mri, _), (real_ct, _)) in tqdm(enumerate(zip(augmented_mri_dataloader, augmented_ct_dataloader)), total=min(len(augmented_mri_dataloader), len(augmented_ct_dataloader))):\n",
        "        # Ensure same batch size\n",
        "        if real_mri.size(0) != real_ct.size(0):\n",
        "            min_batch_size = min(real_mri.size(0), real_ct.size(0))\n",
        "            real_mri = real_mri[:min_batch_size]\n",
        "            real_ct = real_ct[:min_batch_size]\n",
        "\n",
        "        # Transfer to GPU if available\n",
        "        real_mri = real_mri.to(device)\n",
        "        real_ct = real_ct.to(device)\n",
        "\n",
        "        # Generators forward pass\n",
        "        fake_ct = G_MRI_to_CT(real_mri)\n",
        "        recov_mri = G_CT_to_MRI(fake_ct)\n",
        "        fake_mri = G_CT_to_MRI(real_ct)\n",
        "        recov_ct = G_MRI_to_CT(fake_mri)\n",
        "\n",
        "        # Training Discriminators\n",
        "        optimizer_D_MRI.zero_grad()\n",
        "        optimizer_D_CT.zero_grad()\n",
        "\n",
        "        # Real loss\n",
        "        loss_D_MRI_real = adversarial_loss(D_MRI(real_mri), torch.ones_like(D_MRI(real_mri)))\n",
        "        loss_D_CT_real = adversarial_loss(D_CT(real_ct), torch.ones_like(D_CT(real_ct)))\n",
        "\n",
        "        # Fake loss\n",
        "        loss_D_MRI_fake = adversarial_loss(D_MRI(fake_mri.detach()), torch.zeros_like(D_MRI(fake_mri)))\n",
        "        loss_D_CT_fake = adversarial_loss(D_CT(fake_ct.detach()), torch.zeros_like(D_CT(fake_ct)))\n",
        "\n",
        "        # Total discriminator loss\n",
        "        loss_D_MRI = (loss_D_MRI_real + loss_D_MRI_fake) * 0.5\n",
        "        loss_D_CT = (loss_D_CT_real + loss_D_CT_fake) * 0.5\n",
        "\n",
        "        loss_D_MRI.backward()\n",
        "        loss_D_CT.backward()\n",
        "        optimizer_D_MRI.step()\n",
        "        optimizer_D_CT.step()\n",
        "\n",
        "        # Training Generators\n",
        "        optimizer_G.zero_grad()\n",
        "\n",
        "        # Identity loss\n",
        "        loss_identity_MRI = identity_loss(G_CT_to_MRI(real_mri), real_mri)\n",
        "        loss_identity_CT = identity_loss(G_MRI_to_CT(real_ct), real_ct)\n",
        "\n",
        "        # Cycle consistency loss\n",
        "        loss_cycle_MRI = cycle_loss(recov_mri, real_mri)\n",
        "        loss_cycle_CT = cycle_loss(recov_ct, real_ct)\n",
        "\n",
        "        # Feature adaptation loss\n",
        "        real_mri_3ch = real_mri.repeat(1, 3, 1, 1)\n",
        "        fake_mri_3ch = fake_mri.repeat(1, 3, 1, 1)\n",
        "        real_ct_3ch = real_ct.repeat(1, 3, 1, 1)\n",
        "        fake_ct_3ch = fake_ct.repeat(1, 3, 1, 1)\n",
        "\n",
        "        feature_loss_MRI = compute_feature_adaptation_loss(real_mri_3ch, fake_mri_3ch, feature_extractor)\n",
        "        feature_loss_CT = compute_feature_adaptation_loss(real_ct_3ch, fake_ct_3ch, feature_extractor)\n",
        "\n",
        "        # SSIM loss\n",
        "        loss_ssim_MRI_to_CT = ssim_loss(fake_ct, real_ct)\n",
        "        loss_ssim_CT_to_MRI = ssim_loss(fake_mri, real_mri)\n",
        "\n",
        "        # Adversarial loss\n",
        "        loss_G_MRI_to_CT = adversarial_loss(D_CT(fake_ct), torch.ones_like(D_CT(fake_ct)))\n",
        "        loss_G_CT_to_MRI = adversarial_loss(D_MRI(fake_mri), torch.ones_like(D_MRI(fake_mri)))\n",
        "\n",
        "        # Total generator loss\n",
        "        loss_G = (loss_G_MRI_to_CT + loss_G_CT_to_MRI\n",
        "                  + 10.0 * (loss_cycle_MRI + loss_cycle_CT)\n",
        "                  + 5.0 * (loss_identity_MRI + loss_identity_CT)\n",
        "                  + lambda_feature * (feature_loss_MRI + feature_loss_CT)\n",
        "                  + lambda_ssim * (loss_ssim_MRI_to_CT + loss_ssim_CT_to_MRI))\n",
        "\n",
        "        loss_G.backward()\n",
        "        optimizer_G.step()\n",
        "\n",
        "    print(f\"Epoch [{epoch+1}/{num_epochs}] Loss_D_MRI: {loss_D_MRI.item()} Loss_D_CT: {loss_D_CT.item()} Loss_G: {loss_G.item()}\")\n",
        "\n",
        "    # Step learning rate schedulers\n",
        "    lr_scheduler_G.step()\n",
        "    lr_scheduler_D_MRI.step()\n",
        "    lr_scheduler_D_CT.step()\n"
      ],
      "metadata": {
        "colab": {
          "base_uri": "https://localhost:8080/"
        },
        "id": "rTEB1ikFjfNr",
        "outputId": "e6e59ec1-385b-4284-fc09-486189181c2a"
      },
      "execution_count": null,
      "outputs": [
        {
          "output_type": "stream",
          "name": "stderr",
          "text": [
            "100%|██████████| 350/350 [01:04<00:00,  5.40it/s]"
          ]
        },
        {
          "output_type": "stream",
          "name": "stdout",
          "text": [
            "Epoch [1/150] Loss_D_MRI: 0.14831705391407013 Loss_D_CT: 0.15868857502937317 Loss_G: 5.045848846435547\n"
          ]
        },
        {
          "output_type": "stream",
          "name": "stderr",
          "text": [
            "\n",
            "100%|██████████| 350/350 [01:04<00:00,  5.44it/s]"
          ]
        },
        {
          "output_type": "stream",
          "name": "stdout",
          "text": [
            "Epoch [2/150] Loss_D_MRI: 0.18788549304008484 Loss_D_CT: 0.18408328294754028 Loss_G: 4.730423450469971\n"
          ]
        },
        {
          "output_type": "stream",
          "name": "stderr",
          "text": [
            "\n",
            "100%|██████████| 350/350 [01:04<00:00,  5.43it/s]"
          ]
        },
        {
          "output_type": "stream",
          "name": "stdout",
          "text": [
            "Epoch [3/150] Loss_D_MRI: 0.20139282941818237 Loss_D_CT: 0.18995842337608337 Loss_G: 3.701744318008423\n"
          ]
        },
        {
          "output_type": "stream",
          "name": "stderr",
          "text": [
            "\n",
            "100%|██████████| 350/350 [01:04<00:00,  5.45it/s]"
          ]
        },
        {
          "output_type": "stream",
          "name": "stdout",
          "text": [
            "Epoch [4/150] Loss_D_MRI: 0.18649055063724518 Loss_D_CT: 0.2270510494709015 Loss_G: 3.841203212738037\n"
          ]
        },
        {
          "output_type": "stream",
          "name": "stderr",
          "text": [
            "\n",
            "100%|██████████| 350/350 [01:04<00:00,  5.45it/s]"
          ]
        },
        {
          "output_type": "stream",
          "name": "stdout",
          "text": [
            "Epoch [5/150] Loss_D_MRI: 0.2619236409664154 Loss_D_CT: 0.1900641769170761 Loss_G: 4.6256608963012695\n"
          ]
        },
        {
          "output_type": "stream",
          "name": "stderr",
          "text": [
            "\n",
            "100%|██████████| 350/350 [01:04<00:00,  5.44it/s]"
          ]
        },
        {
          "output_type": "stream",
          "name": "stdout",
          "text": [
            "Epoch [6/150] Loss_D_MRI: 0.2286570966243744 Loss_D_CT: 0.23846250772476196 Loss_G: 3.0699784755706787\n"
          ]
        },
        {
          "output_type": "stream",
          "name": "stderr",
          "text": [
            "\n",
            "100%|██████████| 350/350 [01:04<00:00,  5.44it/s]"
          ]
        },
        {
          "output_type": "stream",
          "name": "stdout",
          "text": [
            "Epoch [7/150] Loss_D_MRI: 0.2147587537765503 Loss_D_CT: 0.24165937304496765 Loss_G: 3.735051155090332\n"
          ]
        },
        {
          "output_type": "stream",
          "name": "stderr",
          "text": [
            "\n",
            "100%|██████████| 350/350 [01:04<00:00,  5.43it/s]"
          ]
        },
        {
          "output_type": "stream",
          "name": "stdout",
          "text": [
            "Epoch [8/150] Loss_D_MRI: 0.20362193882465363 Loss_D_CT: 0.19302132725715637 Loss_G: 3.749392032623291\n"
          ]
        },
        {
          "output_type": "stream",
          "name": "stderr",
          "text": [
            "\n",
            "100%|██████████| 350/350 [01:04<00:00,  5.44it/s]"
          ]
        },
        {
          "output_type": "stream",
          "name": "stdout",
          "text": [
            "Epoch [9/150] Loss_D_MRI: 0.18117240071296692 Loss_D_CT: 0.20247100293636322 Loss_G: 3.3865976333618164\n"
          ]
        },
        {
          "output_type": "stream",
          "name": "stderr",
          "text": [
            "\n",
            "100%|██████████| 350/350 [01:04<00:00,  5.43it/s]"
          ]
        },
        {
          "output_type": "stream",
          "name": "stdout",
          "text": [
            "Epoch [10/150] Loss_D_MRI: 0.23150628805160522 Loss_D_CT: 0.17723190784454346 Loss_G: 3.533708095550537\n"
          ]
        },
        {
          "output_type": "stream",
          "name": "stderr",
          "text": [
            "\n",
            "100%|██████████| 350/350 [01:04<00:00,  5.43it/s]"
          ]
        },
        {
          "output_type": "stream",
          "name": "stdout",
          "text": [
            "Epoch [11/150] Loss_D_MRI: 0.22360150516033173 Loss_D_CT: 0.21077755093574524 Loss_G: 3.4360947608947754\n"
          ]
        },
        {
          "output_type": "stream",
          "name": "stderr",
          "text": [
            "\n",
            "100%|██████████| 350/350 [01:04<00:00,  5.44it/s]"
          ]
        },
        {
          "output_type": "stream",
          "name": "stdout",
          "text": [
            "Epoch [12/150] Loss_D_MRI: 0.21450810134410858 Loss_D_CT: 0.2424796223640442 Loss_G: 3.143416166305542\n"
          ]
        },
        {
          "output_type": "stream",
          "name": "stderr",
          "text": [
            "\n",
            "100%|██████████| 350/350 [01:04<00:00,  5.43it/s]"
          ]
        },
        {
          "output_type": "stream",
          "name": "stdout",
          "text": [
            "Epoch [13/150] Loss_D_MRI: 0.2331620752811432 Loss_D_CT: 0.22558805346488953 Loss_G: 2.991015672683716\n"
          ]
        },
        {
          "output_type": "stream",
          "name": "stderr",
          "text": [
            "\n",
            "100%|██████████| 350/350 [01:04<00:00,  5.43it/s]"
          ]
        },
        {
          "output_type": "stream",
          "name": "stdout",
          "text": [
            "Epoch [14/150] Loss_D_MRI: 0.23098888993263245 Loss_D_CT: 0.2610938847064972 Loss_G: 3.777224540710449\n"
          ]
        },
        {
          "output_type": "stream",
          "name": "stderr",
          "text": [
            "\n",
            "100%|██████████| 350/350 [01:04<00:00,  5.44it/s]"
          ]
        },
        {
          "output_type": "stream",
          "name": "stdout",
          "text": [
            "Epoch [15/150] Loss_D_MRI: 0.22014421224594116 Loss_D_CT: 0.1628517359495163 Loss_G: 3.39700984954834\n"
          ]
        },
        {
          "output_type": "stream",
          "name": "stderr",
          "text": [
            "\n",
            "100%|██████████| 350/350 [01:04<00:00,  5.44it/s]"
          ]
        },
        {
          "output_type": "stream",
          "name": "stdout",
          "text": [
            "Epoch [16/150] Loss_D_MRI: 0.2178487628698349 Loss_D_CT: 0.258962482213974 Loss_G: 3.0693321228027344\n"
          ]
        },
        {
          "output_type": "stream",
          "name": "stderr",
          "text": [
            "\n",
            "100%|██████████| 350/350 [01:04<00:00,  5.46it/s]"
          ]
        },
        {
          "output_type": "stream",
          "name": "stdout",
          "text": [
            "Epoch [17/150] Loss_D_MRI: 0.21177926659584045 Loss_D_CT: 0.19176296889781952 Loss_G: 3.1902284622192383\n"
          ]
        },
        {
          "output_type": "stream",
          "name": "stderr",
          "text": [
            "\n",
            "100%|██████████| 350/350 [01:04<00:00,  5.44it/s]"
          ]
        },
        {
          "output_type": "stream",
          "name": "stdout",
          "text": [
            "Epoch [18/150] Loss_D_MRI: 0.23578937351703644 Loss_D_CT: 0.19027939438819885 Loss_G: 3.0016512870788574\n"
          ]
        },
        {
          "output_type": "stream",
          "name": "stderr",
          "text": [
            "\n",
            "100%|██████████| 350/350 [01:04<00:00,  5.45it/s]"
          ]
        },
        {
          "output_type": "stream",
          "name": "stdout",
          "text": [
            "Epoch [19/150] Loss_D_MRI: 0.22064223885536194 Loss_D_CT: 0.24207477271556854 Loss_G: 3.1189768314361572\n"
          ]
        },
        {
          "output_type": "stream",
          "name": "stderr",
          "text": [
            "\n",
            "100%|██████████| 350/350 [01:04<00:00,  5.44it/s]"
          ]
        },
        {
          "output_type": "stream",
          "name": "stdout",
          "text": [
            "Epoch [20/150] Loss_D_MRI: 0.24053481221199036 Loss_D_CT: 0.2685961127281189 Loss_G: 2.693722724914551\n"
          ]
        },
        {
          "output_type": "stream",
          "name": "stderr",
          "text": [
            "\n",
            "100%|██████████| 350/350 [01:04<00:00,  5.46it/s]"
          ]
        },
        {
          "output_type": "stream",
          "name": "stdout",
          "text": [
            "Epoch [21/150] Loss_D_MRI: 0.2050175964832306 Loss_D_CT: 0.23993629217147827 Loss_G: 3.295762777328491\n"
          ]
        },
        {
          "output_type": "stream",
          "name": "stderr",
          "text": [
            "\n",
            "100%|██████████| 350/350 [01:04<00:00,  5.45it/s]"
          ]
        },
        {
          "output_type": "stream",
          "name": "stdout",
          "text": [
            "Epoch [22/150] Loss_D_MRI: 0.24593442678451538 Loss_D_CT: 0.19992953538894653 Loss_G: 2.8834285736083984\n"
          ]
        },
        {
          "output_type": "stream",
          "name": "stderr",
          "text": [
            "\n",
            "100%|██████████| 350/350 [01:04<00:00,  5.44it/s]"
          ]
        },
        {
          "output_type": "stream",
          "name": "stdout",
          "text": [
            "Epoch [23/150] Loss_D_MRI: 0.23127004504203796 Loss_D_CT: 0.17915908992290497 Loss_G: 2.90841007232666\n"
          ]
        },
        {
          "output_type": "stream",
          "name": "stderr",
          "text": [
            "\n",
            "100%|██████████| 350/350 [01:04<00:00,  5.43it/s]"
          ]
        },
        {
          "output_type": "stream",
          "name": "stdout",
          "text": [
            "Epoch [24/150] Loss_D_MRI: 0.25057554244995117 Loss_D_CT: 0.21590813994407654 Loss_G: 3.227160930633545\n"
          ]
        },
        {
          "output_type": "stream",
          "name": "stderr",
          "text": [
            "\n",
            "100%|██████████| 350/350 [01:04<00:00,  5.43it/s]"
          ]
        },
        {
          "output_type": "stream",
          "name": "stdout",
          "text": [
            "Epoch [25/150] Loss_D_MRI: 0.21254447102546692 Loss_D_CT: 0.20480506122112274 Loss_G: 3.169481039047241\n"
          ]
        },
        {
          "output_type": "stream",
          "name": "stderr",
          "text": [
            "\n",
            "100%|██████████| 350/350 [01:04<00:00,  5.43it/s]"
          ]
        },
        {
          "output_type": "stream",
          "name": "stdout",
          "text": [
            "Epoch [26/150] Loss_D_MRI: 0.2816852629184723 Loss_D_CT: 0.20682457089424133 Loss_G: 3.55521559715271\n"
          ]
        },
        {
          "output_type": "stream",
          "name": "stderr",
          "text": [
            "\n",
            "100%|██████████| 350/350 [01:04<00:00,  5.42it/s]"
          ]
        },
        {
          "output_type": "stream",
          "name": "stdout",
          "text": [
            "Epoch [27/150] Loss_D_MRI: 0.24493616819381714 Loss_D_CT: 0.22971756756305695 Loss_G: 2.8067917823791504\n"
          ]
        },
        {
          "output_type": "stream",
          "name": "stderr",
          "text": [
            "\n",
            "100%|██████████| 350/350 [01:04<00:00,  5.43it/s]"
          ]
        },
        {
          "output_type": "stream",
          "name": "stdout",
          "text": [
            "Epoch [28/150] Loss_D_MRI: 0.2492026388645172 Loss_D_CT: 0.24694135785102844 Loss_G: 2.731706142425537\n"
          ]
        },
        {
          "output_type": "stream",
          "name": "stderr",
          "text": [
            "\n",
            "100%|██████████| 350/350 [01:04<00:00,  5.44it/s]"
          ]
        },
        {
          "output_type": "stream",
          "name": "stdout",
          "text": [
            "Epoch [29/150] Loss_D_MRI: 0.2511991262435913 Loss_D_CT: 0.2441215217113495 Loss_G: 2.6962833404541016\n"
          ]
        },
        {
          "output_type": "stream",
          "name": "stderr",
          "text": [
            "\n",
            "100%|██████████| 350/350 [01:04<00:00,  5.44it/s]"
          ]
        },
        {
          "output_type": "stream",
          "name": "stdout",
          "text": [
            "Epoch [30/150] Loss_D_MRI: 0.255212664604187 Loss_D_CT: 0.2275378704071045 Loss_G: 2.55558705329895\n"
          ]
        },
        {
          "output_type": "stream",
          "name": "stderr",
          "text": [
            "\n",
            "100%|██████████| 350/350 [01:04<00:00,  5.46it/s]"
          ]
        },
        {
          "output_type": "stream",
          "name": "stdout",
          "text": [
            "Epoch [31/150] Loss_D_MRI: 0.24441657960414886 Loss_D_CT: 0.23438352346420288 Loss_G: 2.8231542110443115\n"
          ]
        },
        {
          "output_type": "stream",
          "name": "stderr",
          "text": [
            "\n",
            "100%|██████████| 350/350 [01:04<00:00,  5.44it/s]"
          ]
        },
        {
          "output_type": "stream",
          "name": "stdout",
          "text": [
            "Epoch [32/150] Loss_D_MRI: 0.20947304368019104 Loss_D_CT: 0.2458476573228836 Loss_G: 3.249732494354248\n"
          ]
        },
        {
          "output_type": "stream",
          "name": "stderr",
          "text": [
            "\n",
            "100%|██████████| 350/350 [01:04<00:00,  5.44it/s]"
          ]
        },
        {
          "output_type": "stream",
          "name": "stdout",
          "text": [
            "Epoch [33/150] Loss_D_MRI: 0.23167820274829865 Loss_D_CT: 0.28396064043045044 Loss_G: 2.5846095085144043\n"
          ]
        },
        {
          "output_type": "stream",
          "name": "stderr",
          "text": [
            "\n",
            "100%|██████████| 350/350 [01:04<00:00,  5.45it/s]"
          ]
        },
        {
          "output_type": "stream",
          "name": "stdout",
          "text": [
            "Epoch [34/150] Loss_D_MRI: 0.24489018321037292 Loss_D_CT: 0.23743313550949097 Loss_G: 2.6905782222747803\n"
          ]
        },
        {
          "output_type": "stream",
          "name": "stderr",
          "text": [
            "\n",
            "100%|██████████| 350/350 [01:04<00:00,  5.44it/s]"
          ]
        },
        {
          "output_type": "stream",
          "name": "stdout",
          "text": [
            "Epoch [35/150] Loss_D_MRI: 0.24354128539562225 Loss_D_CT: 0.23589205741882324 Loss_G: 2.5492005348205566\n"
          ]
        },
        {
          "output_type": "stream",
          "name": "stderr",
          "text": [
            "\n",
            "100%|██████████| 350/350 [01:04<00:00,  5.44it/s]"
          ]
        },
        {
          "output_type": "stream",
          "name": "stdout",
          "text": [
            "Epoch [36/150] Loss_D_MRI: 0.2419569492340088 Loss_D_CT: 0.2435404360294342 Loss_G: 2.733875036239624\n"
          ]
        },
        {
          "output_type": "stream",
          "name": "stderr",
          "text": [
            "\n",
            "100%|██████████| 350/350 [01:04<00:00,  5.44it/s]"
          ]
        },
        {
          "output_type": "stream",
          "name": "stdout",
          "text": [
            "Epoch [37/150] Loss_D_MRI: 0.22821737825870514 Loss_D_CT: 0.2284533977508545 Loss_G: 2.774995803833008\n"
          ]
        },
        {
          "output_type": "stream",
          "name": "stderr",
          "text": [
            "\n",
            "100%|██████████| 350/350 [01:04<00:00,  5.42it/s]"
          ]
        },
        {
          "output_type": "stream",
          "name": "stdout",
          "text": [
            "Epoch [38/150] Loss_D_MRI: 0.24809090793132782 Loss_D_CT: 0.2531973719596863 Loss_G: 2.475876808166504\n"
          ]
        },
        {
          "output_type": "stream",
          "name": "stderr",
          "text": [
            "\n",
            "100%|██████████| 350/350 [01:04<00:00,  5.43it/s]"
          ]
        },
        {
          "output_type": "stream",
          "name": "stdout",
          "text": [
            "Epoch [39/150] Loss_D_MRI: 0.22365343570709229 Loss_D_CT: 0.24591335654258728 Loss_G: 2.8361124992370605\n"
          ]
        },
        {
          "output_type": "stream",
          "name": "stderr",
          "text": [
            "\n",
            "100%|██████████| 350/350 [01:04<00:00,  5.45it/s]"
          ]
        },
        {
          "output_type": "stream",
          "name": "stdout",
          "text": [
            "Epoch [40/150] Loss_D_MRI: 0.2492503523826599 Loss_D_CT: 0.23372304439544678 Loss_G: 2.5678045749664307\n"
          ]
        },
        {
          "output_type": "stream",
          "name": "stderr",
          "text": [
            "\n",
            "100%|██████████| 350/350 [01:04<00:00,  5.44it/s]"
          ]
        },
        {
          "output_type": "stream",
          "name": "stdout",
          "text": [
            "Epoch [41/150] Loss_D_MRI: 0.24205762147903442 Loss_D_CT: 0.20230761170387268 Loss_G: 2.845898151397705\n"
          ]
        },
        {
          "output_type": "stream",
          "name": "stderr",
          "text": [
            "\n",
            "100%|██████████| 350/350 [01:04<00:00,  5.44it/s]"
          ]
        },
        {
          "output_type": "stream",
          "name": "stdout",
          "text": [
            "Epoch [42/150] Loss_D_MRI: 0.23782899975776672 Loss_D_CT: 0.22333437204360962 Loss_G: 2.678164482116699\n"
          ]
        },
        {
          "output_type": "stream",
          "name": "stderr",
          "text": [
            "\n",
            "100%|██████████| 350/350 [01:04<00:00,  5.44it/s]"
          ]
        },
        {
          "output_type": "stream",
          "name": "stdout",
          "text": [
            "Epoch [43/150] Loss_D_MRI: 0.2898011803627014 Loss_D_CT: 0.23838019371032715 Loss_G: 2.6272568702697754\n"
          ]
        },
        {
          "output_type": "stream",
          "name": "stderr",
          "text": [
            "\n",
            "100%|██████████| 350/350 [01:04<00:00,  5.44it/s]"
          ]
        },
        {
          "output_type": "stream",
          "name": "stdout",
          "text": [
            "Epoch [44/150] Loss_D_MRI: 0.24481603503227234 Loss_D_CT: 0.25305336713790894 Loss_G: 2.4223151206970215\n"
          ]
        },
        {
          "output_type": "stream",
          "name": "stderr",
          "text": [
            "\n",
            "100%|██████████| 350/350 [01:04<00:00,  5.44it/s]"
          ]
        },
        {
          "output_type": "stream",
          "name": "stdout",
          "text": [
            "Epoch [45/150] Loss_D_MRI: 0.2507131099700928 Loss_D_CT: 0.2233269214630127 Loss_G: 2.844785213470459\n"
          ]
        },
        {
          "output_type": "stream",
          "name": "stderr",
          "text": [
            "\n",
            "100%|██████████| 350/350 [01:04<00:00,  5.43it/s]"
          ]
        },
        {
          "output_type": "stream",
          "name": "stdout",
          "text": [
            "Epoch [46/150] Loss_D_MRI: 0.22374433279037476 Loss_D_CT: 0.22046753764152527 Loss_G: 2.9361143112182617\n"
          ]
        },
        {
          "output_type": "stream",
          "name": "stderr",
          "text": [
            "\n",
            "100%|██████████| 350/350 [01:04<00:00,  5.43it/s]"
          ]
        },
        {
          "output_type": "stream",
          "name": "stdout",
          "text": [
            "Epoch [47/150] Loss_D_MRI: 0.22168003022670746 Loss_D_CT: 0.2344830483198166 Loss_G: 3.2288002967834473\n"
          ]
        },
        {
          "output_type": "stream",
          "name": "stderr",
          "text": [
            "\n",
            "100%|██████████| 350/350 [01:04<00:00,  5.45it/s]"
          ]
        },
        {
          "output_type": "stream",
          "name": "stdout",
          "text": [
            "Epoch [48/150] Loss_D_MRI: 0.2522728741168976 Loss_D_CT: 0.2213384509086609 Loss_G: 2.712932825088501\n"
          ]
        },
        {
          "output_type": "stream",
          "name": "stderr",
          "text": [
            "\n",
            "100%|██████████| 350/350 [01:04<00:00,  5.43it/s]"
          ]
        },
        {
          "output_type": "stream",
          "name": "stdout",
          "text": [
            "Epoch [49/150] Loss_D_MRI: 0.24424052238464355 Loss_D_CT: 0.2457258105278015 Loss_G: 2.8280909061431885\n"
          ]
        },
        {
          "output_type": "stream",
          "name": "stderr",
          "text": [
            "\n",
            "100%|██████████| 350/350 [01:04<00:00,  5.44it/s]"
          ]
        },
        {
          "output_type": "stream",
          "name": "stdout",
          "text": [
            "Epoch [50/150] Loss_D_MRI: 0.24884669482707977 Loss_D_CT: 0.2368859499692917 Loss_G: 2.4589357376098633\n"
          ]
        },
        {
          "output_type": "stream",
          "name": "stderr",
          "text": [
            "\n",
            "100%|██████████| 350/350 [01:04<00:00,  5.43it/s]"
          ]
        },
        {
          "output_type": "stream",
          "name": "stdout",
          "text": [
            "Epoch [51/150] Loss_D_MRI: 0.23968921601772308 Loss_D_CT: 0.2508839964866638 Loss_G: 2.6646924018859863\n"
          ]
        },
        {
          "output_type": "stream",
          "name": "stderr",
          "text": [
            "\n",
            "100%|██████████| 350/350 [01:04<00:00,  5.44it/s]"
          ]
        },
        {
          "output_type": "stream",
          "name": "stdout",
          "text": [
            "Epoch [52/150] Loss_D_MRI: 0.2239769697189331 Loss_D_CT: 0.25154542922973633 Loss_G: 2.521937847137451\n"
          ]
        },
        {
          "output_type": "stream",
          "name": "stderr",
          "text": [
            "\n",
            "100%|██████████| 350/350 [01:04<00:00,  5.43it/s]"
          ]
        },
        {
          "output_type": "stream",
          "name": "stdout",
          "text": [
            "Epoch [53/150] Loss_D_MRI: 0.2396649569272995 Loss_D_CT: 0.2134419083595276 Loss_G: 2.5783629417419434\n"
          ]
        },
        {
          "output_type": "stream",
          "name": "stderr",
          "text": [
            "\n",
            "100%|██████████| 350/350 [01:04<00:00,  5.42it/s]"
          ]
        },
        {
          "output_type": "stream",
          "name": "stdout",
          "text": [
            "Epoch [54/150] Loss_D_MRI: 0.2794201374053955 Loss_D_CT: 0.23569339513778687 Loss_G: 2.6167845726013184\n"
          ]
        },
        {
          "output_type": "stream",
          "name": "stderr",
          "text": [
            "\n",
            "100%|██████████| 350/350 [01:04<00:00,  5.44it/s]"
          ]
        },
        {
          "output_type": "stream",
          "name": "stdout",
          "text": [
            "Epoch [55/150] Loss_D_MRI: 0.24894337356090546 Loss_D_CT: 0.22082611918449402 Loss_G: 3.0598013401031494\n"
          ]
        },
        {
          "output_type": "stream",
          "name": "stderr",
          "text": [
            "\n",
            "100%|██████████| 350/350 [01:04<00:00,  5.45it/s]"
          ]
        },
        {
          "output_type": "stream",
          "name": "stdout",
          "text": [
            "Epoch [56/150] Loss_D_MRI: 0.2250981330871582 Loss_D_CT: 0.22689419984817505 Loss_G: 2.65592098236084\n"
          ]
        },
        {
          "output_type": "stream",
          "name": "stderr",
          "text": [
            "\n",
            "100%|██████████| 350/350 [01:04<00:00,  5.44it/s]"
          ]
        },
        {
          "output_type": "stream",
          "name": "stdout",
          "text": [
            "Epoch [57/150] Loss_D_MRI: 0.18925730884075165 Loss_D_CT: 0.19312559068202972 Loss_G: 3.5734572410583496\n"
          ]
        },
        {
          "output_type": "stream",
          "name": "stderr",
          "text": [
            "\n",
            "100%|██████████| 350/350 [01:04<00:00,  5.43it/s]"
          ]
        },
        {
          "output_type": "stream",
          "name": "stdout",
          "text": [
            "Epoch [58/150] Loss_D_MRI: 0.21452075242996216 Loss_D_CT: 0.1838625967502594 Loss_G: 2.816624879837036\n"
          ]
        },
        {
          "output_type": "stream",
          "name": "stderr",
          "text": [
            "\n",
            "100%|██████████| 350/350 [01:04<00:00,  5.44it/s]"
          ]
        },
        {
          "output_type": "stream",
          "name": "stdout",
          "text": [
            "Epoch [59/150] Loss_D_MRI: 0.24685923755168915 Loss_D_CT: 0.2634629011154175 Loss_G: 2.632218599319458\n"
          ]
        },
        {
          "output_type": "stream",
          "name": "stderr",
          "text": [
            "\n",
            "100%|██████████| 350/350 [01:04<00:00,  5.44it/s]"
          ]
        },
        {
          "output_type": "stream",
          "name": "stdout",
          "text": [
            "Epoch [60/150] Loss_D_MRI: 0.23792263865470886 Loss_D_CT: 0.24626511335372925 Loss_G: 2.335841655731201\n"
          ]
        },
        {
          "output_type": "stream",
          "name": "stderr",
          "text": [
            "\n",
            "100%|██████████| 350/350 [01:04<00:00,  5.45it/s]"
          ]
        },
        {
          "output_type": "stream",
          "name": "stdout",
          "text": [
            "Epoch [61/150] Loss_D_MRI: 0.23315918445587158 Loss_D_CT: 0.2515728771686554 Loss_G: 2.5012431144714355\n"
          ]
        },
        {
          "output_type": "stream",
          "name": "stderr",
          "text": [
            "\n",
            "100%|██████████| 350/350 [01:04<00:00,  5.44it/s]"
          ]
        },
        {
          "output_type": "stream",
          "name": "stdout",
          "text": [
            "Epoch [62/150] Loss_D_MRI: 0.19762492179870605 Loss_D_CT: 0.33715689182281494 Loss_G: 2.454007148742676\n"
          ]
        },
        {
          "output_type": "stream",
          "name": "stderr",
          "text": [
            "\n",
            "100%|██████████| 350/350 [01:04<00:00,  5.44it/s]"
          ]
        },
        {
          "output_type": "stream",
          "name": "stdout",
          "text": [
            "Epoch [63/150] Loss_D_MRI: 0.24784551560878754 Loss_D_CT: 0.20310825109481812 Loss_G: 2.8454742431640625\n"
          ]
        },
        {
          "output_type": "stream",
          "name": "stderr",
          "text": [
            "\n",
            "100%|██████████| 350/350 [01:04<00:00,  5.45it/s]"
          ]
        },
        {
          "output_type": "stream",
          "name": "stdout",
          "text": [
            "Epoch [64/150] Loss_D_MRI: 0.19985657930374146 Loss_D_CT: 0.17675131559371948 Loss_G: 2.887824296951294\n"
          ]
        },
        {
          "output_type": "stream",
          "name": "stderr",
          "text": [
            "\n",
            "100%|██████████| 350/350 [01:04<00:00,  5.44it/s]"
          ]
        },
        {
          "output_type": "stream",
          "name": "stdout",
          "text": [
            "Epoch [65/150] Loss_D_MRI: 0.25329598784446716 Loss_D_CT: 0.2045396864414215 Loss_G: 2.65299654006958\n"
          ]
        },
        {
          "output_type": "stream",
          "name": "stderr",
          "text": [
            "\n",
            "100%|██████████| 350/350 [01:04<00:00,  5.43it/s]"
          ]
        },
        {
          "output_type": "stream",
          "name": "stdout",
          "text": [
            "Epoch [66/150] Loss_D_MRI: 0.24753624200820923 Loss_D_CT: 0.16001452505588531 Loss_G: 2.5329108238220215\n"
          ]
        },
        {
          "output_type": "stream",
          "name": "stderr",
          "text": [
            "\n",
            "100%|██████████| 350/350 [01:04<00:00,  5.44it/s]"
          ]
        },
        {
          "output_type": "stream",
          "name": "stdout",
          "text": [
            "Epoch [67/150] Loss_D_MRI: 0.2503569722175598 Loss_D_CT: 0.14947456121444702 Loss_G: 2.9846086502075195\n"
          ]
        },
        {
          "output_type": "stream",
          "name": "stderr",
          "text": [
            "\n",
            "100%|██████████| 350/350 [01:04<00:00,  5.44it/s]"
          ]
        },
        {
          "output_type": "stream",
          "name": "stdout",
          "text": [
            "Epoch [68/150] Loss_D_MRI: 0.24202847480773926 Loss_D_CT: 0.25022661685943604 Loss_G: 2.588244915008545\n"
          ]
        },
        {
          "output_type": "stream",
          "name": "stderr",
          "text": [
            "\n",
            "100%|██████████| 350/350 [01:04<00:00,  5.44it/s]"
          ]
        },
        {
          "output_type": "stream",
          "name": "stdout",
          "text": [
            "Epoch [69/150] Loss_D_MRI: 0.20086711645126343 Loss_D_CT: 0.2496500313282013 Loss_G: 2.434436798095703\n"
          ]
        },
        {
          "output_type": "stream",
          "name": "stderr",
          "text": [
            "\n",
            "100%|██████████| 350/350 [01:04<00:00,  5.44it/s]"
          ]
        },
        {
          "output_type": "stream",
          "name": "stdout",
          "text": [
            "Epoch [70/150] Loss_D_MRI: 0.22421646118164062 Loss_D_CT: 0.2466028928756714 Loss_G: 2.4195384979248047\n"
          ]
        },
        {
          "output_type": "stream",
          "name": "stderr",
          "text": [
            "\n",
            "100%|██████████| 350/350 [01:04<00:00,  5.44it/s]"
          ]
        },
        {
          "output_type": "stream",
          "name": "stdout",
          "text": [
            "Epoch [71/150] Loss_D_MRI: 0.27129292488098145 Loss_D_CT: 0.25951266288757324 Loss_G: 2.4684677124023438\n"
          ]
        },
        {
          "output_type": "stream",
          "name": "stderr",
          "text": [
            "\n",
            "100%|██████████| 350/350 [01:04<00:00,  5.44it/s]"
          ]
        },
        {
          "output_type": "stream",
          "name": "stdout",
          "text": [
            "Epoch [72/150] Loss_D_MRI: 0.22422346472740173 Loss_D_CT: 0.24589082598686218 Loss_G: 2.496370315551758\n"
          ]
        },
        {
          "output_type": "stream",
          "name": "stderr",
          "text": [
            "\n",
            "100%|██████████| 350/350 [01:04<00:00,  5.44it/s]"
          ]
        },
        {
          "output_type": "stream",
          "name": "stdout",
          "text": [
            "Epoch [73/150] Loss_D_MRI: 0.19170382618904114 Loss_D_CT: 0.23876959085464478 Loss_G: 2.6575753688812256\n"
          ]
        },
        {
          "output_type": "stream",
          "name": "stderr",
          "text": [
            "\n",
            "100%|██████████| 350/350 [01:04<00:00,  5.42it/s]"
          ]
        },
        {
          "output_type": "stream",
          "name": "stdout",
          "text": [
            "Epoch [74/150] Loss_D_MRI: 0.2257656455039978 Loss_D_CT: 0.2615275979042053 Loss_G: 2.7516422271728516\n"
          ]
        },
        {
          "output_type": "stream",
          "name": "stderr",
          "text": [
            "\n",
            "100%|██████████| 350/350 [01:04<00:00,  5.44it/s]"
          ]
        },
        {
          "output_type": "stream",
          "name": "stdout",
          "text": [
            "Epoch [75/150] Loss_D_MRI: 0.19475418329238892 Loss_D_CT: 0.24758955836296082 Loss_G: 2.863279104232788\n"
          ]
        },
        {
          "output_type": "stream",
          "name": "stderr",
          "text": [
            "\n",
            "100%|██████████| 350/350 [01:04<00:00,  5.44it/s]"
          ]
        },
        {
          "output_type": "stream",
          "name": "stdout",
          "text": [
            "Epoch [76/150] Loss_D_MRI: 0.18977504968643188 Loss_D_CT: 0.25388824939727783 Loss_G: 2.6620359420776367\n"
          ]
        },
        {
          "output_type": "stream",
          "name": "stderr",
          "text": [
            "\n",
            "100%|██████████| 350/350 [01:04<00:00,  5.44it/s]"
          ]
        },
        {
          "output_type": "stream",
          "name": "stdout",
          "text": [
            "Epoch [77/150] Loss_D_MRI: 0.24694758653640747 Loss_D_CT: 0.22998127341270447 Loss_G: 2.613804340362549\n"
          ]
        },
        {
          "output_type": "stream",
          "name": "stderr",
          "text": [
            "\n",
            "100%|██████████| 350/350 [01:04<00:00,  5.44it/s]"
          ]
        },
        {
          "output_type": "stream",
          "name": "stdout",
          "text": [
            "Epoch [78/150] Loss_D_MRI: 0.24365630745887756 Loss_D_CT: 0.2530026435852051 Loss_G: 2.4331328868865967\n"
          ]
        },
        {
          "output_type": "stream",
          "name": "stderr",
          "text": [
            "\n",
            "100%|██████████| 350/350 [01:04<00:00,  5.46it/s]"
          ]
        },
        {
          "output_type": "stream",
          "name": "stdout",
          "text": [
            "Epoch [79/150] Loss_D_MRI: 0.24111205339431763 Loss_D_CT: 0.21536433696746826 Loss_G: 2.496058225631714\n"
          ]
        },
        {
          "output_type": "stream",
          "name": "stderr",
          "text": [
            "\n",
            "100%|██████████| 350/350 [01:04<00:00,  5.44it/s]"
          ]
        },
        {
          "output_type": "stream",
          "name": "stdout",
          "text": [
            "Epoch [80/150] Loss_D_MRI: 0.22156360745429993 Loss_D_CT: 0.2742975056171417 Loss_G: 2.9366331100463867\n"
          ]
        },
        {
          "output_type": "stream",
          "name": "stderr",
          "text": [
            "\n",
            "100%|██████████| 350/350 [01:04<00:00,  5.45it/s]"
          ]
        },
        {
          "output_type": "stream",
          "name": "stdout",
          "text": [
            "Epoch [81/150] Loss_D_MRI: 0.21382218599319458 Loss_D_CT: 0.2403213083744049 Loss_G: 2.60512638092041\n"
          ]
        },
        {
          "output_type": "stream",
          "name": "stderr",
          "text": [
            "\n",
            "100%|██████████| 350/350 [01:04<00:00,  5.45it/s]"
          ]
        },
        {
          "output_type": "stream",
          "name": "stdout",
          "text": [
            "Epoch [82/150] Loss_D_MRI: 0.20885473489761353 Loss_D_CT: 0.23206815123558044 Loss_G: 2.554196834564209\n"
          ]
        },
        {
          "output_type": "stream",
          "name": "stderr",
          "text": [
            "\n",
            "100%|██████████| 350/350 [01:04<00:00,  5.44it/s]"
          ]
        },
        {
          "output_type": "stream",
          "name": "stdout",
          "text": [
            "Epoch [83/150] Loss_D_MRI: 0.209474116563797 Loss_D_CT: 0.21665653586387634 Loss_G: 2.660109519958496\n"
          ]
        },
        {
          "output_type": "stream",
          "name": "stderr",
          "text": [
            "\n",
            "100%|██████████| 350/350 [01:04<00:00,  5.44it/s]"
          ]
        },
        {
          "output_type": "stream",
          "name": "stdout",
          "text": [
            "Epoch [84/150] Loss_D_MRI: 0.21352824568748474 Loss_D_CT: 0.2611740827560425 Loss_G: 2.78878116607666\n"
          ]
        },
        {
          "output_type": "stream",
          "name": "stderr",
          "text": [
            "\n",
            "100%|██████████| 350/350 [01:04<00:00,  5.43it/s]"
          ]
        },
        {
          "output_type": "stream",
          "name": "stdout",
          "text": [
            "Epoch [85/150] Loss_D_MRI: 0.22513234615325928 Loss_D_CT: 0.2638912796974182 Loss_G: 2.4079785346984863\n"
          ]
        },
        {
          "output_type": "stream",
          "name": "stderr",
          "text": [
            "\n",
            "100%|██████████| 350/350 [01:04<00:00,  5.44it/s]"
          ]
        },
        {
          "output_type": "stream",
          "name": "stdout",
          "text": [
            "Epoch [86/150] Loss_D_MRI: 0.20046785473823547 Loss_D_CT: 0.25615012645721436 Loss_G: 2.376824378967285\n"
          ]
        },
        {
          "output_type": "stream",
          "name": "stderr",
          "text": [
            "\n",
            "100%|██████████| 350/350 [01:04<00:00,  5.43it/s]"
          ]
        },
        {
          "output_type": "stream",
          "name": "stdout",
          "text": [
            "Epoch [87/150] Loss_D_MRI: 0.21147339046001434 Loss_D_CT: 0.25951439142227173 Loss_G: 2.482938289642334\n"
          ]
        },
        {
          "output_type": "stream",
          "name": "stderr",
          "text": [
            "\n",
            "100%|██████████| 350/350 [01:04<00:00,  5.43it/s]"
          ]
        },
        {
          "output_type": "stream",
          "name": "stdout",
          "text": [
            "Epoch [88/150] Loss_D_MRI: 0.18240652978420258 Loss_D_CT: 0.242192804813385 Loss_G: 2.7109317779541016\n"
          ]
        },
        {
          "output_type": "stream",
          "name": "stderr",
          "text": [
            "\n",
            "100%|██████████| 350/350 [01:04<00:00,  5.44it/s]"
          ]
        },
        {
          "output_type": "stream",
          "name": "stdout",
          "text": [
            "Epoch [89/150] Loss_D_MRI: 0.23508870601654053 Loss_D_CT: 0.22957256436347961 Loss_G: 2.756960391998291\n"
          ]
        },
        {
          "output_type": "stream",
          "name": "stderr",
          "text": [
            "\n",
            "100%|██████████| 350/350 [01:04<00:00,  5.44it/s]"
          ]
        },
        {
          "output_type": "stream",
          "name": "stdout",
          "text": [
            "Epoch [90/150] Loss_D_MRI: 0.23877152800559998 Loss_D_CT: 0.2227696180343628 Loss_G: 2.5342650413513184\n"
          ]
        },
        {
          "output_type": "stream",
          "name": "stderr",
          "text": [
            "\n",
            "100%|██████████| 350/350 [01:04<00:00,  5.45it/s]"
          ]
        },
        {
          "output_type": "stream",
          "name": "stdout",
          "text": [
            "Epoch [91/150] Loss_D_MRI: 0.24196627736091614 Loss_D_CT: 0.24829056859016418 Loss_G: 2.6974849700927734\n"
          ]
        },
        {
          "output_type": "stream",
          "name": "stderr",
          "text": [
            "\n",
            "100%|██████████| 350/350 [01:04<00:00,  5.43it/s]"
          ]
        },
        {
          "output_type": "stream",
          "name": "stdout",
          "text": [
            "Epoch [92/150] Loss_D_MRI: 0.25200119614601135 Loss_D_CT: 0.22572150826454163 Loss_G: 2.3198843002319336\n"
          ]
        },
        {
          "output_type": "stream",
          "name": "stderr",
          "text": [
            "\n",
            "100%|██████████| 350/350 [01:04<00:00,  5.43it/s]"
          ]
        },
        {
          "output_type": "stream",
          "name": "stdout",
          "text": [
            "Epoch [93/150] Loss_D_MRI: 0.27120348811149597 Loss_D_CT: 0.21605399250984192 Loss_G: 2.4516544342041016\n"
          ]
        },
        {
          "output_type": "stream",
          "name": "stderr",
          "text": [
            "\n",
            "100%|██████████| 350/350 [01:04<00:00,  5.44it/s]"
          ]
        },
        {
          "output_type": "stream",
          "name": "stdout",
          "text": [
            "Epoch [94/150] Loss_D_MRI: 0.2317262589931488 Loss_D_CT: 0.2140512764453888 Loss_G: 3.2008767127990723\n"
          ]
        },
        {
          "output_type": "stream",
          "name": "stderr",
          "text": [
            "\n",
            "100%|██████████| 350/350 [01:04<00:00,  5.44it/s]"
          ]
        },
        {
          "output_type": "stream",
          "name": "stdout",
          "text": [
            "Epoch [95/150] Loss_D_MRI: 0.2342248260974884 Loss_D_CT: 0.19606062769889832 Loss_G: 2.5266432762145996\n"
          ]
        },
        {
          "output_type": "stream",
          "name": "stderr",
          "text": [
            "\n",
            "100%|██████████| 350/350 [01:04<00:00,  5.42it/s]"
          ]
        },
        {
          "output_type": "stream",
          "name": "stdout",
          "text": [
            "Epoch [96/150] Loss_D_MRI: 0.23517078161239624 Loss_D_CT: 0.2508702278137207 Loss_G: 2.3923373222351074\n"
          ]
        },
        {
          "output_type": "stream",
          "name": "stderr",
          "text": [
            "\n",
            "100%|██████████| 350/350 [01:04<00:00,  5.44it/s]"
          ]
        },
        {
          "output_type": "stream",
          "name": "stdout",
          "text": [
            "Epoch [97/150] Loss_D_MRI: 0.22817161679267883 Loss_D_CT: 0.2423923909664154 Loss_G: 2.4519052505493164\n"
          ]
        },
        {
          "output_type": "stream",
          "name": "stderr",
          "text": [
            "\n",
            "100%|██████████| 350/350 [01:04<00:00,  5.44it/s]"
          ]
        },
        {
          "output_type": "stream",
          "name": "stdout",
          "text": [
            "Epoch [98/150] Loss_D_MRI: 0.21621769666671753 Loss_D_CT: 0.25120633840560913 Loss_G: 2.5689423084259033\n"
          ]
        },
        {
          "output_type": "stream",
          "name": "stderr",
          "text": [
            "\n",
            "100%|██████████| 350/350 [01:04<00:00,  5.44it/s]"
          ]
        },
        {
          "output_type": "stream",
          "name": "stdout",
          "text": [
            "Epoch [99/150] Loss_D_MRI: 0.26396673917770386 Loss_D_CT: 0.2481318712234497 Loss_G: 2.790951728820801\n"
          ]
        },
        {
          "output_type": "stream",
          "name": "stderr",
          "text": [
            "\n",
            "100%|██████████| 350/350 [01:04<00:00,  5.44it/s]"
          ]
        },
        {
          "output_type": "stream",
          "name": "stdout",
          "text": [
            "Epoch [100/150] Loss_D_MRI: 0.2151845246553421 Loss_D_CT: 0.24422281980514526 Loss_G: 2.5477254390716553\n"
          ]
        },
        {
          "output_type": "stream",
          "name": "stderr",
          "text": [
            "\n",
            "100%|██████████| 350/350 [01:04<00:00,  5.44it/s]"
          ]
        },
        {
          "output_type": "stream",
          "name": "stdout",
          "text": [
            "Epoch [101/150] Loss_D_MRI: 0.20885194838047028 Loss_D_CT: 0.2517052888870239 Loss_G: 2.670093536376953\n"
          ]
        },
        {
          "output_type": "stream",
          "name": "stderr",
          "text": [
            "\n",
            "100%|██████████| 350/350 [01:04<00:00,  5.42it/s]"
          ]
        },
        {
          "output_type": "stream",
          "name": "stdout",
          "text": [
            "Epoch [102/150] Loss_D_MRI: 0.2096111923456192 Loss_D_CT: 0.24558475613594055 Loss_G: 2.5945138931274414\n"
          ]
        },
        {
          "output_type": "stream",
          "name": "stderr",
          "text": [
            "\n",
            "100%|██████████| 350/350 [01:04<00:00,  5.43it/s]"
          ]
        },
        {
          "output_type": "stream",
          "name": "stdout",
          "text": [
            "Epoch [103/150] Loss_D_MRI: 0.1979527771472931 Loss_D_CT: 0.24227707087993622 Loss_G: 2.632554531097412\n"
          ]
        },
        {
          "output_type": "stream",
          "name": "stderr",
          "text": [
            "\n",
            "100%|██████████| 350/350 [01:04<00:00,  5.44it/s]"
          ]
        },
        {
          "output_type": "stream",
          "name": "stdout",
          "text": [
            "Epoch [104/150] Loss_D_MRI: 0.20462781190872192 Loss_D_CT: 0.2543293535709381 Loss_G: 2.679938793182373\n"
          ]
        },
        {
          "output_type": "stream",
          "name": "stderr",
          "text": [
            "\n",
            "100%|██████████| 350/350 [01:04<00:00,  5.45it/s]"
          ]
        },
        {
          "output_type": "stream",
          "name": "stdout",
          "text": [
            "Epoch [105/150] Loss_D_MRI: 0.22463446855545044 Loss_D_CT: 0.23098435997962952 Loss_G: 2.520946502685547\n"
          ]
        },
        {
          "output_type": "stream",
          "name": "stderr",
          "text": [
            "\n",
            "100%|██████████| 350/350 [01:04<00:00,  5.45it/s]"
          ]
        },
        {
          "output_type": "stream",
          "name": "stdout",
          "text": [
            "Epoch [106/150] Loss_D_MRI: 0.22176171839237213 Loss_D_CT: 0.2332664132118225 Loss_G: 2.7495806217193604\n"
          ]
        },
        {
          "output_type": "stream",
          "name": "stderr",
          "text": [
            "\n",
            "100%|██████████| 350/350 [01:04<00:00,  5.44it/s]"
          ]
        },
        {
          "output_type": "stream",
          "name": "stdout",
          "text": [
            "Epoch [107/150] Loss_D_MRI: 0.2662530839443207 Loss_D_CT: 0.24875953793525696 Loss_G: 2.4474434852600098\n"
          ]
        },
        {
          "output_type": "stream",
          "name": "stderr",
          "text": [
            "\n",
            "100%|██████████| 350/350 [01:04<00:00,  5.45it/s]"
          ]
        },
        {
          "output_type": "stream",
          "name": "stdout",
          "text": [
            "Epoch [108/150] Loss_D_MRI: 0.2157721221446991 Loss_D_CT: 0.20564410090446472 Loss_G: 2.612419366836548\n"
          ]
        },
        {
          "output_type": "stream",
          "name": "stderr",
          "text": [
            "\n",
            "100%|██████████| 350/350 [01:04<00:00,  5.44it/s]"
          ]
        },
        {
          "output_type": "stream",
          "name": "stdout",
          "text": [
            "Epoch [109/150] Loss_D_MRI: 0.20015665888786316 Loss_D_CT: 0.2146611213684082 Loss_G: 2.7830777168273926\n"
          ]
        },
        {
          "output_type": "stream",
          "name": "stderr",
          "text": [
            "\n",
            "100%|██████████| 350/350 [01:04<00:00,  5.44it/s]"
          ]
        },
        {
          "output_type": "stream",
          "name": "stdout",
          "text": [
            "Epoch [110/150] Loss_D_MRI: 0.20829948782920837 Loss_D_CT: 0.25261566042900085 Loss_G: 2.672693967819214\n"
          ]
        },
        {
          "output_type": "stream",
          "name": "stderr",
          "text": [
            "\n",
            "100%|██████████| 350/350 [01:04<00:00,  5.43it/s]"
          ]
        },
        {
          "output_type": "stream",
          "name": "stdout",
          "text": [
            "Epoch [111/150] Loss_D_MRI: 0.20836403965950012 Loss_D_CT: 0.24637934565544128 Loss_G: 2.6743721961975098\n"
          ]
        },
        {
          "output_type": "stream",
          "name": "stderr",
          "text": [
            "\n",
            "100%|██████████| 350/350 [01:04<00:00,  5.43it/s]"
          ]
        },
        {
          "output_type": "stream",
          "name": "stdout",
          "text": [
            "Epoch [112/150] Loss_D_MRI: 0.23431473970413208 Loss_D_CT: 0.2383725494146347 Loss_G: 2.558826446533203\n"
          ]
        },
        {
          "output_type": "stream",
          "name": "stderr",
          "text": [
            "\n",
            "100%|██████████| 350/350 [01:04<00:00,  5.45it/s]"
          ]
        },
        {
          "output_type": "stream",
          "name": "stdout",
          "text": [
            "Epoch [113/150] Loss_D_MRI: 0.19775208830833435 Loss_D_CT: 0.25189876556396484 Loss_G: 2.472015380859375\n"
          ]
        },
        {
          "output_type": "stream",
          "name": "stderr",
          "text": [
            "\n",
            "100%|██████████| 350/350 [01:04<00:00,  5.44it/s]"
          ]
        },
        {
          "output_type": "stream",
          "name": "stdout",
          "text": [
            "Epoch [114/150] Loss_D_MRI: 0.21838904917240143 Loss_D_CT: 0.2537078857421875 Loss_G: 2.5199434757232666\n"
          ]
        },
        {
          "output_type": "stream",
          "name": "stderr",
          "text": [
            "\n",
            "100%|██████████| 350/350 [01:04<00:00,  5.44it/s]"
          ]
        },
        {
          "output_type": "stream",
          "name": "stdout",
          "text": [
            "Epoch [115/150] Loss_D_MRI: 0.22505024075508118 Loss_D_CT: 0.24995939433574677 Loss_G: 2.4556448459625244\n"
          ]
        },
        {
          "output_type": "stream",
          "name": "stderr",
          "text": [
            "\n",
            "100%|██████████| 350/350 [01:04<00:00,  5.45it/s]"
          ]
        },
        {
          "output_type": "stream",
          "name": "stdout",
          "text": [
            "Epoch [116/150] Loss_D_MRI: 0.18729712069034576 Loss_D_CT: 0.24170753359794617 Loss_G: 2.7231321334838867\n"
          ]
        },
        {
          "output_type": "stream",
          "name": "stderr",
          "text": [
            "\n",
            "100%|██████████| 350/350 [01:04<00:00,  5.45it/s]"
          ]
        },
        {
          "output_type": "stream",
          "name": "stdout",
          "text": [
            "Epoch [117/150] Loss_D_MRI: 0.19775791466236115 Loss_D_CT: 0.2401321530342102 Loss_G: 2.461738348007202\n"
          ]
        },
        {
          "output_type": "stream",
          "name": "stderr",
          "text": [
            "\n",
            "100%|██████████| 350/350 [01:04<00:00,  5.44it/s]"
          ]
        },
        {
          "output_type": "stream",
          "name": "stdout",
          "text": [
            "Epoch [118/150] Loss_D_MRI: 0.18331442773342133 Loss_D_CT: 0.2477685809135437 Loss_G: 2.52773380279541\n"
          ]
        },
        {
          "output_type": "stream",
          "name": "stderr",
          "text": [
            "\n",
            "100%|██████████| 350/350 [01:04<00:00,  5.44it/s]"
          ]
        },
        {
          "output_type": "stream",
          "name": "stdout",
          "text": [
            "Epoch [119/150] Loss_D_MRI: 0.18970271944999695 Loss_D_CT: 0.2396121770143509 Loss_G: 2.554192543029785\n"
          ]
        },
        {
          "output_type": "stream",
          "name": "stderr",
          "text": [
            "\n",
            "100%|██████████| 350/350 [01:04<00:00,  5.45it/s]"
          ]
        },
        {
          "output_type": "stream",
          "name": "stdout",
          "text": [
            "Epoch [120/150] Loss_D_MRI: 0.201569601893425 Loss_D_CT: 0.20574986934661865 Loss_G: 2.6768269538879395\n"
          ]
        },
        {
          "output_type": "stream",
          "name": "stderr",
          "text": [
            "\n",
            "100%|██████████| 350/350 [01:04<00:00,  5.43it/s]"
          ]
        },
        {
          "output_type": "stream",
          "name": "stdout",
          "text": [
            "Epoch [121/150] Loss_D_MRI: 0.2044718861579895 Loss_D_CT: 0.18766652047634125 Loss_G: 2.538149118423462\n"
          ]
        },
        {
          "output_type": "stream",
          "name": "stderr",
          "text": [
            "\n",
            "100%|██████████| 350/350 [01:04<00:00,  5.43it/s]"
          ]
        },
        {
          "output_type": "stream",
          "name": "stdout",
          "text": [
            "Epoch [122/150] Loss_D_MRI: 0.1709255874156952 Loss_D_CT: 0.200252965092659 Loss_G: 3.051835536956787\n"
          ]
        },
        {
          "output_type": "stream",
          "name": "stderr",
          "text": [
            "\n",
            "100%|██████████| 350/350 [01:04<00:00,  5.45it/s]"
          ]
        },
        {
          "output_type": "stream",
          "name": "stdout",
          "text": [
            "Epoch [123/150] Loss_D_MRI: 0.22397936880588531 Loss_D_CT: 0.20369571447372437 Loss_G: 2.867558240890503\n"
          ]
        },
        {
          "output_type": "stream",
          "name": "stderr",
          "text": [
            "\n",
            "100%|██████████| 350/350 [01:04<00:00,  5.43it/s]"
          ]
        },
        {
          "output_type": "stream",
          "name": "stdout",
          "text": [
            "Epoch [124/150] Loss_D_MRI: 0.16921618580818176 Loss_D_CT: 0.1892472207546234 Loss_G: 2.815319538116455\n"
          ]
        },
        {
          "output_type": "stream",
          "name": "stderr",
          "text": [
            "\n",
            "100%|██████████| 350/350 [01:04<00:00,  5.44it/s]"
          ]
        },
        {
          "output_type": "stream",
          "name": "stdout",
          "text": [
            "Epoch [125/150] Loss_D_MRI: 0.16261827945709229 Loss_D_CT: 0.24024730920791626 Loss_G: 2.9429092407226562\n"
          ]
        },
        {
          "output_type": "stream",
          "name": "stderr",
          "text": [
            "\n",
            "100%|██████████| 350/350 [01:04<00:00,  5.44it/s]"
          ]
        },
        {
          "output_type": "stream",
          "name": "stdout",
          "text": [
            "Epoch [126/150] Loss_D_MRI: 0.22431614995002747 Loss_D_CT: 0.22852924466133118 Loss_G: 2.410860061645508\n"
          ]
        },
        {
          "output_type": "stream",
          "name": "stderr",
          "text": [
            "\n",
            "100%|██████████| 350/350 [01:04<00:00,  5.45it/s]"
          ]
        },
        {
          "output_type": "stream",
          "name": "stdout",
          "text": [
            "Epoch [127/150] Loss_D_MRI: 0.19549837708473206 Loss_D_CT: 0.25394099950790405 Loss_G: 2.6041839122772217\n"
          ]
        },
        {
          "output_type": "stream",
          "name": "stderr",
          "text": [
            "\n",
            "100%|██████████| 350/350 [01:04<00:00,  5.44it/s]"
          ]
        },
        {
          "output_type": "stream",
          "name": "stdout",
          "text": [
            "Epoch [128/150] Loss_D_MRI: 0.17954230308532715 Loss_D_CT: 0.20700128376483917 Loss_G: 2.696183204650879\n"
          ]
        },
        {
          "output_type": "stream",
          "name": "stderr",
          "text": [
            "\n",
            "100%|██████████| 350/350 [01:04<00:00,  5.44it/s]"
          ]
        },
        {
          "output_type": "stream",
          "name": "stdout",
          "text": [
            "Epoch [129/150] Loss_D_MRI: 0.20053760707378387 Loss_D_CT: 0.19494637846946716 Loss_G: 2.647515058517456\n"
          ]
        },
        {
          "output_type": "stream",
          "name": "stderr",
          "text": [
            "\n",
            "100%|██████████| 350/350 [01:04<00:00,  5.45it/s]"
          ]
        },
        {
          "output_type": "stream",
          "name": "stdout",
          "text": [
            "Epoch [130/150] Loss_D_MRI: 0.16123026609420776 Loss_D_CT: 0.20874357223510742 Loss_G: 2.595581531524658\n"
          ]
        },
        {
          "output_type": "stream",
          "name": "stderr",
          "text": [
            "\n",
            "100%|██████████| 350/350 [01:04<00:00,  5.43it/s]"
          ]
        },
        {
          "output_type": "stream",
          "name": "stdout",
          "text": [
            "Epoch [131/150] Loss_D_MRI: 0.20511317253112793 Loss_D_CT: 0.2063000500202179 Loss_G: 2.9009268283843994\n"
          ]
        },
        {
          "output_type": "stream",
          "name": "stderr",
          "text": [
            "\n",
            "100%|██████████| 350/350 [01:04<00:00,  5.44it/s]"
          ]
        },
        {
          "output_type": "stream",
          "name": "stdout",
          "text": [
            "Epoch [132/150] Loss_D_MRI: 0.20711427927017212 Loss_D_CT: 0.17083343863487244 Loss_G: 3.0135252475738525\n"
          ]
        },
        {
          "output_type": "stream",
          "name": "stderr",
          "text": [
            "\n",
            "100%|██████████| 350/350 [01:04<00:00,  5.43it/s]"
          ]
        },
        {
          "output_type": "stream",
          "name": "stdout",
          "text": [
            "Epoch [133/150] Loss_D_MRI: 0.2496919333934784 Loss_D_CT: 0.21045608818531036 Loss_G: 2.5072884559631348\n"
          ]
        },
        {
          "output_type": "stream",
          "name": "stderr",
          "text": [
            "\n",
            "100%|██████████| 350/350 [01:04<00:00,  5.45it/s]"
          ]
        },
        {
          "output_type": "stream",
          "name": "stdout",
          "text": [
            "Epoch [134/150] Loss_D_MRI: 0.18097639083862305 Loss_D_CT: 0.17388087511062622 Loss_G: 2.770474672317505\n"
          ]
        },
        {
          "output_type": "stream",
          "name": "stderr",
          "text": [
            "\n",
            "100%|██████████| 350/350 [01:04<00:00,  5.44it/s]"
          ]
        },
        {
          "output_type": "stream",
          "name": "stdout",
          "text": [
            "Epoch [135/150] Loss_D_MRI: 0.19952517747879028 Loss_D_CT: 0.1810624748468399 Loss_G: 2.8689041137695312\n"
          ]
        },
        {
          "output_type": "stream",
          "name": "stderr",
          "text": [
            "\n",
            "100%|██████████| 350/350 [01:04<00:00,  5.43it/s]"
          ]
        },
        {
          "output_type": "stream",
          "name": "stdout",
          "text": [
            "Epoch [136/150] Loss_D_MRI: 0.2112770676612854 Loss_D_CT: 0.18681621551513672 Loss_G: 2.5131187438964844\n"
          ]
        },
        {
          "output_type": "stream",
          "name": "stderr",
          "text": [
            "\n",
            "100%|██████████| 350/350 [01:04<00:00,  5.43it/s]"
          ]
        },
        {
          "output_type": "stream",
          "name": "stdout",
          "text": [
            "Epoch [137/150] Loss_D_MRI: 0.20590250194072723 Loss_D_CT: 0.1833156943321228 Loss_G: 2.6462535858154297\n"
          ]
        },
        {
          "output_type": "stream",
          "name": "stderr",
          "text": [
            "\n",
            "100%|██████████| 350/350 [01:04<00:00,  5.45it/s]"
          ]
        },
        {
          "output_type": "stream",
          "name": "stdout",
          "text": [
            "Epoch [138/150] Loss_D_MRI: 0.24392251670360565 Loss_D_CT: 0.22775235772132874 Loss_G: 2.594200611114502\n"
          ]
        },
        {
          "output_type": "stream",
          "name": "stderr",
          "text": [
            "\n",
            "100%|██████████| 350/350 [01:04<00:00,  5.44it/s]"
          ]
        },
        {
          "output_type": "stream",
          "name": "stdout",
          "text": [
            "Epoch [139/150] Loss_D_MRI: 0.2157791703939438 Loss_D_CT: 0.24691827595233917 Loss_G: 2.463421106338501\n"
          ]
        },
        {
          "output_type": "stream",
          "name": "stderr",
          "text": [
            "\n",
            "100%|██████████| 350/350 [01:04<00:00,  5.45it/s]"
          ]
        },
        {
          "output_type": "stream",
          "name": "stdout",
          "text": [
            "Epoch [140/150] Loss_D_MRI: 0.17756858468055725 Loss_D_CT: 0.2091628760099411 Loss_G: 2.6977627277374268\n"
          ]
        },
        {
          "output_type": "stream",
          "name": "stderr",
          "text": [
            "\n",
            "100%|██████████| 350/350 [01:04<00:00,  5.44it/s]"
          ]
        },
        {
          "output_type": "stream",
          "name": "stdout",
          "text": [
            "Epoch [141/150] Loss_D_MRI: 0.19894906878471375 Loss_D_CT: 0.1867721974849701 Loss_G: 2.7853341102600098\n"
          ]
        },
        {
          "output_type": "stream",
          "name": "stderr",
          "text": [
            "\n",
            "100%|██████████| 350/350 [01:04<00:00,  5.45it/s]"
          ]
        },
        {
          "output_type": "stream",
          "name": "stdout",
          "text": [
            "Epoch [142/150] Loss_D_MRI: 0.18151138722896576 Loss_D_CT: 0.16938331723213196 Loss_G: 2.6775388717651367\n"
          ]
        },
        {
          "output_type": "stream",
          "name": "stderr",
          "text": [
            "\n",
            "100%|██████████| 350/350 [01:04<00:00,  5.44it/s]"
          ]
        },
        {
          "output_type": "stream",
          "name": "stdout",
          "text": [
            "Epoch [143/150] Loss_D_MRI: 0.17389985918998718 Loss_D_CT: 0.21457266807556152 Loss_G: 2.5872325897216797\n"
          ]
        },
        {
          "output_type": "stream",
          "name": "stderr",
          "text": [
            "\n",
            "100%|██████████| 350/350 [01:04<00:00,  5.44it/s]"
          ]
        },
        {
          "output_type": "stream",
          "name": "stdout",
          "text": [
            "Epoch [144/150] Loss_D_MRI: 0.19591787457466125 Loss_D_CT: 0.17828264832496643 Loss_G: 2.555908679962158\n"
          ]
        },
        {
          "output_type": "stream",
          "name": "stderr",
          "text": [
            "\n",
            "100%|██████████| 350/350 [01:04<00:00,  5.44it/s]"
          ]
        },
        {
          "output_type": "stream",
          "name": "stdout",
          "text": [
            "Epoch [145/150] Loss_D_MRI: 0.17530472576618195 Loss_D_CT: 0.19058716297149658 Loss_G: 2.71313214302063\n"
          ]
        },
        {
          "output_type": "stream",
          "name": "stderr",
          "text": [
            "\n",
            "100%|██████████| 350/350 [01:04<00:00,  5.43it/s]"
          ]
        },
        {
          "output_type": "stream",
          "name": "stdout",
          "text": [
            "Epoch [146/150] Loss_D_MRI: 0.16643761098384857 Loss_D_CT: 0.184341698884964 Loss_G: 2.718269109725952\n"
          ]
        },
        {
          "output_type": "stream",
          "name": "stderr",
          "text": [
            "\n",
            "100%|██████████| 350/350 [01:04<00:00,  5.45it/s]"
          ]
        },
        {
          "output_type": "stream",
          "name": "stdout",
          "text": [
            "Epoch [147/150] Loss_D_MRI: 0.1886182576417923 Loss_D_CT: 0.14710856974124908 Loss_G: 2.710905075073242\n"
          ]
        },
        {
          "output_type": "stream",
          "name": "stderr",
          "text": [
            "\n",
            "100%|██████████| 350/350 [01:04<00:00,  5.43it/s]"
          ]
        },
        {
          "output_type": "stream",
          "name": "stdout",
          "text": [
            "Epoch [148/150] Loss_D_MRI: 0.1638544499874115 Loss_D_CT: 0.14704427123069763 Loss_G: 2.9427919387817383\n"
          ]
        },
        {
          "output_type": "stream",
          "name": "stderr",
          "text": [
            "\n",
            "100%|██████████| 350/350 [01:04<00:00,  5.44it/s]"
          ]
        },
        {
          "output_type": "stream",
          "name": "stdout",
          "text": [
            "Epoch [149/150] Loss_D_MRI: 0.1978532075881958 Loss_D_CT: 0.17045381665229797 Loss_G: 2.682985782623291\n"
          ]
        },
        {
          "output_type": "stream",
          "name": "stderr",
          "text": [
            "\n",
            "100%|██████████| 350/350 [01:04<00:00,  5.43it/s]"
          ]
        },
        {
          "output_type": "stream",
          "name": "stdout",
          "text": [
            "Epoch [150/150] Loss_D_MRI: 0.17369383573532104 Loss_D_CT: 0.15276283025741577 Loss_G: 2.952636480331421\n"
          ]
        },
        {
          "output_type": "stream",
          "name": "stderr",
          "text": [
            "\n"
          ]
        }
      ]
    },
    {
      "cell_type": "markdown",
      "source": [
        "Ablation Study - II (Training Loop without SSIM Loss)"
      ],
      "metadata": {
        "id": "mbFQLOZTgi3q"
      }
    },
    {
      "cell_type": "code",
      "source": [
        "import itertools\n",
        "# Function to compute feature adaptation loss\n",
        "def compute_feature_adaptation_loss(real_img, fake_img, feature_extractor):\n",
        "    real_features = feature_extractor(real_img)\n",
        "    fake_features = feature_extractor(fake_img)\n",
        "    loss = 0\n",
        "    for real_feature, fake_feature in zip(real_features, fake_features):\n",
        "        loss += nn.functional.l1_loss(fake_feature, real_feature)\n",
        "    return loss\n",
        "\n",
        "# Initialize models\n",
        "G_MRI_to_CT = ResNetGenerator(input_nc=1, output_nc=1).to(device)\n",
        "G_CT_to_MRI = ResNetGenerator(input_nc=1, output_nc=1).to(device)\n",
        "D_MRI = PatchGANDiscriminator(input_nc=1).to(device)\n",
        "D_CT = PatchGANDiscriminator(input_nc=1).to(device)\n",
        "\n",
        "# Define loss functions\n",
        "adversarial_loss = nn.MSELoss().to(device)\n",
        "cycle_loss = nn.L1Loss().to(device)\n",
        "identity_loss = nn.L1Loss().to(device)\n",
        "\n",
        "# Define optimizers\n",
        "optimizer_G = torch.optim.Adam(itertools.chain(G_MRI_to_CT.parameters(), G_CT_to_MRI.parameters()), lr=0.0002, betas=(0.5, 0.999))\n",
        "optimizer_D_MRI = torch.optim.Adam(D_MRI.parameters(), lr=0.0002, betas=(0.5, 0.999))\n",
        "optimizer_D_CT = torch.optim.Adam(D_CT.parameters(), lr=0.0002, betas=(0.5, 0.999))\n",
        "\n",
        "# Learning rate schedulers\n",
        "lr_scheduler_G = torch.optim.lr_scheduler.LambdaLR(optimizer_G, lr_lambda=lambda epoch: 1.0 - max(0, epoch - 100) / 100)\n",
        "lr_scheduler_D_MRI = torch.optim.lr_scheduler.LambdaLR(optimizer_D_MRI, lr_lambda=lambda epoch: 1.0 - max(0, epoch - 100) / 100)\n",
        "lr_scheduler_D_CT = torch.optim.lr_scheduler.LambdaLR(optimizer_D_CT, lr_lambda=lambda epoch: 1.0 - max(0, epoch - 100) / 100)\n",
        "\n",
        "# Training loop\n",
        "num_epochs = 200\n",
        "lambda_feature = 10  # Weight for feature adaptation loss\n",
        "\n",
        "for epoch in range(num_epochs):\n",
        "    for i, ((real_mri, _), (real_ct, _)) in tqdm(enumerate(zip(augmented_mri_dataloader, augmented_ct_dataloader)), total=min(len(augmented_mri_dataloader), len(augmented_ct_dataloader))):\n",
        "        # Transfer to GPU if available\n",
        "        real_mri = real_mri.to(device)\n",
        "        real_ct = real_ct.to(device)\n",
        "\n",
        "        # Generators forward pass\n",
        "        fake_ct = G_MRI_to_CT(real_mri)\n",
        "        recov_mri = G_CT_to_MRI(fake_ct)\n",
        "        fake_mri = G_CT_to_MRI(real_ct)\n",
        "        recov_ct = G_MRI_to_CT(fake_mri)\n",
        "\n",
        "        # Training Discriminators\n",
        "        optimizer_D_MRI.zero_grad()\n",
        "        optimizer_D_CT.zero_grad()\n",
        "\n",
        "        # Real loss\n",
        "        loss_D_MRI_real = adversarial_loss(D_MRI(real_mri), torch.ones_like(D_MRI(real_mri)))\n",
        "        loss_D_CT_real = adversarial_loss(D_CT(real_ct), torch.ones_like(D_CT(real_ct)))\n",
        "\n",
        "        # Fake loss\n",
        "        loss_D_MRI_fake = adversarial_loss(D_MRI(fake_mri.detach()), torch.zeros_like(D_MRI(fake_mri)))\n",
        "        loss_D_CT_fake = adversarial_loss(D_CT(fake_ct.detach()), torch.zeros_like(D_CT(fake_ct)))\n",
        "\n",
        "        # Total discriminator loss\n",
        "        loss_D_MRI = (loss_D_MRI_real + loss_D_MRI_fake) * 0.5\n",
        "        loss_D_CT = (loss_D_CT_real + loss_D_CT_fake) * 0.5\n",
        "\n",
        "        loss_D_MRI.backward()\n",
        "        loss_D_CT.backward()\n",
        "        optimizer_D_MRI.step()\n",
        "        optimizer_D_CT.step()\n",
        "\n",
        "        # Training Generators\n",
        "        optimizer_G.zero_grad()\n",
        "\n",
        "        # Identity loss\n",
        "        loss_identity_MRI = identity_loss(G_CT_to_MRI(real_mri), real_mri)\n",
        "        loss_identity_CT = identity_loss(G_MRI_to_CT(real_ct), real_ct)\n",
        "\n",
        "        # Cycle consistency loss\n",
        "        loss_cycle_MRI = cycle_loss(recov_mri, real_mri)\n",
        "        loss_cycle_CT = cycle_loss(recov_ct, real_ct)\n",
        "\n",
        "        # Feature adaptation loss\n",
        "        real_mri_3ch = real_mri.repeat(1, 3, 1, 1)\n",
        "        fake_mri_3ch = fake_mri.repeat(1, 3, 1, 1)\n",
        "        real_ct_3ch = real_ct.repeat(1, 3, 1, 1)\n",
        "        fake_ct_3ch = fake_ct.repeat(1, 3, 1, 1)\n",
        "\n",
        "        feature_loss_MRI = compute_feature_adaptation_loss(real_mri_3ch, fake_mri_3ch, feature_extractor)\n",
        "        feature_loss_CT = compute_feature_adaptation_loss(real_ct_3ch, fake_ct_3ch, feature_extractor)\n",
        "\n",
        "        # Adversarial loss\n",
        "        loss_G_MRI_to_CT = adversarial_loss(D_CT(fake_ct), torch.ones_like(D_CT(fake_ct)))\n",
        "        loss_G_CT_to_MRI = adversarial_loss(D_MRI(fake_mri), torch.ones_like(D_MRI(fake_mri)))\n",
        "\n",
        "        # Total generator loss\n",
        "        loss_G = (loss_G_MRI_to_CT + loss_G_CT_to_MRI\n",
        "                  + 10.0 * (loss_cycle_MRI + loss_cycle_CT)\n",
        "                  + 5.0 * (loss_identity_MRI + loss_identity_CT)\n",
        "                  + lambda_feature * (feature_loss_MRI + feature_loss_CT))\n",
        "\n",
        "        loss_G.backward()\n",
        "        optimizer_G.step()\n",
        "\n",
        "    print(f\"Epoch [{epoch+1}/{num_epochs}] Loss_D_MRI: {loss_D_MRI.item()} Loss_D_CT: {loss_D_CT.item()} Loss_G: {loss_G.item()}\")\n",
        "\n",
        "    # Step learning rate schedulers\n",
        "    lr_scheduler_G.step()\n",
        "    lr_scheduler_D_MRI.step()\n",
        "    lr_scheduler_D_CT.step()\n"
      ],
      "metadata": {
        "colab": {
          "base_uri": "https://localhost:8080/"
        },
        "id": "8j_spG22D1nw",
        "outputId": "47767f3b-6efc-4c2f-b1bc-ac45cf04c4e2"
      },
      "execution_count": null,
      "outputs": [
        {
          "output_type": "stream",
          "name": "stderr",
          "text": [
            "/usr/local/lib/python3.10/dist-packages/torchvision/models/_utils.py:208: UserWarning: The parameter 'pretrained' is deprecated since 0.13 and may be removed in the future, please use 'weights' instead.\n",
            "  warnings.warn(\n",
            "/usr/local/lib/python3.10/dist-packages/torchvision/models/_utils.py:223: UserWarning: Arguments other than a weight enum or `None` for 'weights' are deprecated since 0.13 and may be removed in the future. The current behavior is equivalent to passing `weights=ResNet18_Weights.IMAGENET1K_V1`. You can also use `weights=ResNet18_Weights.DEFAULT` to get the most up-to-date weights.\n",
            "  warnings.warn(msg)\n",
            "100%|██████████| 154/154 [01:44<00:00,  1.47it/s]"
          ]
        },
        {
          "output_type": "stream",
          "name": "stdout",
          "text": [
            "Epoch [1/200] Loss_D_MRI: 0.15364789962768555 Loss_D_CT: 0.03286004438996315 Loss_G: 6.4857940673828125\n"
          ]
        },
        {
          "output_type": "stream",
          "name": "stderr",
          "text": [
            "\n",
            "100%|██████████| 154/154 [01:44<00:00,  1.47it/s]"
          ]
        },
        {
          "output_type": "stream",
          "name": "stdout",
          "text": [
            "Epoch [2/200] Loss_D_MRI: 0.21637442708015442 Loss_D_CT: 0.10782305896282196 Loss_G: 5.738869667053223\n"
          ]
        },
        {
          "output_type": "stream",
          "name": "stderr",
          "text": [
            "\n",
            "100%|██████████| 154/154 [01:44<00:00,  1.47it/s]"
          ]
        },
        {
          "output_type": "stream",
          "name": "stdout",
          "text": [
            "Epoch [3/200] Loss_D_MRI: 0.16466644406318665 Loss_D_CT: 0.16385126113891602 Loss_G: 4.480669975280762\n"
          ]
        },
        {
          "output_type": "stream",
          "name": "stderr",
          "text": [
            "\n",
            "100%|██████████| 154/154 [01:44<00:00,  1.47it/s]"
          ]
        },
        {
          "output_type": "stream",
          "name": "stdout",
          "text": [
            "Epoch [4/200] Loss_D_MRI: 0.1618286520242691 Loss_D_CT: 0.16586630046367645 Loss_G: 4.185548782348633\n"
          ]
        },
        {
          "output_type": "stream",
          "name": "stderr",
          "text": [
            "\n",
            "100%|██████████| 154/154 [01:44<00:00,  1.48it/s]"
          ]
        },
        {
          "output_type": "stream",
          "name": "stdout",
          "text": [
            "Epoch [5/200] Loss_D_MRI: 0.20155012607574463 Loss_D_CT: 0.20358721911907196 Loss_G: 3.385745048522949\n"
          ]
        },
        {
          "output_type": "stream",
          "name": "stderr",
          "text": [
            "\n",
            "100%|██████████| 154/154 [01:44<00:00,  1.47it/s]"
          ]
        },
        {
          "output_type": "stream",
          "name": "stdout",
          "text": [
            "Epoch [6/200] Loss_D_MRI: 0.1826491802930832 Loss_D_CT: 0.27924540638923645 Loss_G: 3.962397575378418\n"
          ]
        },
        {
          "output_type": "stream",
          "name": "stderr",
          "text": [
            "\n",
            "100%|██████████| 154/154 [01:44<00:00,  1.48it/s]"
          ]
        },
        {
          "output_type": "stream",
          "name": "stdout",
          "text": [
            "Epoch [7/200] Loss_D_MRI: 0.23069897294044495 Loss_D_CT: 0.18171408772468567 Loss_G: 3.5476222038269043\n"
          ]
        },
        {
          "output_type": "stream",
          "name": "stderr",
          "text": [
            "\n",
            "100%|██████████| 154/154 [01:44<00:00,  1.47it/s]"
          ]
        },
        {
          "output_type": "stream",
          "name": "stdout",
          "text": [
            "Epoch [8/200] Loss_D_MRI: 0.15100020170211792 Loss_D_CT: 0.15232393145561218 Loss_G: 3.4296324253082275\n"
          ]
        },
        {
          "output_type": "stream",
          "name": "stderr",
          "text": [
            "\n",
            "100%|██████████| 154/154 [01:44<00:00,  1.48it/s]"
          ]
        },
        {
          "output_type": "stream",
          "name": "stdout",
          "text": [
            "Epoch [9/200] Loss_D_MRI: 0.18719607591629028 Loss_D_CT: 0.2391524463891983 Loss_G: 3.2878832817077637\n"
          ]
        },
        {
          "output_type": "stream",
          "name": "stderr",
          "text": [
            "\n",
            "100%|██████████| 154/154 [01:44<00:00,  1.48it/s]"
          ]
        },
        {
          "output_type": "stream",
          "name": "stdout",
          "text": [
            "Epoch [10/200] Loss_D_MRI: 0.25209954380989075 Loss_D_CT: 0.20405329763889313 Loss_G: 3.4352245330810547\n"
          ]
        },
        {
          "output_type": "stream",
          "name": "stderr",
          "text": [
            "\n",
            "100%|██████████| 154/154 [01:44<00:00,  1.47it/s]"
          ]
        },
        {
          "output_type": "stream",
          "name": "stdout",
          "text": [
            "Epoch [11/200] Loss_D_MRI: 0.1935335099697113 Loss_D_CT: 0.19678758084774017 Loss_G: 3.2647156715393066\n"
          ]
        },
        {
          "output_type": "stream",
          "name": "stderr",
          "text": [
            "\n",
            "100%|██████████| 154/154 [01:44<00:00,  1.48it/s]"
          ]
        },
        {
          "output_type": "stream",
          "name": "stdout",
          "text": [
            "Epoch [12/200] Loss_D_MRI: 0.2190314531326294 Loss_D_CT: 0.22471731901168823 Loss_G: 2.7560348510742188\n"
          ]
        },
        {
          "output_type": "stream",
          "name": "stderr",
          "text": [
            "\n",
            "100%|██████████| 154/154 [01:44<00:00,  1.48it/s]"
          ]
        },
        {
          "output_type": "stream",
          "name": "stdout",
          "text": [
            "Epoch [13/200] Loss_D_MRI: 0.22544097900390625 Loss_D_CT: 0.2347053736448288 Loss_G: 3.062131404876709\n"
          ]
        },
        {
          "output_type": "stream",
          "name": "stderr",
          "text": [
            "\n",
            "100%|██████████| 154/154 [01:44<00:00,  1.47it/s]"
          ]
        },
        {
          "output_type": "stream",
          "name": "stdout",
          "text": [
            "Epoch [14/200] Loss_D_MRI: 0.1984008252620697 Loss_D_CT: 0.21660181879997253 Loss_G: 3.1027469635009766\n"
          ]
        },
        {
          "output_type": "stream",
          "name": "stderr",
          "text": [
            "\n",
            "100%|██████████| 154/154 [01:44<00:00,  1.47it/s]"
          ]
        },
        {
          "output_type": "stream",
          "name": "stdout",
          "text": [
            "Epoch [15/200] Loss_D_MRI: 0.1765383630990982 Loss_D_CT: 0.25864580273628235 Loss_G: 3.2784907817840576\n"
          ]
        },
        {
          "output_type": "stream",
          "name": "stderr",
          "text": [
            "\n",
            "100%|██████████| 154/154 [01:44<00:00,  1.48it/s]"
          ]
        },
        {
          "output_type": "stream",
          "name": "stdout",
          "text": [
            "Epoch [16/200] Loss_D_MRI: 0.23052111268043518 Loss_D_CT: 0.1916620284318924 Loss_G: 3.3353848457336426\n"
          ]
        },
        {
          "output_type": "stream",
          "name": "stderr",
          "text": [
            "\n",
            "100%|██████████| 154/154 [01:44<00:00,  1.47it/s]"
          ]
        },
        {
          "output_type": "stream",
          "name": "stdout",
          "text": [
            "Epoch [17/200] Loss_D_MRI: 0.16753776371479034 Loss_D_CT: 0.0988316535949707 Loss_G: 2.904653310775757\n"
          ]
        },
        {
          "output_type": "stream",
          "name": "stderr",
          "text": [
            "\n",
            "100%|██████████| 154/154 [01:44<00:00,  1.47it/s]"
          ]
        },
        {
          "output_type": "stream",
          "name": "stdout",
          "text": [
            "Epoch [18/200] Loss_D_MRI: 0.24209663271903992 Loss_D_CT: 0.2872178852558136 Loss_G: 2.5738182067871094\n"
          ]
        },
        {
          "output_type": "stream",
          "name": "stderr",
          "text": [
            "\n",
            "100%|██████████| 154/154 [01:44<00:00,  1.47it/s]"
          ]
        },
        {
          "output_type": "stream",
          "name": "stdout",
          "text": [
            "Epoch [19/200] Loss_D_MRI: 0.24562478065490723 Loss_D_CT: 0.24651792645454407 Loss_G: 2.5434958934783936\n"
          ]
        },
        {
          "output_type": "stream",
          "name": "stderr",
          "text": [
            "\n",
            "100%|██████████| 154/154 [01:44<00:00,  1.48it/s]"
          ]
        },
        {
          "output_type": "stream",
          "name": "stdout",
          "text": [
            "Epoch [20/200] Loss_D_MRI: 0.2417694628238678 Loss_D_CT: 0.24691259860992432 Loss_G: 2.599378824234009\n"
          ]
        },
        {
          "output_type": "stream",
          "name": "stderr",
          "text": [
            "\n",
            "100%|██████████| 154/154 [01:44<00:00,  1.47it/s]"
          ]
        },
        {
          "output_type": "stream",
          "name": "stdout",
          "text": [
            "Epoch [21/200] Loss_D_MRI: 0.24220165610313416 Loss_D_CT: 0.2452923208475113 Loss_G: 2.893984317779541\n"
          ]
        },
        {
          "output_type": "stream",
          "name": "stderr",
          "text": [
            "\n",
            "100%|██████████| 154/154 [01:44<00:00,  1.47it/s]"
          ]
        },
        {
          "output_type": "stream",
          "name": "stdout",
          "text": [
            "Epoch [22/200] Loss_D_MRI: 0.24464932084083557 Loss_D_CT: 0.25222474336624146 Loss_G: 2.496438980102539\n"
          ]
        },
        {
          "output_type": "stream",
          "name": "stderr",
          "text": [
            "\n",
            "100%|██████████| 154/154 [01:44<00:00,  1.47it/s]"
          ]
        },
        {
          "output_type": "stream",
          "name": "stdout",
          "text": [
            "Epoch [23/200] Loss_D_MRI: 0.2475849688053131 Loss_D_CT: 0.2514062523841858 Loss_G: 2.9613780975341797\n"
          ]
        },
        {
          "output_type": "stream",
          "name": "stderr",
          "text": [
            "\n",
            "100%|██████████| 154/154 [01:44<00:00,  1.47it/s]"
          ]
        },
        {
          "output_type": "stream",
          "name": "stdout",
          "text": [
            "Epoch [24/200] Loss_D_MRI: 0.24522465467453003 Loss_D_CT: 0.24887540936470032 Loss_G: 2.2907891273498535\n"
          ]
        },
        {
          "output_type": "stream",
          "name": "stderr",
          "text": [
            "\n",
            "100%|██████████| 154/154 [01:44<00:00,  1.47it/s]"
          ]
        },
        {
          "output_type": "stream",
          "name": "stdout",
          "text": [
            "Epoch [25/200] Loss_D_MRI: 0.25243130326271057 Loss_D_CT: 0.24080456793308258 Loss_G: 2.413886785507202\n"
          ]
        },
        {
          "output_type": "stream",
          "name": "stderr",
          "text": [
            "\n",
            "100%|██████████| 154/154 [01:44<00:00,  1.47it/s]"
          ]
        },
        {
          "output_type": "stream",
          "name": "stdout",
          "text": [
            "Epoch [26/200] Loss_D_MRI: 0.22386527061462402 Loss_D_CT: 0.2415425032377243 Loss_G: 2.177619695663452\n"
          ]
        },
        {
          "output_type": "stream",
          "name": "stderr",
          "text": [
            "\n",
            "100%|██████████| 154/154 [01:44<00:00,  1.48it/s]"
          ]
        },
        {
          "output_type": "stream",
          "name": "stdout",
          "text": [
            "Epoch [27/200] Loss_D_MRI: 0.22934575378894806 Loss_D_CT: 0.2632789611816406 Loss_G: 2.6579766273498535\n"
          ]
        },
        {
          "output_type": "stream",
          "name": "stderr",
          "text": [
            "\n",
            "100%|██████████| 154/154 [01:44<00:00,  1.47it/s]"
          ]
        },
        {
          "output_type": "stream",
          "name": "stdout",
          "text": [
            "Epoch [28/200] Loss_D_MRI: 0.24053743481636047 Loss_D_CT: 0.7064818143844604 Loss_G: 2.4204635620117188\n"
          ]
        },
        {
          "output_type": "stream",
          "name": "stderr",
          "text": [
            "\n",
            "100%|██████████| 154/154 [01:44<00:00,  1.47it/s]"
          ]
        },
        {
          "output_type": "stream",
          "name": "stdout",
          "text": [
            "Epoch [29/200] Loss_D_MRI: 0.22733578085899353 Loss_D_CT: 0.2661280930042267 Loss_G: 3.5613551139831543\n"
          ]
        },
        {
          "output_type": "stream",
          "name": "stderr",
          "text": [
            "\n",
            "100%|██████████| 154/154 [01:45<00:00,  1.46it/s]"
          ]
        },
        {
          "output_type": "stream",
          "name": "stdout",
          "text": [
            "Epoch [30/200] Loss_D_MRI: 0.21647393703460693 Loss_D_CT: 0.275484174489975 Loss_G: 2.6813101768493652\n"
          ]
        },
        {
          "output_type": "stream",
          "name": "stderr",
          "text": [
            "\n",
            "100%|██████████| 154/154 [01:44<00:00,  1.48it/s]"
          ]
        },
        {
          "output_type": "stream",
          "name": "stdout",
          "text": [
            "Epoch [31/200] Loss_D_MRI: 0.20897400379180908 Loss_D_CT: 0.23553676903247833 Loss_G: 3.035794496536255\n"
          ]
        },
        {
          "output_type": "stream",
          "name": "stderr",
          "text": [
            "\n",
            "100%|██████████| 154/154 [01:44<00:00,  1.48it/s]"
          ]
        },
        {
          "output_type": "stream",
          "name": "stdout",
          "text": [
            "Epoch [32/200] Loss_D_MRI: 0.2138284146785736 Loss_D_CT: 0.24243974685668945 Loss_G: 3.058225393295288\n"
          ]
        },
        {
          "output_type": "stream",
          "name": "stderr",
          "text": [
            "\n",
            "100%|██████████| 154/154 [01:44<00:00,  1.47it/s]"
          ]
        },
        {
          "output_type": "stream",
          "name": "stdout",
          "text": [
            "Epoch [33/200] Loss_D_MRI: 0.22247043251991272 Loss_D_CT: 0.26037126779556274 Loss_G: 2.4793715476989746\n"
          ]
        },
        {
          "output_type": "stream",
          "name": "stderr",
          "text": [
            "\n",
            "100%|██████████| 154/154 [01:44<00:00,  1.48it/s]"
          ]
        },
        {
          "output_type": "stream",
          "name": "stdout",
          "text": [
            "Epoch [34/200] Loss_D_MRI: 0.2009226679801941 Loss_D_CT: 0.22667938470840454 Loss_G: 2.627622604370117\n"
          ]
        },
        {
          "output_type": "stream",
          "name": "stderr",
          "text": [
            "\n",
            "100%|██████████| 154/154 [01:44<00:00,  1.47it/s]"
          ]
        },
        {
          "output_type": "stream",
          "name": "stdout",
          "text": [
            "Epoch [35/200] Loss_D_MRI: 0.21693368256092072 Loss_D_CT: 0.2218588888645172 Loss_G: 2.3517253398895264\n"
          ]
        },
        {
          "output_type": "stream",
          "name": "stderr",
          "text": [
            "\n",
            "100%|██████████| 154/154 [01:44<00:00,  1.47it/s]"
          ]
        },
        {
          "output_type": "stream",
          "name": "stdout",
          "text": [
            "Epoch [36/200] Loss_D_MRI: 0.2667759358882904 Loss_D_CT: 0.3040698766708374 Loss_G: 3.079430341720581\n"
          ]
        },
        {
          "output_type": "stream",
          "name": "stderr",
          "text": [
            "\n",
            "100%|██████████| 154/154 [01:44<00:00,  1.47it/s]"
          ]
        },
        {
          "output_type": "stream",
          "name": "stdout",
          "text": [
            "Epoch [37/200] Loss_D_MRI: 0.24053165316581726 Loss_D_CT: 0.3020143210887909 Loss_G: 3.7538321018218994\n"
          ]
        },
        {
          "output_type": "stream",
          "name": "stderr",
          "text": [
            "\n",
            "100%|██████████| 154/154 [01:44<00:00,  1.48it/s]"
          ]
        },
        {
          "output_type": "stream",
          "name": "stdout",
          "text": [
            "Epoch [38/200] Loss_D_MRI: 0.24865660071372986 Loss_D_CT: 0.24751663208007812 Loss_G: 2.6063544750213623\n"
          ]
        },
        {
          "output_type": "stream",
          "name": "stderr",
          "text": [
            "\n",
            "100%|██████████| 154/154 [01:44<00:00,  1.48it/s]"
          ]
        },
        {
          "output_type": "stream",
          "name": "stdout",
          "text": [
            "Epoch [39/200] Loss_D_MRI: 0.23960986733436584 Loss_D_CT: 0.23375584185123444 Loss_G: 2.89005708694458\n"
          ]
        },
        {
          "output_type": "stream",
          "name": "stderr",
          "text": [
            "\n",
            "100%|██████████| 154/154 [01:44<00:00,  1.47it/s]"
          ]
        },
        {
          "output_type": "stream",
          "name": "stdout",
          "text": [
            "Epoch [40/200] Loss_D_MRI: 0.2415517270565033 Loss_D_CT: 0.24799489974975586 Loss_G: 2.0333480834960938\n"
          ]
        },
        {
          "output_type": "stream",
          "name": "stderr",
          "text": [
            "\n",
            "100%|██████████| 154/154 [01:44<00:00,  1.48it/s]"
          ]
        },
        {
          "output_type": "stream",
          "name": "stdout",
          "text": [
            "Epoch [41/200] Loss_D_MRI: 0.2503300607204437 Loss_D_CT: 0.23302137851715088 Loss_G: 2.433100461959839\n"
          ]
        },
        {
          "output_type": "stream",
          "name": "stderr",
          "text": [
            "\n",
            "100%|██████████| 154/154 [01:44<00:00,  1.48it/s]"
          ]
        },
        {
          "output_type": "stream",
          "name": "stdout",
          "text": [
            "Epoch [42/200] Loss_D_MRI: 0.2470039427280426 Loss_D_CT: 0.24065697193145752 Loss_G: 2.1355061531066895\n"
          ]
        },
        {
          "output_type": "stream",
          "name": "stderr",
          "text": [
            "\n",
            "100%|██████████| 154/154 [01:44<00:00,  1.47it/s]"
          ]
        },
        {
          "output_type": "stream",
          "name": "stdout",
          "text": [
            "Epoch [43/200] Loss_D_MRI: 0.24111953377723694 Loss_D_CT: 0.2590985894203186 Loss_G: 2.00262451171875\n"
          ]
        },
        {
          "output_type": "stream",
          "name": "stderr",
          "text": [
            "\n",
            "100%|██████████| 154/154 [01:44<00:00,  1.47it/s]"
          ]
        },
        {
          "output_type": "stream",
          "name": "stdout",
          "text": [
            "Epoch [44/200] Loss_D_MRI: 0.26161646842956543 Loss_D_CT: 0.22628191113471985 Loss_G: 2.116781711578369\n"
          ]
        },
        {
          "output_type": "stream",
          "name": "stderr",
          "text": [
            "\n",
            "100%|██████████| 154/154 [01:44<00:00,  1.48it/s]"
          ]
        },
        {
          "output_type": "stream",
          "name": "stdout",
          "text": [
            "Epoch [45/200] Loss_D_MRI: 0.25091373920440674 Loss_D_CT: 0.24671107530593872 Loss_G: 2.176426410675049\n"
          ]
        },
        {
          "output_type": "stream",
          "name": "stderr",
          "text": [
            "\n",
            "100%|██████████| 154/154 [01:45<00:00,  1.47it/s]"
          ]
        },
        {
          "output_type": "stream",
          "name": "stdout",
          "text": [
            "Epoch [46/200] Loss_D_MRI: 0.256480872631073 Loss_D_CT: 0.24412189424037933 Loss_G: 2.2132229804992676\n"
          ]
        },
        {
          "output_type": "stream",
          "name": "stderr",
          "text": [
            "\n",
            "100%|██████████| 154/154 [01:44<00:00,  1.48it/s]"
          ]
        },
        {
          "output_type": "stream",
          "name": "stdout",
          "text": [
            "Epoch [47/200] Loss_D_MRI: 0.23860907554626465 Loss_D_CT: 0.25124093890190125 Loss_G: 2.154667615890503\n"
          ]
        },
        {
          "output_type": "stream",
          "name": "stderr",
          "text": [
            "\n",
            "100%|██████████| 154/154 [01:44<00:00,  1.47it/s]"
          ]
        },
        {
          "output_type": "stream",
          "name": "stdout",
          "text": [
            "Epoch [48/200] Loss_D_MRI: 0.24528580904006958 Loss_D_CT: 0.2494105100631714 Loss_G: 1.9997553825378418\n"
          ]
        },
        {
          "output_type": "stream",
          "name": "stderr",
          "text": [
            "\n",
            "100%|██████████| 154/154 [01:43<00:00,  1.48it/s]"
          ]
        },
        {
          "output_type": "stream",
          "name": "stdout",
          "text": [
            "Epoch [49/200] Loss_D_MRI: 0.2492554783821106 Loss_D_CT: 0.2653801739215851 Loss_G: 2.0117108821868896\n"
          ]
        },
        {
          "output_type": "stream",
          "name": "stderr",
          "text": [
            "\n",
            "100%|██████████| 154/154 [01:44<00:00,  1.48it/s]"
          ]
        },
        {
          "output_type": "stream",
          "name": "stdout",
          "text": [
            "Epoch [50/200] Loss_D_MRI: 0.24644309282302856 Loss_D_CT: 0.2373070865869522 Loss_G: 2.113521099090576\n"
          ]
        },
        {
          "output_type": "stream",
          "name": "stderr",
          "text": [
            "\n",
            "100%|██████████| 154/154 [01:44<00:00,  1.47it/s]"
          ]
        },
        {
          "output_type": "stream",
          "name": "stdout",
          "text": [
            "Epoch [51/200] Loss_D_MRI: 0.23849326372146606 Loss_D_CT: 0.24173253774642944 Loss_G: 2.047988176345825\n"
          ]
        },
        {
          "output_type": "stream",
          "name": "stderr",
          "text": [
            "\n",
            "100%|██████████| 154/154 [01:44<00:00,  1.47it/s]"
          ]
        },
        {
          "output_type": "stream",
          "name": "stdout",
          "text": [
            "Epoch [52/200] Loss_D_MRI: 0.24744084477424622 Loss_D_CT: 0.2410995364189148 Loss_G: 2.0830864906311035\n"
          ]
        },
        {
          "output_type": "stream",
          "name": "stderr",
          "text": [
            "\n",
            "100%|██████████| 154/154 [01:44<00:00,  1.48it/s]"
          ]
        },
        {
          "output_type": "stream",
          "name": "stdout",
          "text": [
            "Epoch [53/200] Loss_D_MRI: 0.24478888511657715 Loss_D_CT: 0.23522889614105225 Loss_G: 2.1147942543029785\n"
          ]
        },
        {
          "output_type": "stream",
          "name": "stderr",
          "text": [
            "\n",
            "100%|██████████| 154/154 [01:44<00:00,  1.47it/s]"
          ]
        },
        {
          "output_type": "stream",
          "name": "stdout",
          "text": [
            "Epoch [54/200] Loss_D_MRI: 0.23071739077568054 Loss_D_CT: 0.22874507308006287 Loss_G: 2.177738904953003\n"
          ]
        },
        {
          "output_type": "stream",
          "name": "stderr",
          "text": [
            "\n",
            "100%|██████████| 154/154 [01:44<00:00,  1.47it/s]"
          ]
        },
        {
          "output_type": "stream",
          "name": "stdout",
          "text": [
            "Epoch [55/200] Loss_D_MRI: 0.2525886297225952 Loss_D_CT: 0.2421209216117859 Loss_G: 2.4396162033081055\n"
          ]
        },
        {
          "output_type": "stream",
          "name": "stderr",
          "text": [
            "\n",
            "100%|██████████| 154/154 [01:44<00:00,  1.47it/s]"
          ]
        },
        {
          "output_type": "stream",
          "name": "stdout",
          "text": [
            "Epoch [56/200] Loss_D_MRI: 0.25584477186203003 Loss_D_CT: 0.25142258405685425 Loss_G: 2.034954071044922\n"
          ]
        },
        {
          "output_type": "stream",
          "name": "stderr",
          "text": [
            "\n",
            "100%|██████████| 154/154 [01:44<00:00,  1.48it/s]"
          ]
        },
        {
          "output_type": "stream",
          "name": "stdout",
          "text": [
            "Epoch [57/200] Loss_D_MRI: 0.24823859333992004 Loss_D_CT: 0.22355520725250244 Loss_G: 2.3748228549957275\n"
          ]
        },
        {
          "output_type": "stream",
          "name": "stderr",
          "text": [
            "\n",
            "100%|██████████| 154/154 [01:44<00:00,  1.47it/s]"
          ]
        },
        {
          "output_type": "stream",
          "name": "stdout",
          "text": [
            "Epoch [58/200] Loss_D_MRI: 0.2526324391365051 Loss_D_CT: 0.19108480215072632 Loss_G: 2.0909321308135986\n"
          ]
        },
        {
          "output_type": "stream",
          "name": "stderr",
          "text": [
            "\n",
            "100%|██████████| 154/154 [01:44<00:00,  1.48it/s]"
          ]
        },
        {
          "output_type": "stream",
          "name": "stdout",
          "text": [
            "Epoch [59/200] Loss_D_MRI: 0.24460504949092865 Loss_D_CT: 0.24336573481559753 Loss_G: 2.6142799854278564\n"
          ]
        },
        {
          "output_type": "stream",
          "name": "stderr",
          "text": [
            "\n",
            "100%|██████████| 154/154 [01:43<00:00,  1.48it/s]"
          ]
        },
        {
          "output_type": "stream",
          "name": "stdout",
          "text": [
            "Epoch [60/200] Loss_D_MRI: 0.2498994767665863 Loss_D_CT: 0.24667006731033325 Loss_G: 1.992671251296997\n"
          ]
        },
        {
          "output_type": "stream",
          "name": "stderr",
          "text": [
            "\n",
            "100%|██████████| 154/154 [01:44<00:00,  1.47it/s]"
          ]
        },
        {
          "output_type": "stream",
          "name": "stdout",
          "text": [
            "Epoch [61/200] Loss_D_MRI: 0.2526392936706543 Loss_D_CT: 0.23130804300308228 Loss_G: 1.9615278244018555\n"
          ]
        },
        {
          "output_type": "stream",
          "name": "stderr",
          "text": [
            "\n",
            "100%|██████████| 154/154 [01:44<00:00,  1.47it/s]"
          ]
        },
        {
          "output_type": "stream",
          "name": "stdout",
          "text": [
            "Epoch [62/200] Loss_D_MRI: 0.24824422597885132 Loss_D_CT: 0.2602720856666565 Loss_G: 1.9266159534454346\n"
          ]
        },
        {
          "output_type": "stream",
          "name": "stderr",
          "text": [
            "\n",
            "100%|██████████| 154/154 [01:44<00:00,  1.47it/s]"
          ]
        },
        {
          "output_type": "stream",
          "name": "stdout",
          "text": [
            "Epoch [63/200] Loss_D_MRI: 0.2485198676586151 Loss_D_CT: 0.226462721824646 Loss_G: 3.6673316955566406\n"
          ]
        },
        {
          "output_type": "stream",
          "name": "stderr",
          "text": [
            "\n",
            "100%|██████████| 154/154 [01:44<00:00,  1.48it/s]"
          ]
        },
        {
          "output_type": "stream",
          "name": "stdout",
          "text": [
            "Epoch [64/200] Loss_D_MRI: 0.2664777338504791 Loss_D_CT: 0.2875760793685913 Loss_G: 3.224797487258911\n"
          ]
        },
        {
          "output_type": "stream",
          "name": "stderr",
          "text": [
            "\n",
            "100%|██████████| 154/154 [01:44<00:00,  1.47it/s]"
          ]
        },
        {
          "output_type": "stream",
          "name": "stdout",
          "text": [
            "Epoch [65/200] Loss_D_MRI: 0.2553447484970093 Loss_D_CT: 0.2078857272863388 Loss_G: 2.320446252822876\n"
          ]
        },
        {
          "output_type": "stream",
          "name": "stderr",
          "text": [
            "\n",
            "100%|██████████| 154/154 [01:44<00:00,  1.48it/s]"
          ]
        },
        {
          "output_type": "stream",
          "name": "stdout",
          "text": [
            "Epoch [66/200] Loss_D_MRI: 0.25377795100212097 Loss_D_CT: 0.2132367193698883 Loss_G: 2.2361361980438232\n"
          ]
        },
        {
          "output_type": "stream",
          "name": "stderr",
          "text": [
            "\n",
            "100%|██████████| 154/154 [01:45<00:00,  1.47it/s]"
          ]
        },
        {
          "output_type": "stream",
          "name": "stdout",
          "text": [
            "Epoch [67/200] Loss_D_MRI: 0.24550774693489075 Loss_D_CT: 0.2189384400844574 Loss_G: 3.0013785362243652\n"
          ]
        },
        {
          "output_type": "stream",
          "name": "stderr",
          "text": [
            "\n",
            "100%|██████████| 154/154 [01:44<00:00,  1.47it/s]"
          ]
        },
        {
          "output_type": "stream",
          "name": "stdout",
          "text": [
            "Epoch [68/200] Loss_D_MRI: 0.24349892139434814 Loss_D_CT: 0.21654364466667175 Loss_G: 1.8340845108032227\n"
          ]
        },
        {
          "output_type": "stream",
          "name": "stderr",
          "text": [
            "\n",
            "100%|██████████| 154/154 [01:44<00:00,  1.47it/s]"
          ]
        },
        {
          "output_type": "stream",
          "name": "stdout",
          "text": [
            "Epoch [69/200] Loss_D_MRI: 0.24378271400928497 Loss_D_CT: 0.21688762307167053 Loss_G: 2.2210042476654053\n"
          ]
        },
        {
          "output_type": "stream",
          "name": "stderr",
          "text": [
            "\n",
            "100%|██████████| 154/154 [01:44<00:00,  1.47it/s]"
          ]
        },
        {
          "output_type": "stream",
          "name": "stdout",
          "text": [
            "Epoch [70/200] Loss_D_MRI: 0.2500191628932953 Loss_D_CT: 0.22266873717308044 Loss_G: 2.013622522354126\n"
          ]
        },
        {
          "output_type": "stream",
          "name": "stderr",
          "text": [
            "\n",
            "100%|██████████| 154/154 [01:44<00:00,  1.47it/s]"
          ]
        },
        {
          "output_type": "stream",
          "name": "stdout",
          "text": [
            "Epoch [71/200] Loss_D_MRI: 0.2445019781589508 Loss_D_CT: 0.2350776344537735 Loss_G: 2.37416672706604\n"
          ]
        },
        {
          "output_type": "stream",
          "name": "stderr",
          "text": [
            "\n",
            "100%|██████████| 154/154 [01:44<00:00,  1.47it/s]"
          ]
        },
        {
          "output_type": "stream",
          "name": "stdout",
          "text": [
            "Epoch [72/200] Loss_D_MRI: 0.24347606301307678 Loss_D_CT: 0.22258347272872925 Loss_G: 1.9519516229629517\n"
          ]
        },
        {
          "output_type": "stream",
          "name": "stderr",
          "text": [
            "\n",
            "100%|██████████| 154/154 [01:44<00:00,  1.48it/s]\n"
          ]
        },
        {
          "output_type": "stream",
          "name": "stdout",
          "text": [
            "Epoch [73/200] Loss_D_MRI: 0.24842622876167297 Loss_D_CT: 0.2825726270675659 Loss_G: 2.152916193008423\n"
          ]
        },
        {
          "output_type": "stream",
          "name": "stderr",
          "text": [
            "100%|██████████| 154/154 [01:45<00:00,  1.46it/s]"
          ]
        },
        {
          "output_type": "stream",
          "name": "stdout",
          "text": [
            "Epoch [74/200] Loss_D_MRI: 0.23224413394927979 Loss_D_CT: 0.23689058423042297 Loss_G: 2.157996892929077\n"
          ]
        },
        {
          "output_type": "stream",
          "name": "stderr",
          "text": [
            "\n",
            "100%|██████████| 154/154 [01:44<00:00,  1.47it/s]"
          ]
        },
        {
          "output_type": "stream",
          "name": "stdout",
          "text": [
            "Epoch [75/200] Loss_D_MRI: 0.23769637942314148 Loss_D_CT: 0.24993926286697388 Loss_G: 1.7349797487258911\n"
          ]
        },
        {
          "output_type": "stream",
          "name": "stderr",
          "text": [
            "\n",
            "100%|██████████| 154/154 [01:44<00:00,  1.47it/s]"
          ]
        },
        {
          "output_type": "stream",
          "name": "stdout",
          "text": [
            "Epoch [76/200] Loss_D_MRI: 0.24014714360237122 Loss_D_CT: 0.258460134267807 Loss_G: 2.173358917236328\n"
          ]
        },
        {
          "output_type": "stream",
          "name": "stderr",
          "text": [
            "\n",
            "100%|██████████| 154/154 [01:44<00:00,  1.47it/s]"
          ]
        },
        {
          "output_type": "stream",
          "name": "stdout",
          "text": [
            "Epoch [77/200] Loss_D_MRI: 0.24736501276493073 Loss_D_CT: 0.2543182075023651 Loss_G: 2.310389995574951\n"
          ]
        },
        {
          "output_type": "stream",
          "name": "stderr",
          "text": [
            "\n",
            "100%|██████████| 154/154 [01:44<00:00,  1.48it/s]"
          ]
        },
        {
          "output_type": "stream",
          "name": "stdout",
          "text": [
            "Epoch [78/200] Loss_D_MRI: 0.24585393071174622 Loss_D_CT: 0.2404213845729828 Loss_G: 1.888933539390564\n"
          ]
        },
        {
          "output_type": "stream",
          "name": "stderr",
          "text": [
            "\n",
            "100%|██████████| 154/154 [01:45<00:00,  1.47it/s]"
          ]
        },
        {
          "output_type": "stream",
          "name": "stdout",
          "text": [
            "Epoch [79/200] Loss_D_MRI: 0.249318927526474 Loss_D_CT: 0.23314964771270752 Loss_G: 1.809797763824463\n"
          ]
        },
        {
          "output_type": "stream",
          "name": "stderr",
          "text": [
            "\n",
            "100%|██████████| 154/154 [01:44<00:00,  1.47it/s]"
          ]
        },
        {
          "output_type": "stream",
          "name": "stdout",
          "text": [
            "Epoch [80/200] Loss_D_MRI: 0.25065141916275024 Loss_D_CT: 0.31106090545654297 Loss_G: 1.9315760135650635\n"
          ]
        },
        {
          "output_type": "stream",
          "name": "stderr",
          "text": [
            "\n",
            "100%|██████████| 154/154 [01:43<00:00,  1.48it/s]"
          ]
        },
        {
          "output_type": "stream",
          "name": "stdout",
          "text": [
            "Epoch [81/200] Loss_D_MRI: 0.25156036019325256 Loss_D_CT: 0.210471510887146 Loss_G: 1.9791465997695923\n"
          ]
        },
        {
          "output_type": "stream",
          "name": "stderr",
          "text": [
            "\n",
            "100%|██████████| 154/154 [01:44<00:00,  1.47it/s]"
          ]
        },
        {
          "output_type": "stream",
          "name": "stdout",
          "text": [
            "Epoch [82/200] Loss_D_MRI: 0.2562912106513977 Loss_D_CT: 0.23623508214950562 Loss_G: 1.9313982725143433\n"
          ]
        },
        {
          "output_type": "stream",
          "name": "stderr",
          "text": [
            "\n",
            "100%|██████████| 154/154 [01:44<00:00,  1.48it/s]"
          ]
        },
        {
          "output_type": "stream",
          "name": "stdout",
          "text": [
            "Epoch [83/200] Loss_D_MRI: 0.24586832523345947 Loss_D_CT: 0.2381015121936798 Loss_G: 1.9772388935089111\n"
          ]
        },
        {
          "output_type": "stream",
          "name": "stderr",
          "text": [
            "\n",
            "100%|██████████| 154/154 [01:44<00:00,  1.47it/s]"
          ]
        },
        {
          "output_type": "stream",
          "name": "stdout",
          "text": [
            "Epoch [84/200] Loss_D_MRI: 0.23769928514957428 Loss_D_CT: 0.25129494071006775 Loss_G: 1.8622369766235352\n"
          ]
        },
        {
          "output_type": "stream",
          "name": "stderr",
          "text": [
            "\n",
            "100%|██████████| 154/154 [01:44<00:00,  1.47it/s]"
          ]
        },
        {
          "output_type": "stream",
          "name": "stdout",
          "text": [
            "Epoch [85/200] Loss_D_MRI: 0.24548134207725525 Loss_D_CT: 0.20621716976165771 Loss_G: 1.985267162322998\n"
          ]
        },
        {
          "output_type": "stream",
          "name": "stderr",
          "text": [
            "\n",
            "100%|██████████| 154/154 [01:44<00:00,  1.47it/s]"
          ]
        },
        {
          "output_type": "stream",
          "name": "stdout",
          "text": [
            "Epoch [86/200] Loss_D_MRI: 0.2564341127872467 Loss_D_CT: 0.22579574584960938 Loss_G: 2.1853084564208984\n"
          ]
        },
        {
          "output_type": "stream",
          "name": "stderr",
          "text": [
            "\n",
            "100%|██████████| 154/154 [01:44<00:00,  1.47it/s]"
          ]
        },
        {
          "output_type": "stream",
          "name": "stdout",
          "text": [
            "Epoch [87/200] Loss_D_MRI: 0.24305647611618042 Loss_D_CT: 0.2972169816493988 Loss_G: 2.4462177753448486\n"
          ]
        },
        {
          "output_type": "stream",
          "name": "stderr",
          "text": [
            "\n",
            "100%|██████████| 154/154 [01:44<00:00,  1.48it/s]"
          ]
        },
        {
          "output_type": "stream",
          "name": "stdout",
          "text": [
            "Epoch [88/200] Loss_D_MRI: 0.2593449354171753 Loss_D_CT: 0.22375106811523438 Loss_G: 2.1542773246765137\n"
          ]
        },
        {
          "output_type": "stream",
          "name": "stderr",
          "text": [
            "\n",
            "100%|██████████| 154/154 [01:44<00:00,  1.47it/s]"
          ]
        },
        {
          "output_type": "stream",
          "name": "stdout",
          "text": [
            "Epoch [89/200] Loss_D_MRI: 0.23825210332870483 Loss_D_CT: 0.25252553820610046 Loss_G: 1.8134008646011353\n"
          ]
        },
        {
          "output_type": "stream",
          "name": "stderr",
          "text": [
            "\n",
            "100%|██████████| 154/154 [01:44<00:00,  1.47it/s]"
          ]
        },
        {
          "output_type": "stream",
          "name": "stdout",
          "text": [
            "Epoch [90/200] Loss_D_MRI: 0.22641310095787048 Loss_D_CT: 0.26155585050582886 Loss_G: 1.9063619375228882\n"
          ]
        },
        {
          "output_type": "stream",
          "name": "stderr",
          "text": [
            "\n",
            "100%|██████████| 154/154 [01:44<00:00,  1.47it/s]"
          ]
        },
        {
          "output_type": "stream",
          "name": "stdout",
          "text": [
            "Epoch [91/200] Loss_D_MRI: 0.24069619178771973 Loss_D_CT: 0.2183837592601776 Loss_G: 2.0851526260375977\n"
          ]
        },
        {
          "output_type": "stream",
          "name": "stderr",
          "text": [
            "\n",
            "100%|██████████| 154/154 [01:44<00:00,  1.48it/s]"
          ]
        },
        {
          "output_type": "stream",
          "name": "stdout",
          "text": [
            "Epoch [92/200] Loss_D_MRI: 0.24338272213935852 Loss_D_CT: 0.14238253235816956 Loss_G: 2.8694252967834473\n"
          ]
        },
        {
          "output_type": "stream",
          "name": "stderr",
          "text": [
            "\n",
            "100%|██████████| 154/154 [01:44<00:00,  1.47it/s]"
          ]
        },
        {
          "output_type": "stream",
          "name": "stdout",
          "text": [
            "Epoch [93/200] Loss_D_MRI: 0.24038919806480408 Loss_D_CT: 0.2018555998802185 Loss_G: 1.970846176147461\n"
          ]
        },
        {
          "output_type": "stream",
          "name": "stderr",
          "text": [
            "\n",
            "100%|██████████| 154/154 [01:44<00:00,  1.47it/s]"
          ]
        },
        {
          "output_type": "stream",
          "name": "stdout",
          "text": [
            "Epoch [94/200] Loss_D_MRI: 0.2354249656200409 Loss_D_CT: 0.6120883226394653 Loss_G: 2.4687552452087402\n"
          ]
        },
        {
          "output_type": "stream",
          "name": "stderr",
          "text": [
            "\n",
            "100%|██████████| 154/154 [01:45<00:00,  1.47it/s]"
          ]
        },
        {
          "output_type": "stream",
          "name": "stdout",
          "text": [
            "Epoch [95/200] Loss_D_MRI: 0.23069287836551666 Loss_D_CT: 0.25128963589668274 Loss_G: 1.7506662607192993\n"
          ]
        },
        {
          "output_type": "stream",
          "name": "stderr",
          "text": [
            "\n",
            "100%|██████████| 154/154 [01:44<00:00,  1.48it/s]"
          ]
        },
        {
          "output_type": "stream",
          "name": "stdout",
          "text": [
            "Epoch [96/200] Loss_D_MRI: 0.2088373452425003 Loss_D_CT: 0.258787602186203 Loss_G: 5.0650153160095215\n"
          ]
        },
        {
          "output_type": "stream",
          "name": "stderr",
          "text": [
            "\n",
            "100%|██████████| 154/154 [01:44<00:00,  1.47it/s]"
          ]
        },
        {
          "output_type": "stream",
          "name": "stdout",
          "text": [
            "Epoch [97/200] Loss_D_MRI: 0.3024712800979614 Loss_D_CT: 0.25722551345825195 Loss_G: 2.417398691177368\n"
          ]
        },
        {
          "output_type": "stream",
          "name": "stderr",
          "text": [
            "\n",
            "100%|██████████| 154/154 [01:44<00:00,  1.48it/s]"
          ]
        },
        {
          "output_type": "stream",
          "name": "stdout",
          "text": [
            "Epoch [98/200] Loss_D_MRI: 0.25151318311691284 Loss_D_CT: 0.2501382529735565 Loss_G: 1.817429780960083\n"
          ]
        },
        {
          "output_type": "stream",
          "name": "stderr",
          "text": [
            "\n",
            "100%|██████████| 154/154 [01:44<00:00,  1.47it/s]"
          ]
        },
        {
          "output_type": "stream",
          "name": "stdout",
          "text": [
            "Epoch [99/200] Loss_D_MRI: 0.21842429041862488 Loss_D_CT: 0.24158605933189392 Loss_G: 1.8455438613891602\n"
          ]
        },
        {
          "output_type": "stream",
          "name": "stderr",
          "text": [
            "\n",
            "100%|██████████| 154/154 [01:44<00:00,  1.48it/s]"
          ]
        },
        {
          "output_type": "stream",
          "name": "stdout",
          "text": [
            "Epoch [100/200] Loss_D_MRI: 0.22206610441207886 Loss_D_CT: 0.24280351400375366 Loss_G: 1.6867105960845947\n"
          ]
        },
        {
          "output_type": "stream",
          "name": "stderr",
          "text": [
            "\n",
            "100%|██████████| 154/154 [01:44<00:00,  1.47it/s]"
          ]
        },
        {
          "output_type": "stream",
          "name": "stdout",
          "text": [
            "Epoch [101/200] Loss_D_MRI: 0.23281283676624298 Loss_D_CT: 0.2414270043373108 Loss_G: 2.0185155868530273\n"
          ]
        },
        {
          "output_type": "stream",
          "name": "stderr",
          "text": [
            "\n",
            "100%|██████████| 154/154 [01:44<00:00,  1.47it/s]"
          ]
        },
        {
          "output_type": "stream",
          "name": "stdout",
          "text": [
            "Epoch [102/200] Loss_D_MRI: 0.2262759804725647 Loss_D_CT: 0.2627878487110138 Loss_G: 2.5049827098846436\n"
          ]
        },
        {
          "output_type": "stream",
          "name": "stderr",
          "text": [
            "\n",
            "100%|██████████| 154/154 [01:44<00:00,  1.47it/s]"
          ]
        },
        {
          "output_type": "stream",
          "name": "stdout",
          "text": [
            "Epoch [103/200] Loss_D_MRI: 0.23139670491218567 Loss_D_CT: 0.1906181424856186 Loss_G: 2.4522030353546143\n"
          ]
        },
        {
          "output_type": "stream",
          "name": "stderr",
          "text": [
            "\n",
            "100%|██████████| 154/154 [01:44<00:00,  1.47it/s]"
          ]
        },
        {
          "output_type": "stream",
          "name": "stdout",
          "text": [
            "Epoch [104/200] Loss_D_MRI: 0.21342195570468903 Loss_D_CT: 0.20879420638084412 Loss_G: 1.764832854270935\n"
          ]
        },
        {
          "output_type": "stream",
          "name": "stderr",
          "text": [
            "\n",
            "100%|██████████| 154/154 [01:44<00:00,  1.47it/s]"
          ]
        },
        {
          "output_type": "stream",
          "name": "stdout",
          "text": [
            "Epoch [105/200] Loss_D_MRI: 0.2093939334154129 Loss_D_CT: 0.22537550330162048 Loss_G: 1.8510711193084717\n"
          ]
        },
        {
          "output_type": "stream",
          "name": "stderr",
          "text": [
            "\n",
            "100%|██████████| 154/154 [01:44<00:00,  1.47it/s]"
          ]
        },
        {
          "output_type": "stream",
          "name": "stdout",
          "text": [
            "Epoch [106/200] Loss_D_MRI: 0.2167699933052063 Loss_D_CT: 0.19956105947494507 Loss_G: 2.3238871097564697\n"
          ]
        },
        {
          "output_type": "stream",
          "name": "stderr",
          "text": [
            "\n",
            "100%|██████████| 154/154 [01:44<00:00,  1.47it/s]"
          ]
        },
        {
          "output_type": "stream",
          "name": "stdout",
          "text": [
            "Epoch [107/200] Loss_D_MRI: 0.21918433904647827 Loss_D_CT: 0.2495151162147522 Loss_G: 2.2159383296966553\n"
          ]
        },
        {
          "output_type": "stream",
          "name": "stderr",
          "text": [
            "\n",
            "100%|██████████| 154/154 [01:44<00:00,  1.47it/s]"
          ]
        },
        {
          "output_type": "stream",
          "name": "stdout",
          "text": [
            "Epoch [108/200] Loss_D_MRI: 0.19094055891036987 Loss_D_CT: 0.24252277612686157 Loss_G: 2.0027661323547363\n"
          ]
        },
        {
          "output_type": "stream",
          "name": "stderr",
          "text": [
            "\n",
            "100%|██████████| 154/154 [01:44<00:00,  1.48it/s]"
          ]
        },
        {
          "output_type": "stream",
          "name": "stdout",
          "text": [
            "Epoch [109/200] Loss_D_MRI: 0.22902974486351013 Loss_D_CT: 0.25392210483551025 Loss_G: 1.899193525314331\n"
          ]
        },
        {
          "output_type": "stream",
          "name": "stderr",
          "text": [
            "\n",
            "100%|██████████| 154/154 [01:44<00:00,  1.47it/s]"
          ]
        },
        {
          "output_type": "stream",
          "name": "stdout",
          "text": [
            "Epoch [110/200] Loss_D_MRI: 0.19776269793510437 Loss_D_CT: 0.2610507011413574 Loss_G: 2.1469194889068604\n"
          ]
        },
        {
          "output_type": "stream",
          "name": "stderr",
          "text": [
            "\n",
            "100%|██████████| 154/154 [01:44<00:00,  1.48it/s]"
          ]
        },
        {
          "output_type": "stream",
          "name": "stdout",
          "text": [
            "Epoch [111/200] Loss_D_MRI: 0.21214528381824493 Loss_D_CT: 0.2448703795671463 Loss_G: 1.9031082391738892\n"
          ]
        },
        {
          "output_type": "stream",
          "name": "stderr",
          "text": [
            "\n",
            "100%|██████████| 154/154 [01:44<00:00,  1.47it/s]"
          ]
        },
        {
          "output_type": "stream",
          "name": "stdout",
          "text": [
            "Epoch [112/200] Loss_D_MRI: 0.2364814430475235 Loss_D_CT: 0.1770465224981308 Loss_G: 2.231311321258545\n"
          ]
        },
        {
          "output_type": "stream",
          "name": "stderr",
          "text": [
            "\n",
            "100%|██████████| 154/154 [01:44<00:00,  1.48it/s]"
          ]
        },
        {
          "output_type": "stream",
          "name": "stdout",
          "text": [
            "Epoch [113/200] Loss_D_MRI: 0.2512730360031128 Loss_D_CT: 0.2589084804058075 Loss_G: 1.7369887828826904\n"
          ]
        },
        {
          "output_type": "stream",
          "name": "stderr",
          "text": [
            "\n",
            "100%|██████████| 154/154 [01:44<00:00,  1.47it/s]"
          ]
        },
        {
          "output_type": "stream",
          "name": "stdout",
          "text": [
            "Epoch [114/200] Loss_D_MRI: 0.234366774559021 Loss_D_CT: 0.21789297461509705 Loss_G: 1.988323450088501\n"
          ]
        },
        {
          "output_type": "stream",
          "name": "stderr",
          "text": [
            "\n",
            "100%|██████████| 154/154 [01:44<00:00,  1.48it/s]"
          ]
        },
        {
          "output_type": "stream",
          "name": "stdout",
          "text": [
            "Epoch [115/200] Loss_D_MRI: 0.21331709623336792 Loss_D_CT: 0.25024837255477905 Loss_G: 1.9695359468460083\n"
          ]
        },
        {
          "output_type": "stream",
          "name": "stderr",
          "text": [
            "\n",
            "100%|██████████| 154/154 [01:45<00:00,  1.46it/s]"
          ]
        },
        {
          "output_type": "stream",
          "name": "stdout",
          "text": [
            "Epoch [116/200] Loss_D_MRI: 0.2078508883714676 Loss_D_CT: 0.23794054985046387 Loss_G: 2.137826919555664\n"
          ]
        },
        {
          "output_type": "stream",
          "name": "stderr",
          "text": [
            "\n",
            "100%|██████████| 154/154 [01:43<00:00,  1.48it/s]"
          ]
        },
        {
          "output_type": "stream",
          "name": "stdout",
          "text": [
            "Epoch [117/200] Loss_D_MRI: 0.2039746195077896 Loss_D_CT: 0.1783967912197113 Loss_G: 2.0296518802642822\n"
          ]
        },
        {
          "output_type": "stream",
          "name": "stderr",
          "text": [
            "\n",
            "100%|██████████| 154/154 [01:44<00:00,  1.47it/s]"
          ]
        },
        {
          "output_type": "stream",
          "name": "stdout",
          "text": [
            "Epoch [118/200] Loss_D_MRI: 0.23710718750953674 Loss_D_CT: 0.2272559106349945 Loss_G: 2.2571444511413574\n"
          ]
        },
        {
          "output_type": "stream",
          "name": "stderr",
          "text": [
            "\n",
            "100%|██████████| 154/154 [01:44<00:00,  1.47it/s]"
          ]
        },
        {
          "output_type": "stream",
          "name": "stdout",
          "text": [
            "Epoch [119/200] Loss_D_MRI: 0.21983715891838074 Loss_D_CT: 0.2401241511106491 Loss_G: 1.9942468404769897\n"
          ]
        },
        {
          "output_type": "stream",
          "name": "stderr",
          "text": [
            "\n",
            "100%|██████████| 154/154 [01:44<00:00,  1.47it/s]"
          ]
        },
        {
          "output_type": "stream",
          "name": "stdout",
          "text": [
            "Epoch [120/200] Loss_D_MRI: 0.20218922197818756 Loss_D_CT: 0.21617260575294495 Loss_G: 2.049311399459839\n"
          ]
        },
        {
          "output_type": "stream",
          "name": "stderr",
          "text": [
            "\n",
            "100%|██████████| 154/154 [01:44<00:00,  1.47it/s]"
          ]
        },
        {
          "output_type": "stream",
          "name": "stdout",
          "text": [
            "Epoch [121/200] Loss_D_MRI: 0.2537640333175659 Loss_D_CT: 0.22036176919937134 Loss_G: 1.930109977722168\n"
          ]
        },
        {
          "output_type": "stream",
          "name": "stderr",
          "text": [
            "\n",
            "100%|██████████| 154/154 [01:44<00:00,  1.47it/s]"
          ]
        },
        {
          "output_type": "stream",
          "name": "stdout",
          "text": [
            "Epoch [122/200] Loss_D_MRI: 0.2501208186149597 Loss_D_CT: 0.25949883460998535 Loss_G: 1.6402380466461182\n"
          ]
        },
        {
          "output_type": "stream",
          "name": "stderr",
          "text": [
            "\n",
            "100%|██████████| 154/154 [01:44<00:00,  1.47it/s]"
          ]
        },
        {
          "output_type": "stream",
          "name": "stdout",
          "text": [
            "Epoch [123/200] Loss_D_MRI: 0.22886306047439575 Loss_D_CT: 0.24469873309135437 Loss_G: 2.0071842670440674\n"
          ]
        },
        {
          "output_type": "stream",
          "name": "stderr",
          "text": [
            "\n",
            "100%|██████████| 154/154 [01:44<00:00,  1.48it/s]"
          ]
        },
        {
          "output_type": "stream",
          "name": "stdout",
          "text": [
            "Epoch [124/200] Loss_D_MRI: 0.2358408272266388 Loss_D_CT: 0.24977368116378784 Loss_G: 1.6610395908355713\n"
          ]
        },
        {
          "output_type": "stream",
          "name": "stderr",
          "text": [
            "\n",
            "100%|██████████| 154/154 [01:44<00:00,  1.47it/s]"
          ]
        },
        {
          "output_type": "stream",
          "name": "stdout",
          "text": [
            "Epoch [125/200] Loss_D_MRI: 0.23317542672157288 Loss_D_CT: 0.240296870470047 Loss_G: 1.770596981048584\n"
          ]
        },
        {
          "output_type": "stream",
          "name": "stderr",
          "text": [
            "\n",
            "100%|██████████| 154/154 [01:44<00:00,  1.47it/s]"
          ]
        },
        {
          "output_type": "stream",
          "name": "stdout",
          "text": [
            "Epoch [126/200] Loss_D_MRI: 0.22901208698749542 Loss_D_CT: 0.25293004512786865 Loss_G: 2.22552490234375\n"
          ]
        },
        {
          "output_type": "stream",
          "name": "stderr",
          "text": [
            "\n",
            "100%|██████████| 154/154 [01:44<00:00,  1.47it/s]"
          ]
        },
        {
          "output_type": "stream",
          "name": "stdout",
          "text": [
            "Epoch [127/200] Loss_D_MRI: 0.19625224173069 Loss_D_CT: 0.19578824937343597 Loss_G: 2.277076005935669\n"
          ]
        },
        {
          "output_type": "stream",
          "name": "stderr",
          "text": [
            "\n",
            "100%|██████████| 154/154 [01:44<00:00,  1.48it/s]"
          ]
        },
        {
          "output_type": "stream",
          "name": "stdout",
          "text": [
            "Epoch [128/200] Loss_D_MRI: 0.15673375129699707 Loss_D_CT: 0.23478096723556519 Loss_G: 1.9875823259353638\n"
          ]
        },
        {
          "output_type": "stream",
          "name": "stderr",
          "text": [
            "\n",
            "100%|██████████| 154/154 [01:44<00:00,  1.47it/s]"
          ]
        },
        {
          "output_type": "stream",
          "name": "stdout",
          "text": [
            "Epoch [129/200] Loss_D_MRI: 0.18783512711524963 Loss_D_CT: 0.20069992542266846 Loss_G: 2.1701536178588867\n"
          ]
        },
        {
          "output_type": "stream",
          "name": "stderr",
          "text": [
            "\n",
            "100%|██████████| 154/154 [01:44<00:00,  1.48it/s]"
          ]
        },
        {
          "output_type": "stream",
          "name": "stdout",
          "text": [
            "Epoch [130/200] Loss_D_MRI: 0.2084713578224182 Loss_D_CT: 0.21834145486354828 Loss_G: 2.336271286010742\n"
          ]
        },
        {
          "output_type": "stream",
          "name": "stderr",
          "text": [
            "\n",
            "100%|██████████| 154/154 [01:44<00:00,  1.47it/s]"
          ]
        },
        {
          "output_type": "stream",
          "name": "stdout",
          "text": [
            "Epoch [131/200] Loss_D_MRI: 0.1929766833782196 Loss_D_CT: 0.2188793420791626 Loss_G: 2.0045108795166016\n"
          ]
        },
        {
          "output_type": "stream",
          "name": "stderr",
          "text": [
            "\n",
            "100%|██████████| 154/154 [01:44<00:00,  1.47it/s]"
          ]
        },
        {
          "output_type": "stream",
          "name": "stdout",
          "text": [
            "Epoch [132/200] Loss_D_MRI: 0.22797837853431702 Loss_D_CT: 0.2627966105937958 Loss_G: 2.278135299682617\n"
          ]
        },
        {
          "output_type": "stream",
          "name": "stderr",
          "text": [
            "\n",
            "100%|██████████| 154/154 [01:44<00:00,  1.47it/s]"
          ]
        },
        {
          "output_type": "stream",
          "name": "stdout",
          "text": [
            "Epoch [133/200] Loss_D_MRI: 0.18680134415626526 Loss_D_CT: 0.26838964223861694 Loss_G: 2.3399479389190674\n"
          ]
        },
        {
          "output_type": "stream",
          "name": "stderr",
          "text": [
            "\n",
            "100%|██████████| 154/154 [01:44<00:00,  1.47it/s]"
          ]
        },
        {
          "output_type": "stream",
          "name": "stdout",
          "text": [
            "Epoch [134/200] Loss_D_MRI: 0.20727577805519104 Loss_D_CT: 0.2492683231830597 Loss_G: 1.8637422323226929\n"
          ]
        },
        {
          "output_type": "stream",
          "name": "stderr",
          "text": [
            "\n",
            "100%|██████████| 154/154 [01:44<00:00,  1.47it/s]"
          ]
        },
        {
          "output_type": "stream",
          "name": "stdout",
          "text": [
            "Epoch [135/200] Loss_D_MRI: 0.24174463748931885 Loss_D_CT: 0.2563025653362274 Loss_G: 1.7701159715652466\n"
          ]
        },
        {
          "output_type": "stream",
          "name": "stderr",
          "text": [
            "\n",
            "100%|██████████| 154/154 [01:44<00:00,  1.48it/s]"
          ]
        },
        {
          "output_type": "stream",
          "name": "stdout",
          "text": [
            "Epoch [136/200] Loss_D_MRI: 0.24536463618278503 Loss_D_CT: 0.24776560068130493 Loss_G: 1.8561458587646484\n"
          ]
        },
        {
          "output_type": "stream",
          "name": "stderr",
          "text": [
            "\n",
            "100%|██████████| 154/154 [01:44<00:00,  1.47it/s]"
          ]
        },
        {
          "output_type": "stream",
          "name": "stdout",
          "text": [
            "Epoch [137/200] Loss_D_MRI: 0.2534354329109192 Loss_D_CT: 0.22996720671653748 Loss_G: 1.886961817741394\n"
          ]
        },
        {
          "output_type": "stream",
          "name": "stderr",
          "text": [
            "\n",
            "100%|██████████| 154/154 [01:45<00:00,  1.47it/s]"
          ]
        },
        {
          "output_type": "stream",
          "name": "stdout",
          "text": [
            "Epoch [138/200] Loss_D_MRI: 0.24910160899162292 Loss_D_CT: 0.2335698902606964 Loss_G: 1.8620758056640625\n"
          ]
        },
        {
          "output_type": "stream",
          "name": "stderr",
          "text": [
            "\n",
            "100%|██████████| 154/154 [01:44<00:00,  1.48it/s]"
          ]
        },
        {
          "output_type": "stream",
          "name": "stdout",
          "text": [
            "Epoch [139/200] Loss_D_MRI: 0.24367818236351013 Loss_D_CT: 0.21577341854572296 Loss_G: 1.6693053245544434\n"
          ]
        },
        {
          "output_type": "stream",
          "name": "stderr",
          "text": [
            "\n",
            "100%|██████████| 154/154 [01:44<00:00,  1.47it/s]"
          ]
        },
        {
          "output_type": "stream",
          "name": "stdout",
          "text": [
            "Epoch [140/200] Loss_D_MRI: 0.2508559823036194 Loss_D_CT: 0.1982724666595459 Loss_G: 1.7626434564590454\n"
          ]
        },
        {
          "output_type": "stream",
          "name": "stderr",
          "text": [
            "\n",
            "100%|██████████| 154/154 [01:44<00:00,  1.48it/s]"
          ]
        },
        {
          "output_type": "stream",
          "name": "stdout",
          "text": [
            "Epoch [141/200] Loss_D_MRI: 0.24223443865776062 Loss_D_CT: 0.2022809535264969 Loss_G: 1.623960018157959\n"
          ]
        },
        {
          "output_type": "stream",
          "name": "stderr",
          "text": [
            "\n",
            "100%|██████████| 154/154 [01:44<00:00,  1.48it/s]"
          ]
        },
        {
          "output_type": "stream",
          "name": "stdout",
          "text": [
            "Epoch [142/200] Loss_D_MRI: 0.22886019945144653 Loss_D_CT: 0.18803474307060242 Loss_G: 1.9918053150177002\n"
          ]
        },
        {
          "output_type": "stream",
          "name": "stderr",
          "text": [
            "\n",
            "100%|██████████| 154/154 [01:44<00:00,  1.48it/s]"
          ]
        },
        {
          "output_type": "stream",
          "name": "stdout",
          "text": [
            "Epoch [143/200] Loss_D_MRI: 0.2459278404712677 Loss_D_CT: 0.24218299984931946 Loss_G: 1.7424039840698242\n"
          ]
        },
        {
          "output_type": "stream",
          "name": "stderr",
          "text": [
            "\n",
            "100%|██████████| 154/154 [01:44<00:00,  1.47it/s]"
          ]
        },
        {
          "output_type": "stream",
          "name": "stdout",
          "text": [
            "Epoch [144/200] Loss_D_MRI: 0.2302321493625641 Loss_D_CT: 0.18686267733573914 Loss_G: 2.0566329956054688\n"
          ]
        },
        {
          "output_type": "stream",
          "name": "stderr",
          "text": [
            "\n",
            "100%|██████████| 154/154 [01:43<00:00,  1.48it/s]"
          ]
        },
        {
          "output_type": "stream",
          "name": "stdout",
          "text": [
            "Epoch [145/200] Loss_D_MRI: 0.24268284440040588 Loss_D_CT: 0.21715548634529114 Loss_G: 1.86332106590271\n"
          ]
        },
        {
          "output_type": "stream",
          "name": "stderr",
          "text": [
            "\n",
            "100%|██████████| 154/154 [01:44<00:00,  1.47it/s]"
          ]
        },
        {
          "output_type": "stream",
          "name": "stdout",
          "text": [
            "Epoch [146/200] Loss_D_MRI: 0.2414507269859314 Loss_D_CT: 0.2471790760755539 Loss_G: 1.7743175029754639\n"
          ]
        },
        {
          "output_type": "stream",
          "name": "stderr",
          "text": [
            "\n",
            "100%|██████████| 154/154 [01:44<00:00,  1.48it/s]"
          ]
        },
        {
          "output_type": "stream",
          "name": "stdout",
          "text": [
            "Epoch [147/200] Loss_D_MRI: 0.19716987013816833 Loss_D_CT: 0.2517034113407135 Loss_G: 1.7836837768554688\n"
          ]
        },
        {
          "output_type": "stream",
          "name": "stderr",
          "text": [
            "\n",
            "100%|██████████| 154/154 [01:44<00:00,  1.48it/s]"
          ]
        },
        {
          "output_type": "stream",
          "name": "stdout",
          "text": [
            "Epoch [148/200] Loss_D_MRI: 0.23744350671768188 Loss_D_CT: 0.22106456756591797 Loss_G: 1.6113700866699219\n"
          ]
        },
        {
          "output_type": "stream",
          "name": "stderr",
          "text": [
            "\n",
            "100%|██████████| 154/154 [01:44<00:00,  1.48it/s]"
          ]
        },
        {
          "output_type": "stream",
          "name": "stdout",
          "text": [
            "Epoch [149/200] Loss_D_MRI: 0.1925559639930725 Loss_D_CT: 0.2308538854122162 Loss_G: 1.839901089668274\n"
          ]
        },
        {
          "output_type": "stream",
          "name": "stderr",
          "text": [
            "\n",
            "100%|██████████| 154/154 [01:44<00:00,  1.47it/s]"
          ]
        },
        {
          "output_type": "stream",
          "name": "stdout",
          "text": [
            "Epoch [150/200] Loss_D_MRI: 0.22655899822711945 Loss_D_CT: 0.1891016960144043 Loss_G: 1.8493036031723022\n"
          ]
        },
        {
          "output_type": "stream",
          "name": "stderr",
          "text": [
            "\n",
            "100%|██████████| 154/154 [01:44<00:00,  1.48it/s]"
          ]
        },
        {
          "output_type": "stream",
          "name": "stdout",
          "text": [
            "Epoch [151/200] Loss_D_MRI: 0.2267722338438034 Loss_D_CT: 0.226799875497818 Loss_G: 1.7300254106521606\n"
          ]
        },
        {
          "output_type": "stream",
          "name": "stderr",
          "text": [
            "\n",
            "100%|██████████| 154/154 [01:44<00:00,  1.47it/s]"
          ]
        },
        {
          "output_type": "stream",
          "name": "stdout",
          "text": [
            "Epoch [152/200] Loss_D_MRI: 0.21686075627803802 Loss_D_CT: 0.19710904359817505 Loss_G: 2.1327929496765137\n"
          ]
        },
        {
          "output_type": "stream",
          "name": "stderr",
          "text": [
            "\n",
            "100%|██████████| 154/154 [01:43<00:00,  1.48it/s]"
          ]
        },
        {
          "output_type": "stream",
          "name": "stdout",
          "text": [
            "Epoch [153/200] Loss_D_MRI: 0.17584118247032166 Loss_D_CT: 0.22533868253231049 Loss_G: 1.9644157886505127\n"
          ]
        },
        {
          "output_type": "stream",
          "name": "stderr",
          "text": [
            "\n",
            "100%|██████████| 154/154 [01:44<00:00,  1.47it/s]"
          ]
        },
        {
          "output_type": "stream",
          "name": "stdout",
          "text": [
            "Epoch [154/200] Loss_D_MRI: 0.17109912633895874 Loss_D_CT: 0.1800287812948227 Loss_G: 2.1435632705688477\n"
          ]
        },
        {
          "output_type": "stream",
          "name": "stderr",
          "text": [
            "\n",
            "100%|██████████| 154/154 [01:44<00:00,  1.48it/s]"
          ]
        },
        {
          "output_type": "stream",
          "name": "stdout",
          "text": [
            "Epoch [155/200] Loss_D_MRI: 0.20236290991306305 Loss_D_CT: 0.1698702871799469 Loss_G: 2.2081379890441895\n"
          ]
        },
        {
          "output_type": "stream",
          "name": "stderr",
          "text": [
            "\n",
            "100%|██████████| 154/154 [01:44<00:00,  1.47it/s]"
          ]
        },
        {
          "output_type": "stream",
          "name": "stdout",
          "text": [
            "Epoch [156/200] Loss_D_MRI: 0.23862719535827637 Loss_D_CT: 0.23094061017036438 Loss_G: 2.1439895629882812\n"
          ]
        },
        {
          "output_type": "stream",
          "name": "stderr",
          "text": [
            "\n",
            "100%|██████████| 154/154 [01:44<00:00,  1.47it/s]"
          ]
        },
        {
          "output_type": "stream",
          "name": "stdout",
          "text": [
            "Epoch [157/200] Loss_D_MRI: 0.20205670595169067 Loss_D_CT: 0.22109073400497437 Loss_G: 1.8516722917556763\n"
          ]
        },
        {
          "output_type": "stream",
          "name": "stderr",
          "text": [
            "\n",
            "100%|██████████| 154/154 [01:45<00:00,  1.47it/s]"
          ]
        },
        {
          "output_type": "stream",
          "name": "stdout",
          "text": [
            "Epoch [158/200] Loss_D_MRI: 0.19853703677654266 Loss_D_CT: 0.19722136855125427 Loss_G: 2.133112668991089\n"
          ]
        },
        {
          "output_type": "stream",
          "name": "stderr",
          "text": [
            "\n",
            "100%|██████████| 154/154 [01:44<00:00,  1.47it/s]"
          ]
        },
        {
          "output_type": "stream",
          "name": "stdout",
          "text": [
            "Epoch [159/200] Loss_D_MRI: 0.16909527778625488 Loss_D_CT: 0.22534534335136414 Loss_G: 2.1387860774993896\n"
          ]
        },
        {
          "output_type": "stream",
          "name": "stderr",
          "text": [
            "\n",
            "100%|██████████| 154/154 [01:44<00:00,  1.48it/s]"
          ]
        },
        {
          "output_type": "stream",
          "name": "stdout",
          "text": [
            "Epoch [160/200] Loss_D_MRI: 0.1949445605278015 Loss_D_CT: 0.1956876665353775 Loss_G: 2.1267833709716797\n"
          ]
        },
        {
          "output_type": "stream",
          "name": "stderr",
          "text": [
            "\n",
            "100%|██████████| 154/154 [01:44<00:00,  1.47it/s]"
          ]
        },
        {
          "output_type": "stream",
          "name": "stdout",
          "text": [
            "Epoch [161/200] Loss_D_MRI: 0.14347025752067566 Loss_D_CT: 0.13897106051445007 Loss_G: 2.9593236446380615\n"
          ]
        },
        {
          "output_type": "stream",
          "name": "stderr",
          "text": [
            "\n",
            "100%|██████████| 154/154 [01:44<00:00,  1.47it/s]"
          ]
        },
        {
          "output_type": "stream",
          "name": "stdout",
          "text": [
            "Epoch [162/200] Loss_D_MRI: 0.16979700326919556 Loss_D_CT: 0.16445708274841309 Loss_G: 2.380805015563965\n"
          ]
        },
        {
          "output_type": "stream",
          "name": "stderr",
          "text": [
            "\n",
            "100%|██████████| 154/154 [01:44<00:00,  1.47it/s]"
          ]
        },
        {
          "output_type": "stream",
          "name": "stdout",
          "text": [
            "Epoch [163/200] Loss_D_MRI: 0.18771503865718842 Loss_D_CT: 0.13072022795677185 Loss_G: 2.545891284942627\n"
          ]
        },
        {
          "output_type": "stream",
          "name": "stderr",
          "text": [
            "\n",
            "100%|██████████| 154/154 [01:44<00:00,  1.47it/s]"
          ]
        },
        {
          "output_type": "stream",
          "name": "stdout",
          "text": [
            "Epoch [164/200] Loss_D_MRI: 0.21555519104003906 Loss_D_CT: 0.2142595797777176 Loss_G: 1.9840199947357178\n"
          ]
        },
        {
          "output_type": "stream",
          "name": "stderr",
          "text": [
            "\n",
            "100%|██████████| 154/154 [01:44<00:00,  1.48it/s]"
          ]
        },
        {
          "output_type": "stream",
          "name": "stdout",
          "text": [
            "Epoch [165/200] Loss_D_MRI: 0.17865964770317078 Loss_D_CT: 0.21864832937717438 Loss_G: 1.7688827514648438\n"
          ]
        },
        {
          "output_type": "stream",
          "name": "stderr",
          "text": [
            "\n",
            "100%|██████████| 154/154 [01:44<00:00,  1.48it/s]"
          ]
        },
        {
          "output_type": "stream",
          "name": "stdout",
          "text": [
            "Epoch [166/200] Loss_D_MRI: 0.20317238569259644 Loss_D_CT: 0.18323788046836853 Loss_G: 2.044854164123535\n"
          ]
        },
        {
          "output_type": "stream",
          "name": "stderr",
          "text": [
            "\n",
            "100%|██████████| 154/154 [01:44<00:00,  1.48it/s]"
          ]
        },
        {
          "output_type": "stream",
          "name": "stdout",
          "text": [
            "Epoch [167/200] Loss_D_MRI: 0.17441049218177795 Loss_D_CT: 0.18213441967964172 Loss_G: 1.9748005867004395\n"
          ]
        },
        {
          "output_type": "stream",
          "name": "stderr",
          "text": [
            "\n",
            "100%|██████████| 154/154 [01:45<00:00,  1.46it/s]"
          ]
        },
        {
          "output_type": "stream",
          "name": "stdout",
          "text": [
            "Epoch [168/200] Loss_D_MRI: 0.15405331552028656 Loss_D_CT: 0.16707271337509155 Loss_G: 2.1816675662994385\n"
          ]
        },
        {
          "output_type": "stream",
          "name": "stderr",
          "text": [
            "\n",
            "100%|██████████| 154/154 [01:44<00:00,  1.48it/s]"
          ]
        },
        {
          "output_type": "stream",
          "name": "stdout",
          "text": [
            "Epoch [169/200] Loss_D_MRI: 0.17679233849048615 Loss_D_CT: 0.1865665316581726 Loss_G: 1.9708023071289062\n"
          ]
        },
        {
          "output_type": "stream",
          "name": "stderr",
          "text": [
            "\n",
            "100%|██████████| 154/154 [01:44<00:00,  1.47it/s]\n"
          ]
        },
        {
          "output_type": "stream",
          "name": "stdout",
          "text": [
            "Epoch [170/200] Loss_D_MRI: 0.13924521207809448 Loss_D_CT: 0.19421899318695068 Loss_G: 2.1251776218414307\n"
          ]
        },
        {
          "output_type": "stream",
          "name": "stderr",
          "text": [
            "100%|██████████| 154/154 [01:44<00:00,  1.47it/s]"
          ]
        },
        {
          "output_type": "stream",
          "name": "stdout",
          "text": [
            "Epoch [171/200] Loss_D_MRI: 0.15404999256134033 Loss_D_CT: 0.17972208559513092 Loss_G: 2.282278537750244\n"
          ]
        },
        {
          "output_type": "stream",
          "name": "stderr",
          "text": [
            "\n",
            "100%|██████████| 154/154 [01:44<00:00,  1.48it/s]"
          ]
        },
        {
          "output_type": "stream",
          "name": "stdout",
          "text": [
            "Epoch [172/200] Loss_D_MRI: 0.15301156044006348 Loss_D_CT: 0.17524830996990204 Loss_G: 2.2398481369018555\n"
          ]
        },
        {
          "output_type": "stream",
          "name": "stderr",
          "text": [
            "\n",
            "100%|██████████| 154/154 [01:44<00:00,  1.47it/s]"
          ]
        },
        {
          "output_type": "stream",
          "name": "stdout",
          "text": [
            "Epoch [173/200] Loss_D_MRI: 0.17627665400505066 Loss_D_CT: 0.19802211225032806 Loss_G: 1.8245632648468018\n"
          ]
        },
        {
          "output_type": "stream",
          "name": "stderr",
          "text": [
            "\n",
            "100%|██████████| 154/154 [01:45<00:00,  1.47it/s]"
          ]
        },
        {
          "output_type": "stream",
          "name": "stdout",
          "text": [
            "Epoch [174/200] Loss_D_MRI: 0.19045808911323547 Loss_D_CT: 0.20150870084762573 Loss_G: 2.4065332412719727\n"
          ]
        },
        {
          "output_type": "stream",
          "name": "stderr",
          "text": [
            "\n",
            "100%|██████████| 154/154 [01:44<00:00,  1.48it/s]"
          ]
        },
        {
          "output_type": "stream",
          "name": "stdout",
          "text": [
            "Epoch [175/200] Loss_D_MRI: 0.19644421339035034 Loss_D_CT: 0.17576146125793457 Loss_G: 1.9483872652053833\n"
          ]
        },
        {
          "output_type": "stream",
          "name": "stderr",
          "text": [
            "\n",
            "100%|██████████| 154/154 [01:44<00:00,  1.47it/s]"
          ]
        },
        {
          "output_type": "stream",
          "name": "stdout",
          "text": [
            "Epoch [176/200] Loss_D_MRI: 0.13338053226470947 Loss_D_CT: 0.1896076798439026 Loss_G: 2.0776426792144775\n"
          ]
        },
        {
          "output_type": "stream",
          "name": "stderr",
          "text": [
            "\n",
            "100%|██████████| 154/154 [01:44<00:00,  1.47it/s]"
          ]
        },
        {
          "output_type": "stream",
          "name": "stdout",
          "text": [
            "Epoch [177/200] Loss_D_MRI: 0.1873479187488556 Loss_D_CT: 0.20557355880737305 Loss_G: 1.7989256381988525\n"
          ]
        },
        {
          "output_type": "stream",
          "name": "stderr",
          "text": [
            "\n",
            "100%|██████████| 154/154 [01:44<00:00,  1.48it/s]"
          ]
        },
        {
          "output_type": "stream",
          "name": "stdout",
          "text": [
            "Epoch [178/200] Loss_D_MRI: 0.1693572849035263 Loss_D_CT: 0.14545178413391113 Loss_G: 2.4756593704223633\n"
          ]
        },
        {
          "output_type": "stream",
          "name": "stderr",
          "text": [
            "\n",
            "100%|██████████| 154/154 [01:44<00:00,  1.47it/s]"
          ]
        },
        {
          "output_type": "stream",
          "name": "stdout",
          "text": [
            "Epoch [179/200] Loss_D_MRI: 0.12845657765865326 Loss_D_CT: 0.14384329319000244 Loss_G: 2.3012404441833496\n"
          ]
        },
        {
          "output_type": "stream",
          "name": "stderr",
          "text": [
            "\n",
            "100%|██████████| 154/154 [01:44<00:00,  1.48it/s]"
          ]
        },
        {
          "output_type": "stream",
          "name": "stdout",
          "text": [
            "Epoch [180/200] Loss_D_MRI: 0.1716366410255432 Loss_D_CT: 0.166256383061409 Loss_G: 2.0919642448425293\n"
          ]
        },
        {
          "output_type": "stream",
          "name": "stderr",
          "text": [
            "\n",
            "100%|██████████| 154/154 [01:44<00:00,  1.47it/s]"
          ]
        },
        {
          "output_type": "stream",
          "name": "stdout",
          "text": [
            "Epoch [181/200] Loss_D_MRI: 0.17012476921081543 Loss_D_CT: 0.18084004521369934 Loss_G: 1.8311727046966553\n"
          ]
        },
        {
          "output_type": "stream",
          "name": "stderr",
          "text": [
            "\n",
            "100%|██████████| 154/154 [01:44<00:00,  1.47it/s]"
          ]
        },
        {
          "output_type": "stream",
          "name": "stdout",
          "text": [
            "Epoch [182/200] Loss_D_MRI: 0.19797676801681519 Loss_D_CT: 0.21684983372688293 Loss_G: 1.8259251117706299\n"
          ]
        },
        {
          "output_type": "stream",
          "name": "stderr",
          "text": [
            "\n",
            "100%|██████████| 154/154 [01:44<00:00,  1.47it/s]"
          ]
        },
        {
          "output_type": "stream",
          "name": "stdout",
          "text": [
            "Epoch [183/200] Loss_D_MRI: 0.1807105839252472 Loss_D_CT: 0.16817212104797363 Loss_G: 2.175891876220703\n"
          ]
        },
        {
          "output_type": "stream",
          "name": "stderr",
          "text": [
            "\n",
            "100%|██████████| 154/154 [01:44<00:00,  1.47it/s]"
          ]
        },
        {
          "output_type": "stream",
          "name": "stdout",
          "text": [
            "Epoch [184/200] Loss_D_MRI: 0.14694994688034058 Loss_D_CT: 0.22657230496406555 Loss_G: 1.9356919527053833\n"
          ]
        },
        {
          "output_type": "stream",
          "name": "stderr",
          "text": [
            "\n",
            "100%|██████████| 154/154 [01:44<00:00,  1.47it/s]"
          ]
        },
        {
          "output_type": "stream",
          "name": "stdout",
          "text": [
            "Epoch [185/200] Loss_D_MRI: 0.13898135721683502 Loss_D_CT: 0.18612144887447357 Loss_G: 1.975447654724121\n"
          ]
        },
        {
          "output_type": "stream",
          "name": "stderr",
          "text": [
            "\n",
            "100%|██████████| 154/154 [01:44<00:00,  1.48it/s]"
          ]
        },
        {
          "output_type": "stream",
          "name": "stdout",
          "text": [
            "Epoch [186/200] Loss_D_MRI: 0.14066563546657562 Loss_D_CT: 0.17209339141845703 Loss_G: 2.416330099105835\n"
          ]
        },
        {
          "output_type": "stream",
          "name": "stderr",
          "text": [
            "\n",
            "100%|██████████| 154/154 [01:44<00:00,  1.48it/s]"
          ]
        },
        {
          "output_type": "stream",
          "name": "stdout",
          "text": [
            "Epoch [187/200] Loss_D_MRI: 0.1403730809688568 Loss_D_CT: 0.16634991765022278 Loss_G: 2.260831356048584\n"
          ]
        },
        {
          "output_type": "stream",
          "name": "stderr",
          "text": [
            "\n",
            "100%|██████████| 154/154 [01:44<00:00,  1.48it/s]"
          ]
        },
        {
          "output_type": "stream",
          "name": "stdout",
          "text": [
            "Epoch [188/200] Loss_D_MRI: 0.18123602867126465 Loss_D_CT: 0.1967298984527588 Loss_G: 1.983659029006958\n"
          ]
        },
        {
          "output_type": "stream",
          "name": "stderr",
          "text": [
            "\n",
            "100%|██████████| 154/154 [01:44<00:00,  1.47it/s]"
          ]
        },
        {
          "output_type": "stream",
          "name": "stdout",
          "text": [
            "Epoch [189/200] Loss_D_MRI: 0.1486685425043106 Loss_D_CT: 0.15585225820541382 Loss_G: 2.0001590251922607\n"
          ]
        },
        {
          "output_type": "stream",
          "name": "stderr",
          "text": [
            "\n",
            "100%|██████████| 154/154 [01:44<00:00,  1.47it/s]"
          ]
        },
        {
          "output_type": "stream",
          "name": "stdout",
          "text": [
            "Epoch [190/200] Loss_D_MRI: 0.1372624933719635 Loss_D_CT: 0.15299955010414124 Loss_G: 1.9911526441574097\n"
          ]
        },
        {
          "output_type": "stream",
          "name": "stderr",
          "text": [
            "\n",
            "100%|██████████| 154/154 [01:44<00:00,  1.47it/s]"
          ]
        },
        {
          "output_type": "stream",
          "name": "stdout",
          "text": [
            "Epoch [191/200] Loss_D_MRI: 0.13577011227607727 Loss_D_CT: 0.13736341893672943 Loss_G: 2.291630983352661\n"
          ]
        },
        {
          "output_type": "stream",
          "name": "stderr",
          "text": [
            "\n",
            "100%|██████████| 154/154 [01:44<00:00,  1.47it/s]"
          ]
        },
        {
          "output_type": "stream",
          "name": "stdout",
          "text": [
            "Epoch [192/200] Loss_D_MRI: 0.1634705364704132 Loss_D_CT: 0.17955797910690308 Loss_G: 1.9581000804901123\n"
          ]
        },
        {
          "output_type": "stream",
          "name": "stderr",
          "text": [
            "\n",
            "100%|██████████| 154/154 [01:44<00:00,  1.47it/s]"
          ]
        },
        {
          "output_type": "stream",
          "name": "stdout",
          "text": [
            "Epoch [193/200] Loss_D_MRI: 0.13689281046390533 Loss_D_CT: 0.13129618763923645 Loss_G: 2.4373254776000977\n"
          ]
        },
        {
          "output_type": "stream",
          "name": "stderr",
          "text": [
            "\n",
            "100%|██████████| 154/154 [01:44<00:00,  1.48it/s]"
          ]
        },
        {
          "output_type": "stream",
          "name": "stdout",
          "text": [
            "Epoch [194/200] Loss_D_MRI: 0.12825289368629456 Loss_D_CT: 0.137703537940979 Loss_G: 2.332521438598633\n"
          ]
        },
        {
          "output_type": "stream",
          "name": "stderr",
          "text": [
            "\n",
            "100%|██████████| 154/154 [01:44<00:00,  1.48it/s]"
          ]
        },
        {
          "output_type": "stream",
          "name": "stdout",
          "text": [
            "Epoch [195/200] Loss_D_MRI: 0.16212812066078186 Loss_D_CT: 0.18876785039901733 Loss_G: 1.8526281118392944\n"
          ]
        },
        {
          "output_type": "stream",
          "name": "stderr",
          "text": [
            "\n",
            "100%|██████████| 154/154 [01:44<00:00,  1.48it/s]"
          ]
        },
        {
          "output_type": "stream",
          "name": "stdout",
          "text": [
            "Epoch [196/200] Loss_D_MRI: 0.1241786777973175 Loss_D_CT: 0.16240569949150085 Loss_G: 2.1969988346099854\n"
          ]
        },
        {
          "output_type": "stream",
          "name": "stderr",
          "text": [
            "\n",
            "100%|██████████| 154/154 [01:44<00:00,  1.47it/s]"
          ]
        },
        {
          "output_type": "stream",
          "name": "stdout",
          "text": [
            "Epoch [197/200] Loss_D_MRI: 0.15684890747070312 Loss_D_CT: 0.1394997537136078 Loss_G: 2.0566303730010986\n"
          ]
        },
        {
          "output_type": "stream",
          "name": "stderr",
          "text": [
            "\n",
            "100%|██████████| 154/154 [01:44<00:00,  1.48it/s]"
          ]
        },
        {
          "output_type": "stream",
          "name": "stdout",
          "text": [
            "Epoch [198/200] Loss_D_MRI: 0.14946402609348297 Loss_D_CT: 0.1238892525434494 Loss_G: 2.233806610107422\n"
          ]
        },
        {
          "output_type": "stream",
          "name": "stderr",
          "text": [
            "\n",
            "100%|██████████| 154/154 [01:44<00:00,  1.47it/s]"
          ]
        },
        {
          "output_type": "stream",
          "name": "stdout",
          "text": [
            "Epoch [199/200] Loss_D_MRI: 0.1392674446105957 Loss_D_CT: 0.1899293065071106 Loss_G: 2.140516996383667\n"
          ]
        },
        {
          "output_type": "stream",
          "name": "stderr",
          "text": [
            "\n",
            "100%|██████████| 154/154 [01:44<00:00,  1.47it/s]"
          ]
        },
        {
          "output_type": "stream",
          "name": "stdout",
          "text": [
            "Epoch [200/200] Loss_D_MRI: 0.13159796595573425 Loss_D_CT: 0.16856592893600464 Loss_G: 2.288727283477783\n"
          ]
        },
        {
          "output_type": "stream",
          "name": "stderr",
          "text": [
            "\n"
          ]
        }
      ]
    },
    {
      "cell_type": "code",
      "source": [
        "!pip install torchmetrics\n"
      ],
      "metadata": {
        "colab": {
          "base_uri": "https://localhost:8080/"
        },
        "id": "e1wvFayYvSkX",
        "outputId": "56542e1f-a532-4829-db1b-166f226f9553"
      },
      "execution_count": null,
      "outputs": [
        {
          "output_type": "stream",
          "name": "stdout",
          "text": [
            "Requirement already satisfied: torchmetrics in /usr/local/lib/python3.10/dist-packages (1.4.0.post0)\n",
            "Requirement already satisfied: numpy>1.20.0 in /usr/local/lib/python3.10/dist-packages (from torchmetrics) (1.26.4)\n",
            "Requirement already satisfied: packaging>17.1 in /usr/local/lib/python3.10/dist-packages (from torchmetrics) (24.1)\n",
            "Requirement already satisfied: torch>=1.10.0 in /usr/local/lib/python3.10/dist-packages (from torchmetrics) (2.3.1+cu121)\n",
            "Requirement already satisfied: lightning-utilities>=0.8.0 in /usr/local/lib/python3.10/dist-packages (from torchmetrics) (0.11.6)\n",
            "Requirement already satisfied: setuptools in /usr/local/lib/python3.10/dist-packages (from lightning-utilities>=0.8.0->torchmetrics) (71.0.4)\n",
            "Requirement already satisfied: typing-extensions in /usr/local/lib/python3.10/dist-packages (from lightning-utilities>=0.8.0->torchmetrics) (4.12.2)\n",
            "Requirement already satisfied: filelock in /usr/local/lib/python3.10/dist-packages (from torch>=1.10.0->torchmetrics) (3.15.4)\n",
            "Requirement already satisfied: sympy in /usr/local/lib/python3.10/dist-packages (from torch>=1.10.0->torchmetrics) (1.13.1)\n",
            "Requirement already satisfied: networkx in /usr/local/lib/python3.10/dist-packages (from torch>=1.10.0->torchmetrics) (3.3)\n",
            "Requirement already satisfied: jinja2 in /usr/local/lib/python3.10/dist-packages (from torch>=1.10.0->torchmetrics) (3.1.4)\n",
            "Requirement already satisfied: fsspec in /usr/local/lib/python3.10/dist-packages (from torch>=1.10.0->torchmetrics) (2024.6.1)\n",
            "Requirement already satisfied: nvidia-cuda-nvrtc-cu12==12.1.105 in /usr/local/lib/python3.10/dist-packages (from torch>=1.10.0->torchmetrics) (12.1.105)\n",
            "Requirement already satisfied: nvidia-cuda-runtime-cu12==12.1.105 in /usr/local/lib/python3.10/dist-packages (from torch>=1.10.0->torchmetrics) (12.1.105)\n",
            "Requirement already satisfied: nvidia-cuda-cupti-cu12==12.1.105 in /usr/local/lib/python3.10/dist-packages (from torch>=1.10.0->torchmetrics) (12.1.105)\n",
            "Requirement already satisfied: nvidia-cudnn-cu12==8.9.2.26 in /usr/local/lib/python3.10/dist-packages (from torch>=1.10.0->torchmetrics) (8.9.2.26)\n",
            "Requirement already satisfied: nvidia-cublas-cu12==12.1.3.1 in /usr/local/lib/python3.10/dist-packages (from torch>=1.10.0->torchmetrics) (12.1.3.1)\n",
            "Requirement already satisfied: nvidia-cufft-cu12==11.0.2.54 in /usr/local/lib/python3.10/dist-packages (from torch>=1.10.0->torchmetrics) (11.0.2.54)\n",
            "Requirement already satisfied: nvidia-curand-cu12==10.3.2.106 in /usr/local/lib/python3.10/dist-packages (from torch>=1.10.0->torchmetrics) (10.3.2.106)\n",
            "Requirement already satisfied: nvidia-cusolver-cu12==11.4.5.107 in /usr/local/lib/python3.10/dist-packages (from torch>=1.10.0->torchmetrics) (11.4.5.107)\n",
            "Requirement already satisfied: nvidia-cusparse-cu12==12.1.0.106 in /usr/local/lib/python3.10/dist-packages (from torch>=1.10.0->torchmetrics) (12.1.0.106)\n",
            "Requirement already satisfied: nvidia-nccl-cu12==2.20.5 in /usr/local/lib/python3.10/dist-packages (from torch>=1.10.0->torchmetrics) (2.20.5)\n",
            "Requirement already satisfied: nvidia-nvtx-cu12==12.1.105 in /usr/local/lib/python3.10/dist-packages (from torch>=1.10.0->torchmetrics) (12.1.105)\n",
            "Requirement already satisfied: triton==2.3.1 in /usr/local/lib/python3.10/dist-packages (from torch>=1.10.0->torchmetrics) (2.3.1)\n",
            "Requirement already satisfied: nvidia-nvjitlink-cu12 in /usr/local/lib/python3.10/dist-packages (from nvidia-cusolver-cu12==11.4.5.107->torch>=1.10.0->torchmetrics) (12.5.82)\n",
            "Requirement already satisfied: MarkupSafe>=2.0 in /usr/local/lib/python3.10/dist-packages (from jinja2->torch>=1.10.0->torchmetrics) (2.1.5)\n",
            "Requirement already satisfied: mpmath<1.4,>=1.1.0 in /usr/local/lib/python3.10/dist-packages (from sympy->torch>=1.10.0->torchmetrics) (1.3.0)\n"
          ]
        }
      ]
    },
    {
      "cell_type": "code",
      "source": [
        "import torch\n",
        "import torchmetrics.image as tmi\n",
        "\n",
        "# Define SSIM and PSNR metrics\n",
        "ssim_metric = tmi.StructuralSimilarityIndexMeasure(data_range=1.0).to(device)\n",
        "psnr_metric = tmi.PeakSignalNoiseRatio(data_range=1.0).to(device)\n",
        "\n",
        "# Function to compute SSIM and PSNR using torchmetrics\n",
        "def compute_ssim_psnr(real_img, fake_img):\n",
        "    ssim_score = ssim_metric(fake_img, real_img)\n",
        "    psnr_score = psnr_metric(fake_img, real_img)\n",
        "    return ssim_score.item(), psnr_score.item()"
      ],
      "metadata": {
        "id": "_E7Qh6A8lqhd"
      },
      "execution_count": null,
      "outputs": []
    },
    {
      "cell_type": "code",
      "source": [
        "def evaluate_model(generator, dataloader, device):\n",
        "    ssim_scores = []\n",
        "    psnr_scores = []\n",
        "\n",
        "    generator.eval()\n",
        "\n",
        "    with torch.no_grad():\n",
        "        for real_img, _ in dataloader:\n",
        "            real_img = real_img.to(device)\n",
        "            fake_img = generator(real_img)\n",
        "\n",
        "            # Compute SSIM and PSNR\n",
        "            ssim_score, psnr_score = compute_ssim_psnr(real_img, fake_img)\n",
        "\n",
        "            ssim_scores.append(ssim_score)\n",
        "            psnr_scores.append(psnr_score)\n",
        "\n",
        "    # Compute average SSIM and PSNR\n",
        "    avg_ssim = np.mean(ssim_scores)\n",
        "    avg_psnr = np.mean(psnr_scores)\n",
        "\n",
        "    return avg_ssim, avg_psnr"
      ],
      "metadata": {
        "id": "kbsWzI0Elq28"
      },
      "execution_count": null,
      "outputs": []
    },
    {
      "cell_type": "markdown",
      "source": [
        "Result - Ablation Study - II"
      ],
      "metadata": {
        "id": "hBIpVeXfgr9q"
      }
    },
    {
      "cell_type": "code",
      "source": [
        "# Define validation dataloaders\n",
        "val_mr_dataloader = DataLoader(val_mr_dataset, batch_size=batch_size, shuffle=False, num_workers=2)\n",
        "val_ct_dataloader = DataLoader(val_ct_dataset, batch_size=batch_size, shuffle=False, num_workers=2)\n",
        "\n",
        "# Evaluate MRI to CT generator\n",
        "avg_ssim_mri_to_ct, avg_psnr_mri_to_ct = evaluate_model(G_MRI_to_CT, val_mr_dataloader, device)\n",
        "print(f\"MRI to CT - SSIM: {avg_ssim_mri_to_ct}, PSNR: {avg_psnr_mri_to_ct}\")\n",
        "\n",
        "# Evaluate CT to MRI generator\n",
        "avg_ssim_ct_to_mri, avg_psnr_ct_to_mri = evaluate_model(G_CT_to_MRI, val_ct_dataloader, device)\n",
        "print(f\"CT to MRI - SSIM: {avg_ssim_ct_to_mri}, PSNR: {avg_psnr_ct_to_mri}\")"
      ],
      "metadata": {
        "colab": {
          "base_uri": "https://localhost:8080/"
        },
        "id": "YC8bqNf_lrG9",
        "outputId": "807c72ce-a564-4d75-da64-df2170d05e4b"
      },
      "execution_count": null,
      "outputs": [
        {
          "output_type": "stream",
          "name": "stdout",
          "text": [
            "MRI to CT - SSIM: 0.38917426268259686, PSNR: 5.718809286753337\n",
            "CT to MRI - SSIM: 0.5082509318987528, PSNR: 8.227468490600586\n"
          ]
        }
      ]
    },
    {
      "cell_type": "code",
      "source": [
        "import torch\n",
        "import torchmetrics.image as tmi\n",
        "\n",
        "# Define SSIM and PSNR metrics\n",
        "ssim_metric = tmi.StructuralSimilarityIndexMeasure(data_range=1.0).to(device)\n",
        "psnr_metric = tmi.PeakSignalNoiseRatio(data_range=1.0).to(device)\n",
        "\n",
        "# Function to compute SSIM and PSNR using torchmetrics\n",
        "def compute_ssim_psnr(real_img, fake_img):\n",
        "    ssim_score = ssim_metric(fake_img, real_img)\n",
        "    psnr_score = psnr_metric(fake_img, real_img)\n",
        "    return ssim_score.item(), psnr_score.item()\n"
      ],
      "metadata": {
        "id": "9L6w6ITCv57k"
      },
      "execution_count": null,
      "outputs": []
    },
    {
      "cell_type": "code",
      "source": [
        "def evaluate_model(generator, dataloader, device):\n",
        "    ssim_scores = []\n",
        "    psnr_scores = []\n",
        "\n",
        "    generator.eval()\n",
        "\n",
        "    with torch.no_grad():\n",
        "        for real_img, _ in dataloader:\n",
        "            real_img = real_img.to(device)\n",
        "            fake_img = generator(real_img)\n",
        "\n",
        "            # Compute SSIM and PSNR\n",
        "            ssim_score, psnr_score = compute_ssim_psnr(real_img, fake_img)\n",
        "\n",
        "            ssim_scores.append(ssim_score)\n",
        "            psnr_scores.append(psnr_score)\n",
        "\n",
        "    # Compute average SSIM and PSNR\n",
        "    avg_ssim = np.mean(ssim_scores)\n",
        "    avg_psnr = np.mean(psnr_scores)\n",
        "\n",
        "    return avg_ssim, avg_psnr\n"
      ],
      "metadata": {
        "id": "wq91W23-wbhO"
      },
      "execution_count": null,
      "outputs": []
    },
    {
      "cell_type": "markdown",
      "source": [
        "Result - Ablation Study - III"
      ],
      "metadata": {
        "id": "PfWF38ADgwbV"
      }
    },
    {
      "cell_type": "code",
      "source": [
        "# Define validation dataloaders\n",
        "val_mr_dataloader = DataLoader(val_mr_dataset, batch_size=batch_size, shuffle=False, num_workers=2)\n",
        "val_ct_dataloader = DataLoader(val_ct_dataset, batch_size=batch_size, shuffle=False, num_workers=2)\n",
        "\n",
        "# Evaluate MRI to CT generator\n",
        "avg_ssim_mri_to_ct, avg_psnr_mri_to_ct = evaluate_model(G_MRI_to_CT, val_mr_dataloader, device)\n",
        "print(f\"MRI to CT - SSIM: {avg_ssim_mri_to_ct}, PSNR: {avg_psnr_mri_to_ct}\")\n",
        "\n",
        "# Evaluate CT to MRI generator\n",
        "avg_ssim_ct_to_mri, avg_psnr_ct_to_mri = evaluate_model(G_CT_to_MRI, val_ct_dataloader, device)\n",
        "print(f\"CT to MRI - SSIM: {avg_ssim_ct_to_mri}, PSNR: {avg_psnr_ct_to_mri}\")\n"
      ],
      "metadata": {
        "colab": {
          "base_uri": "https://localhost:8080/"
        },
        "id": "7lNQdvqBwcV6",
        "outputId": "86c282b8-0cd5-4328-e31f-c9ef555e7f6a"
      },
      "execution_count": null,
      "outputs": [
        {
          "output_type": "stream",
          "name": "stdout",
          "text": [
            "MRI to CT - SSIM: 0.4133886396884918, PSNR: 5.906961441040039\n",
            "CT to MRI - SSIM: 0.5284612476825714, PSNR: 8.28885793685913\n"
          ]
        }
      ]
    }
  ],
  "metadata": {
    "accelerator": "GPU",
    "colab": {
      "gpuType": "L4",
      "machine_shape": "hm",
      "provenance": []
    },
    "kernelspec": {
      "display_name": "Python 3",
      "name": "python3"
    },
    "language_info": {
      "name": "python"
    }
  },
  "nbformat": 4,
  "nbformat_minor": 0
}